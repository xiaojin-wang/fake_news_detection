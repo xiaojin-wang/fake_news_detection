{
 "cells": [
  {
   "cell_type": "code",
   "execution_count": 1,
   "id": "7f97782c",
   "metadata": {
    "pycharm": {
     "name": "#%%\n"
    }
   },
   "outputs": [
    {
     "name": "stderr",
     "output_type": "stream",
     "text": [
      "21/10/22 01:08:50 WARN NativeCodeLoader: Unable to load native-hadoop library for your platform... using builtin-java classes where applicable\n",
      "Using Spark's default log4j profile: org/apache/spark/log4j-defaults.properties\n",
      "Setting default log level to \"WARN\".\n",
      "To adjust logging level use sc.setLogLevel(newLevel). For SparkR, use setLogLevel(newLevel).\n"
     ]
    }
   ],
   "source": [
    "from pyspark import SparkContext\n",
    "from pyspark.sql import SparkSession\n",
    "\n",
    "import pyspark.ml.feature\n",
    "from pyspark.ml.feature import Tokenizer,StopWordsRemover,CountVectorizer,IDF\n",
    "from pyspark.ml.linalg import Vectors\n",
    "from pyspark.ml.feature import VectorAssembler\n",
    "from pyspark.ml.classification import LogisticRegression\n",
    "from pyspark.ml.classification import GBTClassifier\n",
    "\n",
    "from pyspark.ml import Pipeline \n",
    "\n",
    "from pyspark.ml.evaluation import MulticlassClassificationEvaluator\n",
    "\n",
    "\n",
    "import warnings\n",
    "warnings.filterwarnings(\"ignore\")\n",
    "#sc = SparkContext(master=\"local\")\n",
    "spark = SparkSession.builder.appName(\"Classifier\").config('spark.executor.memory','8G').config(\"spark.driver.memory\", \"8G\").getOrCreate()\n"
   ]
  },
  {
   "cell_type": "code",
   "execution_count": 2,
   "id": "fa344739",
   "metadata": {},
   "outputs": [
    {
     "name": "stderr",
     "output_type": "stream",
     "text": []
    }
   ],
   "source": [
    "df = spark.read.csv(\"gossipcop_news.csv\",header=True, sep = ',',multiLine=True, escape = \"\\\"\",inferSchema =True)"
   ]
  },
  {
   "cell_type": "code",
   "execution_count": 3,
   "id": "a604ae2d",
   "metadata": {},
   "outputs": [
    {
     "data": {
      "text/plain": [
       "['ABCMeta',\n",
       " 'ArrayType',\n",
       " 'BinaryLogisticRegressionSummary',\n",
       " 'BinaryLogisticRegressionTrainingSummary',\n",
       " 'BinaryRandomForestClassificationSummary',\n",
       " 'BinaryRandomForestClassificationTrainingSummary',\n",
       " 'ClassificationModel',\n",
       " 'Classifier',\n",
       " 'DataFrame',\n",
       " 'DecisionTreeClassificationModel',\n",
       " 'DecisionTreeClassifier',\n",
       " 'DecisionTreeRegressionModel',\n",
       " 'DefaultParamsReader',\n",
       " 'DefaultParamsWriter',\n",
       " 'DoubleType',\n",
       " 'Estimator',\n",
       " 'FMClassificationModel',\n",
       " 'FMClassificationSummary',\n",
       " 'FMClassificationTrainingSummary',\n",
       " 'FMClassifier',\n",
       " 'GBTClassificationModel',\n",
       " 'GBTClassifier',\n",
       " 'HasAggregationDepth',\n",
       " 'HasBlockSize',\n",
       " 'HasElasticNetParam',\n",
       " 'HasFitIntercept',\n",
       " 'HasMaxBlockSizeInMB',\n",
       " 'HasMaxIter',\n",
       " 'HasParallelism',\n",
       " 'HasProbabilityCol',\n",
       " 'HasRawPredictionCol',\n",
       " 'HasRegParam',\n",
       " 'HasSeed',\n",
       " 'HasSolver',\n",
       " 'HasStandardization',\n",
       " 'HasStepSize',\n",
       " 'HasThreshold',\n",
       " 'HasThresholds',\n",
       " 'HasTol',\n",
       " 'HasTrainingSummary',\n",
       " 'HasWeightCol',\n",
       " 'JavaMLReadable',\n",
       " 'JavaMLReader',\n",
       " 'JavaMLWritable',\n",
       " 'JavaMLWriter',\n",
       " 'JavaParams',\n",
       " 'JavaPredictionModel',\n",
       " 'JavaPredictor',\n",
       " 'JavaWrapper',\n",
       " 'LinearSVC',\n",
       " 'LinearSVCModel',\n",
       " 'LinearSVCSummary',\n",
       " 'LinearSVCTrainingSummary',\n",
       " 'LogisticRegression',\n",
       " 'LogisticRegressionModel',\n",
       " 'LogisticRegressionSummary',\n",
       " 'LogisticRegressionTrainingSummary',\n",
       " 'MLReadable',\n",
       " 'MLReader',\n",
       " 'MLWritable',\n",
       " 'MLWriter',\n",
       " 'Model',\n",
       " 'MultilayerPerceptronClassificationModel',\n",
       " 'MultilayerPerceptronClassificationSummary',\n",
       " 'MultilayerPerceptronClassificationTrainingSummary',\n",
       " 'MultilayerPerceptronClassifier',\n",
       " 'NaiveBayes',\n",
       " 'NaiveBayesModel',\n",
       " 'OneVsRest',\n",
       " 'OneVsRestModel',\n",
       " 'OneVsRestModelReader',\n",
       " 'OneVsRestModelWriter',\n",
       " 'OneVsRestReader',\n",
       " 'OneVsRestWriter',\n",
       " 'Param',\n",
       " 'Params',\n",
       " 'PredictionModel',\n",
       " 'Predictor',\n",
       " 'ProbabilisticClassificationModel',\n",
       " 'ProbabilisticClassifier',\n",
       " 'RandomForestClassificationModel',\n",
       " 'RandomForestClassificationSummary',\n",
       " 'RandomForestClassificationTrainingSummary',\n",
       " 'RandomForestClassifier',\n",
       " 'SparkContext',\n",
       " 'StorageLevel',\n",
       " 'ThreadPool',\n",
       " 'TypeConverters',\n",
       " 'VectorUDT',\n",
       " 'Vectors',\n",
       " '_BinaryClassificationSummary',\n",
       " '_ClassificationSummary',\n",
       " '_ClassifierParams',\n",
       " '_DecisionTreeClassifierParams',\n",
       " '_DecisionTreeModel',\n",
       " '_DecisionTreeParams',\n",
       " '_FactorizationMachinesParams',\n",
       " '_GBTClassifierParams',\n",
       " '_GBTParams',\n",
       " '_HasVarianceImpurity',\n",
       " '_JavaClassificationModel',\n",
       " '_JavaClassifier',\n",
       " '_JavaProbabilisticClassificationModel',\n",
       " '_JavaProbabilisticClassifier',\n",
       " '_LinearSVCParams',\n",
       " '_LogisticRegressionParams',\n",
       " '_MultilayerPerceptronParams',\n",
       " '_NaiveBayesParams',\n",
       " '_OneVsRestParams',\n",
       " '_OneVsRestSharedReadWrite',\n",
       " '_PredictorParams',\n",
       " '_ProbabilisticClassifierParams',\n",
       " '_RandomForestClassifierParams',\n",
       " '_RandomForestParams',\n",
       " '_TrainingSummary',\n",
       " '_TreeClassifierParams',\n",
       " '_TreeEnsembleModel',\n",
       " '__all__',\n",
       " '__builtins__',\n",
       " '__cached__',\n",
       " '__doc__',\n",
       " '__file__',\n",
       " '__loader__',\n",
       " '__name__',\n",
       " '__package__',\n",
       " '__spec__',\n",
       " 'abstractmethod',\n",
       " 'abstractproperty',\n",
       " 'inherit_doc',\n",
       " 'keyword_only',\n",
       " 'operator',\n",
       " 'os',\n",
       " 'since',\n",
       " 'sys',\n",
       " 'udf',\n",
       " 'uuid',\n",
       " 'warnings',\n",
       " 'when']"
      ]
     },
     "execution_count": 3,
     "metadata": {},
     "output_type": "execute_result"
    }
   ],
   "source": [
    "dir(pyspark.ml.classification)"
   ]
  },
  {
   "cell_type": "code",
   "execution_count": 4,
   "id": "fa12ca96",
   "metadata": {},
   "outputs": [
    {
     "data": {
      "text/plain": [
       "[('news_id', 'bigint'),\n",
       " ('url', 'string'),\n",
       " ('text', 'string'),\n",
       " ('num_images', 'int'),\n",
       " ('domain', 'string'),\n",
       " ('publish_date', 'string'),\n",
       " ('fake', 'int'),\n",
       " ('authors', 'string')]"
      ]
     },
     "execution_count": 4,
     "metadata": {},
     "output_type": "execute_result"
    }
   ],
   "source": [
    "df.dtypes"
   ]
  },
  {
   "cell_type": "code",
   "execution_count": 5,
   "id": "b1eb3059",
   "metadata": {},
   "outputs": [],
   "source": [
    "df_v = df.select('text','num_images','domain','publish_date','fake')"
   ]
  },
  {
   "cell_type": "code",
   "execution_count": null,
   "id": "b2922a6f",
   "metadata": {},
   "outputs": [],
   "source": []
  },
  {
   "cell_type": "code",
   "execution_count": 6,
   "id": "890ba2e6",
   "metadata": {},
   "outputs": [],
   "source": [
    "df_v = df_v.dropna(subset=('text'))\n",
    "df_v = df_v.dropna(subset=('domain'))"
   ]
  },
  {
   "cell_type": "code",
   "execution_count": 7,
   "id": "01655cd7",
   "metadata": {},
   "outputs": [
    {
     "data": {
      "text/plain": [
       "17559"
      ]
     },
     "execution_count": 7,
     "metadata": {},
     "output_type": "execute_result"
    }
   ],
   "source": [
    "df_v.count()"
   ]
  },
  {
   "cell_type": "code",
   "execution_count": 8,
   "id": "c93c0268",
   "metadata": {},
   "outputs": [],
   "source": [
    "tokenizer_text = Tokenizer(inputCol='text',outputCol='text1')\n",
    "stopwords_remover_text = StopWordsRemover(inputCol='text1',outputCol='text2')\n",
    "vectorizer_text = CountVectorizer(inputCol='text2',outputCol='text3')\n",
    "idf_text = IDF(inputCol='text3',outputCol='text_vc')"
   ]
  },
  {
   "cell_type": "code",
   "execution_count": 9,
   "id": "563d573c",
   "metadata": {},
   "outputs": [],
   "source": [
    "tokenizer_domain = Tokenizer(inputCol='domain',outputCol='domain1')\n",
    "stopwords_remover_domain = StopWordsRemover(inputCol='domain1',outputCol='domain2')\n",
    "vectorizer_domain = CountVectorizer(inputCol='domain2',outputCol='domain3')\n",
    "idf_domain = IDF(inputCol='domain3',outputCol='domain_vc')"
   ]
  },
  {
   "cell_type": "code",
   "execution_count": 10,
   "id": "828782bc",
   "metadata": {},
   "outputs": [],
   "source": [
    "(trainDF,testDF) = df_v.randomSplit((0.7,0.3),seed=42)"
   ]
  },
  {
   "cell_type": "code",
   "execution_count": 11,
   "id": "e920ed97",
   "metadata": {},
   "outputs": [
    {
     "data": {
      "text/plain": [
       "DataFrame[text: string, num_images: int, domain: string, publish_date: string, fake: int]"
      ]
     },
     "execution_count": 11,
     "metadata": {},
     "output_type": "execute_result"
    }
   ],
   "source": [
    "trainDF"
   ]
  },
  {
   "cell_type": "code",
   "execution_count": 12,
   "id": "b4cc58cd",
   "metadata": {},
   "outputs": [],
   "source": [
    "assembler = VectorAssembler(inputCols=['text_vc','domain_vc','num_images'],outputCol=\"features\")"
   ]
  },
  {
   "cell_type": "code",
   "execution_count": 13,
   "id": "d772e823",
   "metadata": {
    "scrolled": true
   },
   "outputs": [],
   "source": [
    "lr = LogisticRegression(featuresCol='features',labelCol='fake')"
   ]
  },
  {
   "cell_type": "code",
   "execution_count": 14,
   "id": "815c224d",
   "metadata": {},
   "outputs": [],
   "source": [
    "gbt = GBTClassifier(featuresCol='features',labelCol='fake')"
   ]
  },
  {
   "cell_type": "code",
   "execution_count": 15,
   "id": "853acd6a",
   "metadata": {},
   "outputs": [],
   "source": [
    "pipeline = Pipeline(stages=[tokenizer_text,stopwords_remover_text,vectorizer_text,idf_text,\n",
    "                            tokenizer_domain,stopwords_remover_domain,vectorizer_domain,idf_domain,\n",
    "                            assembler,gbt])"
   ]
  },
  {
   "cell_type": "code",
   "execution_count": null,
   "id": "6086753d",
   "metadata": {},
   "outputs": [],
   "source": []
  },
  {
   "cell_type": "code",
   "execution_count": 16,
   "id": "4e85f2b1",
   "metadata": {
    "pycharm": {
     "is_executing": true
    }
   },
   "outputs": [
    {
     "name": "stderr",
     "output_type": "stream",
     "text": [
      "21/10/22 01:09:12 WARN DAGScheduler: Broadcasting large task binary with size 3.1 MiB\n",
      "21/10/22 01:09:26 WARN DAGScheduler: Broadcasting large task binary with size 21.6 MiB\n",
      "21/10/22 01:09:28 WARN DAGScheduler: Broadcasting large task binary with size 21.6 MiB\n",
      "21/10/22 01:09:37 WARN DAGScheduler: Broadcasting large task binary with size 24.2 MiB\n",
      "21/10/22 01:12:09 WARN DAGScheduler: Broadcasting large task binary with size 1038.2 KiB\n",
      "21/10/22 01:12:16 WARN DAGScheduler: Broadcasting large task binary with size 28.5 MiB\n",
      "21/10/22 01:12:36 WARN MemoryStore: Not enough space to cache rdd_70_0 in memory! (computed 3.3 GiB so far)\n",
      "21/10/22 01:12:37 WARN BlockManager: Persisting block rdd_70_0 to disk instead.\n",
      "21/10/22 01:13:38 WARN MemoryStore: Not enough space to cache rdd_70_0 in memory! (computed 3.3 GiB so far)\n",
      "21/10/22 01:13:39 WARN MemoryStore: Not enough space to cache rdd_70_0 in memory! (computed 632.6 MiB so far)\n",
      "21/10/22 01:14:16 WARN DAGScheduler: Broadcasting large task binary with size 28.5 MiB\n",
      "21/10/22 01:14:23 WARN MemoryStore: Not enough space to cache rdd_70_0 in memory! (computed 3.3 GiB so far)\n",
      "21/10/22 01:14:50 WARN DAGScheduler: Broadcasting large task binary with size 28.5 MiB\n",
      "21/10/22 01:14:54 WARN MemoryStore: Not enough space to cache rdd_70_0 in memory! (computed 3.3 GiB so far)\n",
      "21/10/22 01:15:20 WARN DAGScheduler: Broadcasting large task binary with size 28.5 MiB\n",
      "21/10/22 01:15:23 WARN MemoryStore: Not enough space to cache rdd_70_0 in memory! (computed 3.3 GiB so far)\n",
      "21/10/22 01:15:51 WARN DAGScheduler: Broadcasting large task binary with size 28.5 MiB\n",
      "21/10/22 01:15:55 WARN MemoryStore: Not enough space to cache rdd_70_0 in memory! (computed 3.3 GiB so far)\n",
      "21/10/22 01:16:24 WARN DAGScheduler: Broadcasting large task binary with size 28.5 MiB\n",
      "21/10/22 01:16:29 WARN MemoryStore: Not enough space to cache rdd_70_0 in memory! (computed 3.3 GiB so far)\n",
      "21/10/22 01:16:30 WARN MemoryStore: Not enough space to cache rdd_70_0 in memory! (computed 632.6 MiB so far)\n",
      "21/10/22 01:16:30 WARN MemoryStore: Not enough space to cache rdd_70_0 in memory! (computed 177.7 MiB so far)\n",
      "21/10/22 01:17:18 WARN DAGScheduler: Broadcasting large task binary with size 28.5 MiB\n",
      "21/10/22 01:17:23 WARN MemoryStore: Not enough space to cache rdd_70_0 in memory! (computed 3.3 GiB so far)\n",
      "21/10/22 01:17:49 WARN DAGScheduler: Broadcasting large task binary with size 28.5 MiB\n",
      "21/10/22 01:17:53 WARN MemoryStore: Not enough space to cache rdd_70_0 in memory! (computed 3.3 GiB so far)\n",
      "21/10/22 01:18:20 WARN DAGScheduler: Broadcasting large task binary with size 28.5 MiB\n",
      "21/10/22 01:18:23 WARN MemoryStore: Not enough space to cache rdd_70_0 in memory! (computed 3.3 GiB so far)\n",
      "21/10/22 01:18:50 WARN DAGScheduler: Broadcasting large task binary with size 28.5 MiB\n",
      "21/10/22 01:18:55 WARN MemoryStore: Not enough space to cache rdd_70_0 in memory! (computed 3.3 GiB so far)\n",
      "21/10/22 01:19:22 WARN DAGScheduler: Broadcasting large task binary with size 28.5 MiB\n",
      "21/10/22 01:19:26 WARN MemoryStore: Not enough space to cache rdd_70_0 in memory! (computed 3.3 GiB so far)\n",
      "21/10/22 01:19:27 WARN MemoryStore: Not enough space to cache rdd_70_0 in memory! (computed 632.6 MiB so far)\n",
      "21/10/22 01:19:27 WARN MemoryStore: Not enough space to cache rdd_70_0 in memory! (computed 177.7 MiB so far)\n",
      "21/10/22 01:20:14 WARN DAGScheduler: Broadcasting large task binary with size 28.5 MiB\n",
      "21/10/22 01:20:18 WARN MemoryStore: Not enough space to cache rdd_70_0 in memory! (computed 3.3 GiB so far)\n",
      "21/10/22 01:20:44 WARN DAGScheduler: Broadcasting large task binary with size 28.5 MiB\n",
      "21/10/22 01:20:48 WARN MemoryStore: Not enough space to cache rdd_70_0 in memory! (computed 3.3 GiB so far)\n",
      "21/10/22 01:21:14 WARN DAGScheduler: Broadcasting large task binary with size 28.5 MiB\n",
      "21/10/22 01:21:18 WARN MemoryStore: Not enough space to cache rdd_70_0 in memory! (computed 3.3 GiB so far)\n",
      "21/10/22 01:21:44 WARN DAGScheduler: Broadcasting large task binary with size 28.5 MiB\n",
      "21/10/22 01:21:47 WARN MemoryStore: Not enough space to cache rdd_70_0 in memory! (computed 3.3 GiB so far)\n",
      "21/10/22 01:22:16 WARN DAGScheduler: Broadcasting large task binary with size 28.5 MiB\n",
      "21/10/22 01:22:19 WARN MemoryStore: Not enough space to cache rdd_70_0 in memory! (computed 3.3 GiB so far)\n",
      "21/10/22 01:22:20 WARN MemoryStore: Not enough space to cache rdd_70_0 in memory! (computed 632.6 MiB so far)\n",
      "21/10/22 01:22:20 WARN MemoryStore: Not enough space to cache rdd_70_0 in memory! (computed 177.7 MiB so far)\n",
      "21/10/22 01:23:08 WARN DAGScheduler: Broadcasting large task binary with size 28.5 MiB\n",
      "21/10/22 01:23:12 WARN MemoryStore: Not enough space to cache rdd_70_0 in memory! (computed 3.3 GiB so far)\n",
      "21/10/22 01:23:38 WARN DAGScheduler: Broadcasting large task binary with size 28.5 MiB\n",
      "21/10/22 01:23:42 WARN MemoryStore: Not enough space to cache rdd_70_0 in memory! (computed 3.3 GiB so far)\n",
      "21/10/22 01:24:08 WARN DAGScheduler: Broadcasting large task binary with size 28.5 MiB\n",
      "21/10/22 01:24:12 WARN MemoryStore: Not enough space to cache rdd_70_0 in memory! (computed 3.3 GiB so far)\n",
      "21/10/22 01:24:38 WARN DAGScheduler: Broadcasting large task binary with size 28.6 MiB\n",
      "21/10/22 01:24:42 WARN MemoryStore: Not enough space to cache rdd_70_0 in memory! (computed 3.3 GiB so far)\n",
      "21/10/22 01:25:11 WARN DAGScheduler: Broadcasting large task binary with size 28.6 MiB\n",
      "21/10/22 01:25:14 WARN MemoryStore: Not enough space to cache rdd_70_0 in memory! (computed 3.3 GiB so far)\n",
      "21/10/22 01:25:15 WARN MemoryStore: Not enough space to cache rdd_70_0 in memory! (computed 632.6 MiB so far)\n",
      "21/10/22 01:25:15 WARN MemoryStore: Not enough space to cache rdd_70_0 in memory! (computed 177.7 MiB so far)\n",
      "21/10/22 01:25:58 WARN DAGScheduler: Broadcasting large task binary with size 28.6 MiB\n",
      "21/10/22 01:26:02 WARN MemoryStore: Not enough space to cache rdd_70_0 in memory! (computed 3.3 GiB so far)\n",
      "21/10/22 01:26:27 WARN DAGScheduler: Broadcasting large task binary with size 28.6 MiB\n",
      "21/10/22 01:26:31 WARN MemoryStore: Not enough space to cache rdd_70_0 in memory! (computed 3.3 GiB so far)\n",
      "21/10/22 01:26:56 WARN DAGScheduler: Broadcasting large task binary with size 28.6 MiB\n",
      "21/10/22 01:26:59 WARN MemoryStore: Not enough space to cache rdd_70_0 in memory! (computed 3.3 GiB so far)\n",
      "21/10/22 01:27:26 WARN DAGScheduler: Broadcasting large task binary with size 28.6 MiB\n",
      "21/10/22 01:27:30 WARN MemoryStore: Not enough space to cache rdd_70_0 in memory! (computed 3.3 GiB so far)\n",
      "21/10/22 01:27:58 WARN DAGScheduler: Broadcasting large task binary with size 28.6 MiB\n",
      "21/10/22 01:28:02 WARN MemoryStore: Not enough space to cache rdd_70_0 in memory! (computed 3.3 GiB so far)\n",
      "21/10/22 01:28:02 WARN MemoryStore: Not enough space to cache rdd_70_0 in memory! (computed 632.6 MiB so far)\n",
      "21/10/22 01:28:03 WARN MemoryStore: Not enough space to cache rdd_70_0 in memory! (computed 177.7 MiB so far)\n",
      "21/10/22 01:28:47 WARN DAGScheduler: Broadcasting large task binary with size 28.6 MiB\n",
      "21/10/22 01:28:51 WARN MemoryStore: Not enough space to cache rdd_70_0 in memory! (computed 3.3 GiB so far)\n",
      "21/10/22 01:29:16 WARN DAGScheduler: Broadcasting large task binary with size 28.6 MiB\n",
      "21/10/22 01:29:20 WARN MemoryStore: Not enough space to cache rdd_70_0 in memory! (computed 3.3 GiB so far)\n",
      "21/10/22 01:29:46 WARN DAGScheduler: Broadcasting large task binary with size 28.6 MiB\n",
      "21/10/22 01:29:49 WARN MemoryStore: Not enough space to cache rdd_70_0 in memory! (computed 3.3 GiB so far)\n",
      "21/10/22 01:30:16 WARN DAGScheduler: Broadcasting large task binary with size 28.6 MiB\n",
      "21/10/22 01:30:20 WARN MemoryStore: Not enough space to cache rdd_70_0 in memory! (computed 3.3 GiB so far)\n",
      "21/10/22 01:30:48 WARN DAGScheduler: Broadcasting large task binary with size 28.6 MiB\n",
      "21/10/22 01:30:51 WARN MemoryStore: Not enough space to cache rdd_70_0 in memory! (computed 3.3 GiB so far)\n",
      "21/10/22 01:30:52 WARN MemoryStore: Not enough space to cache rdd_70_0 in memory! (computed 632.6 MiB so far)\n",
      "21/10/22 01:30:52 WARN MemoryStore: Not enough space to cache rdd_70_0 in memory! (computed 177.7 MiB so far)\n",
      "21/10/22 01:31:40 WARN DAGScheduler: Broadcasting large task binary with size 28.6 MiB\n",
      "21/10/22 01:31:44 WARN MemoryStore: Not enough space to cache rdd_70_0 in memory! (computed 3.3 GiB so far)\n",
      "21/10/22 01:32:11 WARN DAGScheduler: Broadcasting large task binary with size 28.6 MiB\n",
      "21/10/22 01:32:15 WARN MemoryStore: Not enough space to cache rdd_70_0 in memory! (computed 3.3 GiB so far)\n",
      "21/10/22 01:32:41 WARN DAGScheduler: Broadcasting large task binary with size 28.6 MiB\n",
      "21/10/22 01:32:45 WARN MemoryStore: Not enough space to cache rdd_70_0 in memory! (computed 3.3 GiB so far)\n",
      "21/10/22 01:33:11 WARN DAGScheduler: Broadcasting large task binary with size 28.6 MiB\n",
      "21/10/22 01:33:15 WARN MemoryStore: Not enough space to cache rdd_70_0 in memory! (computed 3.3 GiB so far)\n",
      "21/10/22 01:33:42 WARN DAGScheduler: Broadcasting large task binary with size 28.6 MiB\n",
      "21/10/22 01:33:45 WARN MemoryStore: Not enough space to cache rdd_70_0 in memory! (computed 3.3 GiB so far)\n",
      "21/10/22 01:33:46 WARN MemoryStore: Not enough space to cache rdd_70_0 in memory! (computed 632.6 MiB so far)\n",
      "21/10/22 01:33:46 WARN MemoryStore: Not enough space to cache rdd_70_0 in memory! (computed 177.7 MiB so far)\n",
      "21/10/22 01:34:32 WARN DAGScheduler: Broadcasting large task binary with size 28.6 MiB\n",
      "21/10/22 01:34:36 WARN MemoryStore: Not enough space to cache rdd_70_0 in memory! (computed 3.3 GiB so far)\n",
      "21/10/22 01:35:03 WARN DAGScheduler: Broadcasting large task binary with size 28.6 MiB\n",
      "21/10/22 01:35:07 WARN MemoryStore: Not enough space to cache rdd_70_0 in memory! (computed 3.3 GiB so far)\n",
      "21/10/22 01:35:34 WARN DAGScheduler: Broadcasting large task binary with size 28.6 MiB\n",
      "21/10/22 01:35:37 WARN MemoryStore: Not enough space to cache rdd_70_0 in memory! (computed 3.3 GiB so far)\n",
      "21/10/22 01:36:05 WARN DAGScheduler: Broadcasting large task binary with size 28.6 MiB\n",
      "21/10/22 01:36:09 WARN MemoryStore: Not enough space to cache rdd_70_0 in memory! (computed 3.3 GiB so far)\n",
      "21/10/22 01:36:37 WARN DAGScheduler: Broadcasting large task binary with size 28.6 MiB\n",
      "21/10/22 01:36:41 WARN MemoryStore: Not enough space to cache rdd_70_0 in memory! (computed 3.3 GiB so far)\n",
      "21/10/22 01:36:42 WARN MemoryStore: Not enough space to cache rdd_70_0 in memory! (computed 632.6 MiB so far)\n",
      "21/10/22 01:36:42 WARN MemoryStore: Not enough space to cache rdd_70_0 in memory! (computed 177.7 MiB so far)\n",
      "21/10/22 01:37:27 WARN DAGScheduler: Broadcasting large task binary with size 28.6 MiB\n",
      "21/10/22 01:37:31 WARN MemoryStore: Not enough space to cache rdd_70_0 in memory! (computed 3.3 GiB so far)\n",
      "21/10/22 01:37:57 WARN DAGScheduler: Broadcasting large task binary with size 28.6 MiB\n",
      "21/10/22 01:38:01 WARN MemoryStore: Not enough space to cache rdd_70_0 in memory! (computed 3.3 GiB so far)\n",
      "21/10/22 01:38:28 WARN DAGScheduler: Broadcasting large task binary with size 28.6 MiB\n",
      "21/10/22 01:38:31 WARN MemoryStore: Not enough space to cache rdd_70_0 in memory! (computed 3.3 GiB so far)\n",
      "21/10/22 01:38:59 WARN DAGScheduler: Broadcasting large task binary with size 28.6 MiB\n",
      "21/10/22 01:39:03 WARN MemoryStore: Not enough space to cache rdd_70_0 in memory! (computed 3.3 GiB so far)\n",
      "21/10/22 01:39:31 WARN DAGScheduler: Broadcasting large task binary with size 28.6 MiB\n",
      "21/10/22 01:39:34 WARN MemoryStore: Not enough space to cache rdd_70_0 in memory! (computed 3.3 GiB so far)\n",
      "21/10/22 01:39:35 WARN MemoryStore: Not enough space to cache rdd_70_0 in memory! (computed 632.6 MiB so far)\n",
      "21/10/22 01:39:35 WARN MemoryStore: Not enough space to cache rdd_70_0 in memory! (computed 177.7 MiB so far)\n",
      "21/10/22 01:40:21 WARN DAGScheduler: Broadcasting large task binary with size 28.6 MiB\n",
      "21/10/22 01:40:25 WARN MemoryStore: Not enough space to cache rdd_70_0 in memory! (computed 3.3 GiB so far)\n",
      "21/10/22 01:40:50 WARN DAGScheduler: Broadcasting large task binary with size 28.6 MiB\n",
      "21/10/22 01:40:54 WARN MemoryStore: Not enough space to cache rdd_70_0 in memory! (computed 3.3 GiB so far)\n",
      "21/10/22 01:41:19 WARN DAGScheduler: Broadcasting large task binary with size 28.6 MiB\n",
      "21/10/22 01:41:23 WARN MemoryStore: Not enough space to cache rdd_70_0 in memory! (computed 3.3 GiB so far)\n",
      "21/10/22 01:41:49 WARN DAGScheduler: Broadcasting large task binary with size 28.6 MiB\n",
      "21/10/22 01:41:52 WARN MemoryStore: Not enough space to cache rdd_70_0 in memory! (computed 3.3 GiB so far)\n",
      "21/10/22 01:42:19 WARN DAGScheduler: Broadcasting large task binary with size 28.6 MiB\n",
      "21/10/22 01:42:23 WARN MemoryStore: Not enough space to cache rdd_70_0 in memory! (computed 3.3 GiB so far)\n",
      "21/10/22 01:42:24 WARN MemoryStore: Not enough space to cache rdd_70_0 in memory! (computed 632.6 MiB so far)\n",
      "21/10/22 01:42:24 WARN MemoryStore: Not enough space to cache rdd_70_0 in memory! (computed 177.7 MiB so far)\n",
      "21/10/22 01:43:08 WARN DAGScheduler: Broadcasting large task binary with size 28.6 MiB\n",
      "21/10/22 01:43:11 WARN MemoryStore: Not enough space to cache rdd_70_0 in memory! (computed 3.3 GiB so far)\n",
      "21/10/22 01:43:36 WARN DAGScheduler: Broadcasting large task binary with size 28.6 MiB\n",
      "21/10/22 01:43:40 WARN MemoryStore: Not enough space to cache rdd_70_0 in memory! (computed 3.3 GiB so far)\n",
      "21/10/22 01:44:06 WARN DAGScheduler: Broadcasting large task binary with size 28.6 MiB\n",
      "21/10/22 01:44:09 WARN MemoryStore: Not enough space to cache rdd_70_0 in memory! (computed 3.3 GiB so far)\n",
      "21/10/22 01:44:36 WARN DAGScheduler: Broadcasting large task binary with size 28.6 MiB\n",
      "21/10/22 01:44:39 WARN MemoryStore: Not enough space to cache rdd_70_0 in memory! (computed 3.3 GiB so far)\n",
      "21/10/22 01:45:06 WARN DAGScheduler: Broadcasting large task binary with size 28.6 MiB\n",
      "21/10/22 01:45:10 WARN MemoryStore: Not enough space to cache rdd_70_0 in memory! (computed 3.3 GiB so far)\n",
      "21/10/22 01:45:10 WARN MemoryStore: Not enough space to cache rdd_70_0 in memory! (computed 632.6 MiB so far)\n",
      "21/10/22 01:45:10 WARN MemoryStore: Not enough space to cache rdd_70_0 in memory! (computed 177.7 MiB so far)\n",
      "21/10/22 01:45:54 WARN DAGScheduler: Broadcasting large task binary with size 28.6 MiB\n",
      "21/10/22 01:45:58 WARN MemoryStore: Not enough space to cache rdd_70_0 in memory! (computed 3.3 GiB so far)\n",
      "21/10/22 01:46:23 WARN DAGScheduler: Broadcasting large task binary with size 28.6 MiB\n",
      "21/10/22 01:46:27 WARN MemoryStore: Not enough space to cache rdd_70_0 in memory! (computed 3.3 GiB so far)\n",
      "21/10/22 01:46:52 WARN DAGScheduler: Broadcasting large task binary with size 28.6 MiB\n",
      "21/10/22 01:46:55 WARN MemoryStore: Not enough space to cache rdd_70_0 in memory! (computed 3.3 GiB so far)\n",
      "21/10/22 01:47:22 WARN DAGScheduler: Broadcasting large task binary with size 28.6 MiB\n",
      "21/10/22 01:47:25 WARN MemoryStore: Not enough space to cache rdd_70_0 in memory! (computed 3.3 GiB so far)\n",
      "21/10/22 01:47:53 WARN DAGScheduler: Broadcasting large task binary with size 28.6 MiB\n",
      "21/10/22 01:47:57 WARN MemoryStore: Not enough space to cache rdd_70_0 in memory! (computed 3.3 GiB so far)\n",
      "21/10/22 01:47:57 WARN MemoryStore: Not enough space to cache rdd_70_0 in memory! (computed 632.6 MiB so far)\n",
      "21/10/22 01:47:57 WARN MemoryStore: Not enough space to cache rdd_70_0 in memory! (computed 177.7 MiB so far)\n",
      "21/10/22 01:48:41 WARN DAGScheduler: Broadcasting large task binary with size 28.6 MiB\n",
      "21/10/22 01:48:45 WARN MemoryStore: Not enough space to cache rdd_70_0 in memory! (computed 3.3 GiB so far)\n",
      "21/10/22 01:49:10 WARN DAGScheduler: Broadcasting large task binary with size 28.6 MiB\n",
      "21/10/22 01:49:14 WARN MemoryStore: Not enough space to cache rdd_70_0 in memory! (computed 3.3 GiB so far)\n",
      "21/10/22 01:49:40 WARN DAGScheduler: Broadcasting large task binary with size 28.6 MiB\n",
      "21/10/22 01:49:44 WARN MemoryStore: Not enough space to cache rdd_70_0 in memory! (computed 3.3 GiB so far)\n",
      "21/10/22 01:50:10 WARN DAGScheduler: Broadcasting large task binary with size 28.6 MiB\n",
      "21/10/22 01:50:15 WARN MemoryStore: Not enough space to cache rdd_70_0 in memory! (computed 3.3 GiB so far)\n",
      "21/10/22 01:50:42 WARN DAGScheduler: Broadcasting large task binary with size 28.6 MiB\n",
      "21/10/22 01:50:46 WARN MemoryStore: Not enough space to cache rdd_70_0 in memory! (computed 3.3 GiB so far)\n",
      "21/10/22 01:50:47 WARN MemoryStore: Not enough space to cache rdd_70_0 in memory! (computed 632.6 MiB so far)\n",
      "21/10/22 01:50:47 WARN MemoryStore: Not enough space to cache rdd_70_0 in memory! (computed 177.7 MiB so far)\n",
      "21/10/22 01:51:30 WARN DAGScheduler: Broadcasting large task binary with size 28.6 MiB\n",
      "21/10/22 01:51:34 WARN MemoryStore: Not enough space to cache rdd_70_0 in memory! (computed 3.3 GiB so far)\n",
      "21/10/22 01:51:59 WARN DAGScheduler: Broadcasting large task binary with size 28.6 MiB\n",
      "21/10/22 01:52:03 WARN MemoryStore: Not enough space to cache rdd_70_0 in memory! (computed 3.3 GiB so far)\n",
      "21/10/22 01:52:28 WARN DAGScheduler: Broadcasting large task binary with size 28.6 MiB\n",
      "21/10/22 01:52:32 WARN MemoryStore: Not enough space to cache rdd_70_0 in memory! (computed 3.3 GiB so far)\n",
      "21/10/22 01:52:58 WARN DAGScheduler: Broadcasting large task binary with size 28.6 MiB\n",
      "21/10/22 01:53:02 WARN MemoryStore: Not enough space to cache rdd_70_0 in memory! (computed 3.3 GiB so far)\n",
      "21/10/22 01:53:28 WARN DAGScheduler: Broadcasting large task binary with size 28.6 MiB\n",
      "21/10/22 01:53:32 WARN MemoryStore: Not enough space to cache rdd_70_0 in memory! (computed 3.3 GiB so far)\n",
      "21/10/22 01:53:32 WARN MemoryStore: Not enough space to cache rdd_70_0 in memory! (computed 632.6 MiB so far)\n",
      "21/10/22 01:53:32 WARN MemoryStore: Not enough space to cache rdd_70_0 in memory! (computed 177.7 MiB so far)\n",
      "21/10/22 01:54:16 WARN DAGScheduler: Broadcasting large task binary with size 28.6 MiB\n",
      "21/10/22 01:54:19 WARN MemoryStore: Not enough space to cache rdd_70_0 in memory! (computed 3.3 GiB so far)\n",
      "21/10/22 01:54:44 WARN DAGScheduler: Broadcasting large task binary with size 28.6 MiB\n",
      "21/10/22 01:54:48 WARN MemoryStore: Not enough space to cache rdd_70_0 in memory! (computed 3.3 GiB so far)\n",
      "21/10/22 01:55:13 WARN DAGScheduler: Broadcasting large task binary with size 28.6 MiB\n",
      "21/10/22 01:55:17 WARN MemoryStore: Not enough space to cache rdd_70_0 in memory! (computed 3.3 GiB so far)\n",
      "21/10/22 01:55:44 WARN DAGScheduler: Broadcasting large task binary with size 28.6 MiB\n",
      "21/10/22 01:55:47 WARN MemoryStore: Not enough space to cache rdd_70_0 in memory! (computed 3.3 GiB so far)\n",
      "21/10/22 01:56:14 WARN DAGScheduler: Broadcasting large task binary with size 28.6 MiB\n",
      "21/10/22 01:56:18 WARN MemoryStore: Not enough space to cache rdd_70_0 in memory! (computed 3.3 GiB so far)\n",
      "21/10/22 01:56:18 WARN MemoryStore: Not enough space to cache rdd_70_0 in memory! (computed 632.6 MiB so far)\n",
      "21/10/22 01:56:19 WARN MemoryStore: Not enough space to cache rdd_70_0 in memory! (computed 177.7 MiB so far)\n",
      "21/10/22 01:57:02 WARN DAGScheduler: Broadcasting large task binary with size 28.6 MiB\n",
      "21/10/22 01:57:06 WARN MemoryStore: Not enough space to cache rdd_70_0 in memory! (computed 3.3 GiB so far)\n",
      "21/10/22 01:57:30 WARN DAGScheduler: Broadcasting large task binary with size 28.6 MiB\n",
      "21/10/22 01:57:34 WARN MemoryStore: Not enough space to cache rdd_70_0 in memory! (computed 3.3 GiB so far)\n",
      "21/10/22 01:57:59 WARN DAGScheduler: Broadcasting large task binary with size 28.6 MiB\n",
      "21/10/22 01:58:03 WARN MemoryStore: Not enough space to cache rdd_70_0 in memory! (computed 3.3 GiB so far)\n",
      "21/10/22 01:58:29 WARN DAGScheduler: Broadcasting large task binary with size 28.6 MiB\n",
      "21/10/22 01:58:32 WARN MemoryStore: Not enough space to cache rdd_70_0 in memory! (computed 3.3 GiB so far)\n",
      "21/10/22 01:58:58 WARN DAGScheduler: Broadcasting large task binary with size 28.6 MiB\n",
      "21/10/22 01:59:02 WARN MemoryStore: Not enough space to cache rdd_70_0 in memory! (computed 3.3 GiB so far)\n",
      "21/10/22 01:59:03 WARN MemoryStore: Not enough space to cache rdd_70_0 in memory! (computed 632.6 MiB so far)\n",
      "21/10/22 01:59:03 WARN MemoryStore: Not enough space to cache rdd_70_0 in memory! (computed 177.7 MiB so far)\n",
      "21/10/22 01:59:47 WARN DAGScheduler: Broadcasting large task binary with size 28.6 MiB\n",
      "21/10/22 01:59:51 WARN MemoryStore: Not enough space to cache rdd_70_0 in memory! (computed 3.3 GiB so far)\n",
      "21/10/22 02:00:16 WARN DAGScheduler: Broadcasting large task binary with size 28.6 MiB\n",
      "21/10/22 02:00:19 WARN MemoryStore: Not enough space to cache rdd_70_0 in memory! (computed 3.3 GiB so far)\n",
      "21/10/22 02:00:45 WARN DAGScheduler: Broadcasting large task binary with size 28.6 MiB\n",
      "21/10/22 02:00:48 WARN MemoryStore: Not enough space to cache rdd_70_0 in memory! (computed 3.3 GiB so far)\n",
      "21/10/22 02:01:14 WARN DAGScheduler: Broadcasting large task binary with size 28.6 MiB\n",
      "21/10/22 02:01:18 WARN MemoryStore: Not enough space to cache rdd_70_0 in memory! (computed 3.3 GiB so far)\n",
      "21/10/22 02:01:45 WARN DAGScheduler: Broadcasting large task binary with size 28.6 MiB\n",
      "21/10/22 02:01:48 WARN MemoryStore: Not enough space to cache rdd_70_0 in memory! (computed 3.3 GiB so far)\n",
      "21/10/22 02:01:49 WARN MemoryStore: Not enough space to cache rdd_70_0 in memory! (computed 632.6 MiB so far)\n",
      "21/10/22 02:01:49 WARN MemoryStore: Not enough space to cache rdd_70_0 in memory! (computed 177.7 MiB so far)\n",
      "21/10/22 02:02:33 WARN DAGScheduler: Broadcasting large task binary with size 28.6 MiB\n",
      "21/10/22 02:02:36 WARN MemoryStore: Not enough space to cache rdd_70_0 in memory! (computed 3.3 GiB so far)\n",
      "21/10/22 02:03:02 WARN DAGScheduler: Broadcasting large task binary with size 28.6 MiB\n",
      "21/10/22 02:03:06 WARN MemoryStore: Not enough space to cache rdd_70_0 in memory! (computed 3.3 GiB so far)\n",
      "21/10/22 02:03:31 WARN DAGScheduler: Broadcasting large task binary with size 28.6 MiB\n",
      "21/10/22 02:03:35 WARN MemoryStore: Not enough space to cache rdd_70_0 in memory! (computed 3.3 GiB so far)\n",
      "21/10/22 02:04:01 WARN DAGScheduler: Broadcasting large task binary with size 28.6 MiB\n",
      "21/10/22 02:04:05 WARN MemoryStore: Not enough space to cache rdd_70_0 in memory! (computed 3.3 GiB so far)\n",
      "21/10/22 02:04:32 WARN DAGScheduler: Broadcasting large task binary with size 28.6 MiB\n",
      "21/10/22 02:04:35 WARN MemoryStore: Not enough space to cache rdd_70_0 in memory! (computed 3.3 GiB so far)\n",
      "21/10/22 02:04:36 WARN MemoryStore: Not enough space to cache rdd_70_0 in memory! (computed 632.6 MiB so far)\n",
      "21/10/22 02:04:36 WARN MemoryStore: Not enough space to cache rdd_70_0 in memory! (computed 177.7 MiB so far)\n",
      "21/10/22 02:05:19 WARN DAGScheduler: Broadcasting large task binary with size 28.6 MiB\n",
      "21/10/22 02:05:23 WARN MemoryStore: Not enough space to cache rdd_70_0 in memory! (computed 3.3 GiB so far)\n",
      "21/10/22 02:05:48 WARN DAGScheduler: Broadcasting large task binary with size 28.6 MiB\n",
      "21/10/22 02:05:51 WARN MemoryStore: Not enough space to cache rdd_70_0 in memory! (computed 3.3 GiB so far)\n",
      "21/10/22 02:06:17 WARN DAGScheduler: Broadcasting large task binary with size 28.6 MiB\n",
      "21/10/22 02:06:20 WARN MemoryStore: Not enough space to cache rdd_70_0 in memory! (computed 3.3 GiB so far)\n",
      "21/10/22 02:06:46 WARN DAGScheduler: Broadcasting large task binary with size 28.6 MiB\n",
      "21/10/22 02:06:50 WARN MemoryStore: Not enough space to cache rdd_70_0 in memory! (computed 3.3 GiB so far)\n",
      "21/10/22 02:07:18 WARN DAGScheduler: Broadcasting large task binary with size 28.6 MiB\n",
      "21/10/22 02:07:22 WARN MemoryStore: Not enough space to cache rdd_70_0 in memory! (computed 3.3 GiB so far)\n",
      "21/10/22 02:07:22 WARN MemoryStore: Not enough space to cache rdd_70_0 in memory! (computed 632.6 MiB so far)\n",
      "21/10/22 02:07:22 WARN MemoryStore: Not enough space to cache rdd_70_0 in memory! (computed 177.7 MiB so far)\n",
      "21/10/22 02:08:06 WARN DAGScheduler: Broadcasting large task binary with size 28.6 MiB\n",
      "21/10/22 02:08:09 WARN MemoryStore: Not enough space to cache rdd_70_0 in memory! (computed 3.3 GiB so far)\n",
      "21/10/22 02:08:34 WARN DAGScheduler: Broadcasting large task binary with size 28.6 MiB\n",
      "21/10/22 02:08:38 WARN MemoryStore: Not enough space to cache rdd_70_0 in memory! (computed 3.3 GiB so far)\n",
      "21/10/22 02:09:03 WARN DAGScheduler: Broadcasting large task binary with size 28.6 MiB\n",
      "21/10/22 02:09:07 WARN MemoryStore: Not enough space to cache rdd_70_0 in memory! (computed 3.3 GiB so far)\n",
      "21/10/22 02:09:33 WARN DAGScheduler: Broadcasting large task binary with size 28.7 MiB\n",
      "21/10/22 02:09:37 WARN MemoryStore: Not enough space to cache rdd_70_0 in memory! (computed 3.3 GiB so far)\n"
     ]
    }
   ],
   "source": [
    "model = pipeline.fit(trainDF)"
   ]
  },
  {
   "cell_type": "code",
   "execution_count": 17,
   "id": "a3132b55",
   "metadata": {
    "pycharm": {
     "is_executing": true
    }
   },
   "outputs": [],
   "source": [
    "predictions = model.transform(testDF)"
   ]
  },
  {
   "cell_type": "code",
   "execution_count": 18,
   "id": "8f670363",
   "metadata": {
    "pycharm": {
     "is_executing": true
    }
   },
   "outputs": [],
   "source": [
    "predictions = predictions.select('fake','prediction')"
   ]
  },
  {
   "cell_type": "code",
   "execution_count": 19,
   "id": "952c29ff",
   "metadata": {
    "pycharm": {
     "is_executing": true
    }
   },
   "outputs": [],
   "source": [
    "evaluator_accuracy = MulticlassClassificationEvaluator(labelCol='fake',predictionCol='prediction',metricName='accuracy')\n",
    "evaluator_f1 = MulticlassClassificationEvaluator(labelCol='fake',predictionCol='prediction',metricName='f1')\n",
    "evaluator_precision = MulticlassClassificationEvaluator(labelCol='fake',predictionCol='prediction',metricName='weightedPrecision')\n",
    "evaluator_recall = MulticlassClassificationEvaluator(labelCol='fake',predictionCol='prediction',metricName='weightedRecall')"
   ]
  },
  {
   "cell_type": "code",
   "execution_count": 20,
   "id": "d38f82f9",
   "metadata": {
    "pycharm": {
     "is_executing": true
    }
   },
   "outputs": [
    {
     "name": "stderr",
     "output_type": "stream",
     "text": [
      "21/10/22 02:10:05 WARN DAGScheduler: Broadcasting large task binary with size 21.7 MiB\n",
      "21/10/22 02:10:07 WARN BLAS: Failed to load implementation from: com.github.fommil.netlib.NativeSystemBLAS\n",
      "21/10/22 02:10:07 WARN BLAS: Failed to load implementation from: com.github.fommil.netlib.NativeRefBLAS\n"
     ]
    },
    {
     "name": "stdout",
     "output_type": "stream",
     "text": [
      "Accuracy: 0.8336854234684079\n"
     ]
    },
    {
     "name": "stderr",
     "output_type": "stream",
     "text": [
      "21/10/22 02:10:10 WARN DAGScheduler: Broadcasting large task binary with size 21.7 MiB\n"
     ]
    },
    {
     "name": "stdout",
     "output_type": "stream",
     "text": [
      "F1: 0.8159009537884305\n"
     ]
    },
    {
     "name": "stderr",
     "output_type": "stream",
     "text": [
      "21/10/22 02:10:14 WARN DAGScheduler: Broadcasting large task binary with size 21.7 MiB\n"
     ]
    },
    {
     "name": "stdout",
     "output_type": "stream",
     "text": [
      "Precision: 0.8276618513792522\n"
     ]
    },
    {
     "name": "stderr",
     "output_type": "stream",
     "text": [
      "21/10/22 02:10:18 WARN DAGScheduler: Broadcasting large task binary with size 21.7 MiB\n"
     ]
    },
    {
     "name": "stdout",
     "output_type": "stream",
     "text": [
      "Recall: 0.8336854234684079\n"
     ]
    },
    {
     "name": "stderr",
     "output_type": "stream",
     "text": []
    }
   ],
   "source": [
    "print('Accuracy:', evaluator_accuracy.evaluate(predictions))\n",
    "print('F1:',evaluator_f1.evaluate(predictions))\n",
    "print('Precision:',evaluator_precision.evaluate(predictions))\n",
    "print('Recall:',evaluator_recall.evaluate(predictions))"
   ]
  },
  {
   "cell_type": "code",
   "execution_count": 21,
   "id": "3d1aa3c4",
   "metadata": {
    "pycharm": {
     "is_executing": true
    }
   },
   "outputs": [
    {
     "data": {
      "text/plain": [
       "5207"
      ]
     },
     "execution_count": 21,
     "metadata": {},
     "output_type": "execute_result"
    }
   ],
   "source": [
    "predictions.count()"
   ]
  },
  {
   "cell_type": "code",
   "execution_count": null,
   "id": "e60f0506",
   "metadata": {
    "pycharm": {
     "is_executing": true
    }
   },
   "outputs": [],
   "source": []
  }
 ],
 "metadata": {
  "interpreter": {
   "hash": "cd4b3cbc2e4b5e62ec39e2e605a557c785bc0e20381f0efb31a5162e9c9e6c88"
  },
  "kernelspec": {
   "display_name": "Python 3.8.5 64-bit ('pa1': conda)",
   "name": "python3"
  },
  "language_info": {
   "codemirror_mode": {
    "name": "ipython",
    "version": 3
   },
   "file_extension": ".py",
   "mimetype": "text/x-python",
   "name": "python",
   "nbconvert_exporter": "python",
   "pygments_lexer": "ipython3",
   "version": "3.8.5"
  }
 },
 "nbformat": 4,
 "nbformat_minor": 5
}
