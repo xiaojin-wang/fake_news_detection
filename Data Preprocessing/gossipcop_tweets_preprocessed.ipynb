{
 "cells": [
  {
   "cell_type": "code",
   "execution_count": 1,
   "metadata": {},
   "outputs": [],
   "source": [
    "import pandas as pd\n",
    "import numpy as np\n",
    "\n",
    "import warnings\n",
    "warnings.filterwarnings(\"ignore\")"
   ]
  },
  {
   "cell_type": "code",
   "execution_count": 2,
   "metadata": {},
   "outputs": [],
   "source": [
    "tweets = pd.read_csv('../data/gossipcop_tweets.csv')"
   ]
  },
  {
   "cell_type": "code",
   "execution_count": 3,
   "metadata": {},
   "outputs": [],
   "source": [
    "# tweet_id\n",
    "tweets = tweets[np.isnan(tweets.tweet_id) == False]\n",
    "tweets['tweet_id'] = tweets['tweet_id'].astype(int)"
   ]
  },
  {
   "cell_type": "code",
   "execution_count": 4,
   "metadata": {},
   "outputs": [],
   "source": [
    "# retweeted_id\n",
    "# tweets['retweeted_id'].value_counts()\n",
    "# print(len(tweets[tweets['retweeted_id'] == '0']))\n",
    "# print(len(tweets[tweets['retweeted_id'] == False]))\n",
    "tweets['retweeted_id'] = tweets['retweeted_id'].replace('0', False) # all with the same values and can be dropped\n",
    "tweets = tweets.drop('retweeted_id', axis = 1)"
   ]
  },
  {
   "cell_type": "code",
   "execution_count": 5,
   "metadata": {},
   "outputs": [],
   "source": [
    "# created_at\n",
    "def process_date(d):\n",
    "    try:\n",
    "        date = d.split(' ')\n",
    "        month = date[1]\n",
    "        day = date[2]\n",
    "        time = date[3]\n",
    "        year = date[-1]\n",
    "        return (pd.to_datetime(year + '-' + month + '-' + day + ' ' + time))\n",
    "    except:\n",
    "        pass\n",
    "\n",
    "#tweets.created_at = tweets.created_at.apply(process_date)"
   ]
  },
  {
   "cell_type": "code",
   "execution_count": 6,
   "metadata": {},
   "outputs": [],
   "source": [
    "# favorite_count\n",
    "tweets.favorite_count = tweets.favorite_count.astype(int)"
   ]
  },
  {
   "cell_type": "code",
   "execution_count": 7,
   "metadata": {},
   "outputs": [],
   "source": [
    "# retweet_count\n",
    "tweets.retweet_count = tweets.retweet_count.astype(int)"
   ]
  },
  {
   "cell_type": "code",
   "execution_count": 8,
   "metadata": {},
   "outputs": [],
   "source": [
    "# source\n",
    "def process_source(s):\n",
    "    try:\n",
    "        s = str(s).replace('</a>','')\n",
    "        s = s.split('>')[1]\n",
    "        return s\n",
    "    except:\n",
    "        pass\n",
    "    \n",
    "tweets.source = tweets.source.apply(process_source)"
   ]
  },
  {
   "cell_type": "code",
   "execution_count": 10,
   "metadata": {},
   "outputs": [],
   "source": [
    "outputpath='../data/gossipcop_tweets_processed.csv'\n",
    "tweets.to_csv(outputpath, index = False, header = True)"
   ]
  },
  {
   "cell_type": "code",
   "execution_count": null,
   "metadata": {},
   "outputs": [],
   "source": []
  }
 ],
 "metadata": {
  "kernelspec": {
   "display_name": "Python 3",
   "language": "python",
   "name": "python3"
  },
  "language_info": {
   "codemirror_mode": {
    "name": "ipython",
    "version": 3
   },
   "file_extension": ".py",
   "mimetype": "text/x-python",
   "name": "python",
   "nbconvert_exporter": "python",
   "pygments_lexer": "ipython3",
   "version": "3.8.5"
  }
 },
 "nbformat": 4,
 "nbformat_minor": 4
}
