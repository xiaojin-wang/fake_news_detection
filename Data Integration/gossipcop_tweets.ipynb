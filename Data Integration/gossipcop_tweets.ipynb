{
 "cells": [
  {
   "cell_type": "code",
   "execution_count": 1,
   "metadata": {},
   "outputs": [],
   "source": [
    "import pandas as pd\n",
    "import numpy as np\n",
    "import os\n",
    "from os import listdir"
   ]
  },
  {
   "cell_type": "code",
   "execution_count": 2,
   "metadata": {},
   "outputs": [],
   "source": [
    "df_tweets = pd.DataFrame()\n",
    "path = \"gossipcop/tweets/\"\n",
    "dirs = os.listdir(path)\n",
    "for file in dirs:\n",
    "    news_id = str(file).replace('gossipcop-','').replace('.csv','')\n",
    "    tweet  = pd.read_csv(os.path.join('gossipcop/tweets/', file))\n",
    "    df_tweet = pd.DataFrame(tweet)\n",
    "    df_tweet['news_id'] = news_id\n",
    "    if df_tweet.shape[0] != 0:\n",
    "        df_tweets = pd.concat([df_tweets, df_tweet])"
   ]
  },
  {
   "cell_type": "code",
   "execution_count": 3,
   "metadata": {},
   "outputs": [
    {
     "data": {
      "text/html": [
       "<div>\n",
       "<style scoped>\n",
       "    .dataframe tbody tr th:only-of-type {\n",
       "        vertical-align: middle;\n",
       "    }\n",
       "\n",
       "    .dataframe tbody tr th {\n",
       "        vertical-align: top;\n",
       "    }\n",
       "\n",
       "    .dataframe thead th {\n",
       "        text-align: right;\n",
       "    }\n",
       "</style>\n",
       "<table border=\"1\" class=\"dataframe\">\n",
       "  <thead>\n",
       "    <tr style=\"text-align: right;\">\n",
       "      <th></th>\n",
       "      <th>tweet_id</th>\n",
       "      <th>retweeted_id</th>\n",
       "      <th>created_at</th>\n",
       "      <th>favorite_count</th>\n",
       "      <th>retweet_count</th>\n",
       "      <th>user_id</th>\n",
       "      <th>location</th>\n",
       "      <th>verified</th>\n",
       "      <th>followers_count</th>\n",
       "      <th>source</th>\n",
       "      <th>text</th>\n",
       "      <th>fake</th>\n",
       "      <th>news_id</th>\n",
       "    </tr>\n",
       "  </thead>\n",
       "  <tbody>\n",
       "    <tr>\n",
       "      <th>0</th>\n",
       "      <td>8.537375e+17</td>\n",
       "      <td>0</td>\n",
       "      <td>Sun Apr 16 22:31:06 +0000 2017</td>\n",
       "      <td>0</td>\n",
       "      <td>0</td>\n",
       "      <td>527095730</td>\n",
       "      <td>Sydney, Australia</td>\n",
       "      <td>False</td>\n",
       "      <td>11062.0</td>\n",
       "      <td>&lt;a href=\"http://www.hootsuite.com\" rel=\"nofoll...</td>\n",
       "      <td>\"Bristol Palin Looks Ready to Pop as She Revea...</td>\n",
       "      <td>0.0</td>\n",
       "      <td>843836</td>\n",
       "    </tr>\n",
       "    <tr>\n",
       "      <th>1</th>\n",
       "      <td>8.537439e+17</td>\n",
       "      <td>0</td>\n",
       "      <td>Sun Apr 16 22:56:16 +0000 2017</td>\n",
       "      <td>0</td>\n",
       "      <td>0</td>\n",
       "      <td>230056211</td>\n",
       "      <td>NaN</td>\n",
       "      <td>False</td>\n",
       "      <td>297.0</td>\n",
       "      <td>&lt;a href=\"https://dlvrit.com/\" rel=\"nofollow\"&gt;d...</td>\n",
       "      <td>\"Bristol Palin Looks Ready to Pop as She Revea...</td>\n",
       "      <td>0.0</td>\n",
       "      <td>843836</td>\n",
       "    </tr>\n",
       "    <tr>\n",
       "      <th>2</th>\n",
       "      <td>8.538426e+17</td>\n",
       "      <td>0</td>\n",
       "      <td>Mon Apr 17 05:28:37 +0000 2017</td>\n",
       "      <td>0</td>\n",
       "      <td>0</td>\n",
       "      <td>23113271</td>\n",
       "      <td>Orem, Utah</td>\n",
       "      <td>False</td>\n",
       "      <td>48.0</td>\n",
       "      <td>&lt;a href=\"http://twitter.com\" rel=\"nofollow\"&gt;Tw...</td>\n",
       "      <td>\"Bristol Palin Looks Ready to Pop as She Revea...</td>\n",
       "      <td>0.0</td>\n",
       "      <td>843836</td>\n",
       "    </tr>\n",
       "    <tr>\n",
       "      <th>3</th>\n",
       "      <td>8.537363e+17</td>\n",
       "      <td>0</td>\n",
       "      <td>Sun Apr 16 22:26:03 +0000 2017</td>\n",
       "      <td>0</td>\n",
       "      <td>0</td>\n",
       "      <td>66295774</td>\n",
       "      <td>The Earth</td>\n",
       "      <td>False</td>\n",
       "      <td>12972.0</td>\n",
       "      <td>&lt;a href=\"https://dlvrit.com/\" rel=\"nofollow\"&gt;d...</td>\n",
       "      <td>\"https://t.co/mnsak9VWgp Bristol Palin Looks R...</td>\n",
       "      <td>0.0</td>\n",
       "      <td>843836</td>\n",
       "    </tr>\n",
       "    <tr>\n",
       "      <th>4</th>\n",
       "      <td>8.537386e+17</td>\n",
       "      <td>0</td>\n",
       "      <td>Sun Apr 16 22:35:18 +0000 2017</td>\n",
       "      <td>0</td>\n",
       "      <td>0</td>\n",
       "      <td>1252242577</td>\n",
       "      <td>NaN</td>\n",
       "      <td>False</td>\n",
       "      <td>4485.0</td>\n",
       "      <td>&lt;a href=\"http://twibble.io\" rel=\"nofollow\"&gt;Twi...</td>\n",
       "      <td>\"Bristol Palin Looks Ready to Pop as She Revea...</td>\n",
       "      <td>0.0</td>\n",
       "      <td>843836</td>\n",
       "    </tr>\n",
       "  </tbody>\n",
       "</table>\n",
       "</div>"
      ],
      "text/plain": [
       "       tweet_id retweeted_id                      created_at favorite_count  \\\n",
       "0  8.537375e+17            0  Sun Apr 16 22:31:06 +0000 2017              0   \n",
       "1  8.537439e+17            0  Sun Apr 16 22:56:16 +0000 2017              0   \n",
       "2  8.538426e+17            0  Mon Apr 17 05:28:37 +0000 2017              0   \n",
       "3  8.537363e+17            0  Sun Apr 16 22:26:03 +0000 2017              0   \n",
       "4  8.537386e+17            0  Sun Apr 16 22:35:18 +0000 2017              0   \n",
       "\n",
       "  retweet_count     user_id           location verified  followers_count  \\\n",
       "0             0   527095730  Sydney, Australia    False          11062.0   \n",
       "1             0   230056211                NaN    False            297.0   \n",
       "2             0    23113271         Orem, Utah    False             48.0   \n",
       "3             0    66295774          The Earth    False          12972.0   \n",
       "4             0  1252242577                NaN    False           4485.0   \n",
       "\n",
       "                                              source  \\\n",
       "0  <a href=\"http://www.hootsuite.com\" rel=\"nofoll...   \n",
       "1  <a href=\"https://dlvrit.com/\" rel=\"nofollow\">d...   \n",
       "2  <a href=\"http://twitter.com\" rel=\"nofollow\">Tw...   \n",
       "3  <a href=\"https://dlvrit.com/\" rel=\"nofollow\">d...   \n",
       "4  <a href=\"http://twibble.io\" rel=\"nofollow\">Twi...   \n",
       "\n",
       "                                                text  fake news_id  \n",
       "0  \"Bristol Palin Looks Ready to Pop as She Revea...   0.0  843836  \n",
       "1  \"Bristol Palin Looks Ready to Pop as She Revea...   0.0  843836  \n",
       "2  \"Bristol Palin Looks Ready to Pop as She Revea...   0.0  843836  \n",
       "3  \"https://t.co/mnsak9VWgp Bristol Palin Looks R...   0.0  843836  \n",
       "4  \"Bristol Palin Looks Ready to Pop as She Revea...   0.0  843836  "
      ]
     },
     "execution_count": 3,
     "metadata": {},
     "output_type": "execute_result"
    }
   ],
   "source": [
    "df_tweets.head()"
   ]
  },
  {
   "cell_type": "code",
   "execution_count": 4,
   "metadata": {},
   "outputs": [
    {
     "data": {
      "text/plain": [
       "(1211441, 13)"
      ]
     },
     "execution_count": 4,
     "metadata": {},
     "output_type": "execute_result"
    }
   ],
   "source": [
    "df_tweets.shape"
   ]
  },
  {
   "cell_type": "code",
   "execution_count": 5,
   "metadata": {},
   "outputs": [],
   "source": [
    "outputpath='gossipcop_tweets.csv'\n",
    "df_tweets.to_csv(outputpath, index = False, header = True)"
   ]
  }
 ],
 "metadata": {
  "kernelspec": {
   "display_name": "Python 3",
   "language": "python",
   "name": "python3"
  },
  "language_info": {
   "codemirror_mode": {
    "name": "ipython",
    "version": 3
   },
   "file_extension": ".py",
   "mimetype": "text/x-python",
   "name": "python",
   "nbconvert_exporter": "python",
   "pygments_lexer": "ipython3",
   "version": "3.8.6"
  }
 },
 "nbformat": 4,
 "nbformat_minor": 4
}
