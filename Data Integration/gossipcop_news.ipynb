{
 "cells": [
  {
   "cell_type": "code",
   "execution_count": 1,
   "metadata": {},
   "outputs": [],
   "source": [
    "import pandas as pd\n",
    "import numpy as np\n",
    "import json\n",
    "import os\n",
    "import time\n",
    "import tldextract\n",
    "from os import listdir"
   ]
  },
  {
   "cell_type": "code",
   "execution_count": 2,
   "metadata": {},
   "outputs": [],
   "source": [
    "dictlist = []\n",
    "cols = ['news_id', 'url', 'text', 'num_images', 'domain', 'publish_date']\n",
    "path = \"gossipcop/fake/\"\n",
    "dirs = os.listdir(path)\n",
    "for file in dirs:\n",
    "    if file == '.DS_Store':\n",
    "        continue\n",
    "    if os.listdir(path + file):\n",
    "        whole_path = path + file + '/news content.json'\n",
    "        news_id = str(file).replace('gossipcop','')\n",
    "        with open(whole_path, 'r') as f:\n",
    "            data = json.load(f)\n",
    "        thedict = {'news_id':news_id, 'url':data['url'], 'text':data['text'], 'num_images':len(data['images'])}\n",
    "        ext = tldextract.extract(data['canonical_link'])\n",
    "        thedict['domain'] = ext.domain\n",
    "        thedict['publish_date'] = time.strftime(\"%Y-%m-%d %H:%M:%S\", time.localtime(int(data['publish_date']))) if data['publish_date'] else None\n",
    "        dictlist.append(thedict)\n",
    "                \n",
    "fake_news = pd.DataFrame(dictlist,columns=cols)\n",
    "fake_news['fake'] = 1"
   ]
  },
  {
   "cell_type": "code",
   "execution_count": 3,
   "metadata": {},
   "outputs": [
    {
     "data": {
      "text/plain": [
       "(4815, 7)"
      ]
     },
     "execution_count": 3,
     "metadata": {},
     "output_type": "execute_result"
    }
   ],
   "source": [
    "fake_news.shape"
   ]
  },
  {
   "cell_type": "code",
   "execution_count": 4,
   "metadata": {},
   "outputs": [],
   "source": [
    "dictlist = []\n",
    "cols = ['news_id', 'url', 'text', 'num_images', 'authors', 'domain', 'publish_date']\n",
    "path = \"gossipcop/real/\"\n",
    "dirs = os.listdir(path)\n",
    "for file in dirs:\n",
    "    if file == '.DS_Store':\n",
    "        continue\n",
    "    if os.listdir(path + file):\n",
    "        whole_path = path + file + '/news content.json'\n",
    "        news_id = str(file).replace('gossipcop','')\n",
    "        with open(whole_path, 'r') as f:\n",
    "            data = json.load(f)\n",
    "        thedict = {'news_id':news_id, 'url':data['url'], 'text':data['text'],\n",
    "                   'num_images':len(data['images']), 'authors':str(data['authors'])}\n",
    "        ext = tldextract.extract(data['canonical_link'])\n",
    "        thedict['domain'] = ext.domain\n",
    "        thedict['publish_date'] = time.strftime(\"%Y-%m-%d %H:%M:%S\", time.localtime(int(data['publish_date']))) if data['publish_date'] else None\n",
    "        dictlist.append(thedict)\n",
    "                \n",
    "real_news = pd.DataFrame(dictlist,columns=cols)\n",
    "real_news['fake'] = 0"
   ]
  },
  {
   "cell_type": "code",
   "execution_count": 5,
   "metadata": {},
   "outputs": [
    {
     "data": {
      "text/plain": [
       "(14983, 8)"
      ]
     },
     "execution_count": 5,
     "metadata": {},
     "output_type": "execute_result"
    }
   ],
   "source": [
    "real_news.shape"
   ]
  },
  {
   "cell_type": "code",
   "execution_count": 6,
   "metadata": {},
   "outputs": [],
   "source": [
    "gossipcop = pd.concat([fake_news, real_news], axis = 0)"
   ]
  },
  {
   "cell_type": "code",
   "execution_count": 7,
   "metadata": {},
   "outputs": [
    {
     "data": {
      "text/html": [
       "<div>\n",
       "<style scoped>\n",
       "    .dataframe tbody tr th:only-of-type {\n",
       "        vertical-align: middle;\n",
       "    }\n",
       "\n",
       "    .dataframe tbody tr th {\n",
       "        vertical-align: top;\n",
       "    }\n",
       "\n",
       "    .dataframe thead th {\n",
       "        text-align: right;\n",
       "    }\n",
       "</style>\n",
       "<table border=\"1\" class=\"dataframe\">\n",
       "  <thead>\n",
       "    <tr style=\"text-align: right;\">\n",
       "      <th></th>\n",
       "      <th>news_id</th>\n",
       "      <th>url</th>\n",
       "      <th>text</th>\n",
       "      <th>num_images</th>\n",
       "      <th>domain</th>\n",
       "      <th>publish_date</th>\n",
       "      <th>fake</th>\n",
       "      <th>authors</th>\n",
       "    </tr>\n",
       "  </thead>\n",
       "  <tbody>\n",
       "    <tr>\n",
       "      <th>0</th>\n",
       "      <td>-2493749932</td>\n",
       "      <td>www.dailymail.co.uk/tvshowbiz/article-5874213/...</td>\n",
       "      <td>Congratulations might be in order for Miley Cy...</td>\n",
       "      <td>460</td>\n",
       "      <td>dailymail</td>\n",
       "      <td>2018-06-22 22:58:20</td>\n",
       "      <td>1</td>\n",
       "      <td>NaN</td>\n",
       "    </tr>\n",
       "    <tr>\n",
       "      <th>1</th>\n",
       "      <td>-4580247171</td>\n",
       "      <td>https://web.archive.org/web/20180506051321/htt...</td>\n",
       "      <td>Paris Jackson and Cara Delevingne were spotted...</td>\n",
       "      <td>16</td>\n",
       "      <td>archive</td>\n",
       "      <td>2018-05-05 00:00:00</td>\n",
       "      <td>1</td>\n",
       "      <td>NaN</td>\n",
       "    </tr>\n",
       "    <tr>\n",
       "      <th>2</th>\n",
       "      <td>-941805037</td>\n",
       "      <td>variety.com/2017/biz/news/tax-march-donald-tru...</td>\n",
       "      <td></td>\n",
       "      <td>0</td>\n",
       "      <td></td>\n",
       "      <td>None</td>\n",
       "      <td>1</td>\n",
       "      <td>NaN</td>\n",
       "    </tr>\n",
       "    <tr>\n",
       "      <th>3</th>\n",
       "      <td>-2547891536</td>\n",
       "      <td>www.dailymail.co.uk/femail/article-3499192/Do-...</td>\n",
       "      <td>We'd venture to say that Cindy Crawford's daug...</td>\n",
       "      <td>417</td>\n",
       "      <td>dailymail</td>\n",
       "      <td>2016-03-19 04:27:55</td>\n",
       "      <td>1</td>\n",
       "      <td>NaN</td>\n",
       "    </tr>\n",
       "    <tr>\n",
       "      <th>4</th>\n",
       "      <td>-5476631226</td>\n",
       "      <td>variety.com/2018/film/news/list-2018-oscar-nom...</td>\n",
       "      <td>Oscar nominations for the 90th annual awards w...</td>\n",
       "      <td>8</td>\n",
       "      <td>variety</td>\n",
       "      <td>2018-01-23 21:19:57</td>\n",
       "      <td>1</td>\n",
       "      <td>NaN</td>\n",
       "    </tr>\n",
       "  </tbody>\n",
       "</table>\n",
       "</div>"
      ],
      "text/plain": [
       "       news_id                                                url  \\\n",
       "0  -2493749932  www.dailymail.co.uk/tvshowbiz/article-5874213/...   \n",
       "1  -4580247171  https://web.archive.org/web/20180506051321/htt...   \n",
       "2   -941805037  variety.com/2017/biz/news/tax-march-donald-tru...   \n",
       "3  -2547891536  www.dailymail.co.uk/femail/article-3499192/Do-...   \n",
       "4  -5476631226  variety.com/2018/film/news/list-2018-oscar-nom...   \n",
       "\n",
       "                                                text  num_images     domain  \\\n",
       "0  Congratulations might be in order for Miley Cy...         460  dailymail   \n",
       "1  Paris Jackson and Cara Delevingne were spotted...          16    archive   \n",
       "2                                                              0              \n",
       "3  We'd venture to say that Cindy Crawford's daug...         417  dailymail   \n",
       "4  Oscar nominations for the 90th annual awards w...           8    variety   \n",
       "\n",
       "          publish_date  fake authors  \n",
       "0  2018-06-22 22:58:20     1     NaN  \n",
       "1  2018-05-05 00:00:00     1     NaN  \n",
       "2                 None     1     NaN  \n",
       "3  2016-03-19 04:27:55     1     NaN  \n",
       "4  2018-01-23 21:19:57     1     NaN  "
      ]
     },
     "execution_count": 7,
     "metadata": {},
     "output_type": "execute_result"
    }
   ],
   "source": [
    "gossipcop.head()"
   ]
  },
  {
   "cell_type": "code",
   "execution_count": 8,
   "metadata": {},
   "outputs": [],
   "source": [
    "#outputpath='gossipcop_fake_news.csv'\n",
    "#fake_news.to_csv(outputpath, index = False, header = True)"
   ]
  },
  {
   "cell_type": "code",
   "execution_count": 9,
   "metadata": {},
   "outputs": [],
   "source": [
    "#outputpath='gossipcop_real_news.csv'\n",
    "#real_news.to_csv(outputpath, index = False, header = True)"
   ]
  },
  {
   "cell_type": "code",
   "execution_count": 10,
   "metadata": {},
   "outputs": [],
   "source": [
    "outputpath='gossipcop_news.csv'\n",
    "gossipcop.to_csv(outputpath, index = False, header = True)"
   ]
  }
 ],
 "metadata": {
  "kernelspec": {
   "display_name": "Python 3",
   "language": "python",
   "name": "python3"
  },
  "language_info": {
   "codemirror_mode": {
    "name": "ipython",
    "version": 3
   },
   "file_extension": ".py",
   "mimetype": "text/x-python",
   "name": "python",
   "nbconvert_exporter": "python",
   "pygments_lexer": "ipython3",
   "version": "3.8.6"
  }
 },
 "nbformat": 4,
 "nbformat_minor": 4
}
