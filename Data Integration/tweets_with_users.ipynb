{
 "cells": [
  {
   "cell_type": "code",
   "execution_count": 27,
   "metadata": {},
   "outputs": [],
   "source": [
    "from pyspark import SparkContext,SparkConf\n",
    "from pyspark.sql import SparkSession \n",
    "from pyspark.sql.functions import * \n",
    "\n",
    "import warnings\n",
    "warnings.filterwarnings(\"ignore\")"
   ]
  },
  {
   "cell_type": "code",
   "execution_count": 28,
   "metadata": {},
   "outputs": [],
   "source": [
    "spark = SparkSession.builder.appName(\"Classifier\").config('spark.executor.memory', '1G').getOrCreate()"
   ]
  },
  {
   "cell_type": "code",
   "execution_count": 29,
   "metadata": {},
   "outputs": [],
   "source": [
    "user_profiles = spark.read.csv('data/user_profiles.csv', header=True, sep = ',',multiLine=True, escape = \"\\\"\",inferSchema =True)\n",
    "politifact_tweets = spark.read.csv('data/politifact_tweets_processed.csv', header=True, sep = ',',multiLine=True, escape = \"\\\"\",inferSchema =True)\n",
    "gossipcop_tweets = spark.read.csv('data/gossipcop_tweets_processed.csv', header=True, sep = ',',multiLine=True, escape = \"\\\"\",inferSchema =True) "
   ]
  },
  {
   "cell_type": "code",
   "execution_count": 31,
   "metadata": {},
   "outputs": [],
   "source": [
    "user_profiles = user_profiles.withColumnRenamed(\"created_at\", \"created_at_user\")\\\n",
    "    .withColumnRenamed(\"verified\", \"verified_user\").withColumnRenamed(\"followers_count\", \"followers_count_user\")"
   ]
  },
  {
   "cell_type": "code",
   "execution_count": 32,
   "metadata": {},
   "outputs": [],
   "source": [
    "politifact_tweets = politifact_tweets.withColumnRenamed(\"created_at\", \"created_at_tweet\")\\\n",
    "    .withColumnRenamed(\"verified\", \"verified_y\").withColumnRenamed(\"followers_count\", \"followers_count_tweet\")\n",
    "gossipcop_tweets = gossipcop_tweets.withColumnRenamed(\"created_at\", \"created_at_tweet\")\\\n",
    "    .withColumnRenamed(\"verified\", \"verified_y\").withColumnRenamed(\"followers_count\", \"followers_count_tweet\")"
   ]
  },
  {
   "cell_type": "code",
   "execution_count": 33,
   "metadata": {},
   "outputs": [],
   "source": [
    "politifact_with_users = politifact_tweets.join(user_profiles, on=['user_id'], how='left_outer')\n",
    "gossipcop_with_users = gossipcop_tweets.join(user_profiles, on=['user_id'], how='left_outer')"
   ]
  },
  {
   "cell_type": "code",
   "execution_count": 37,
   "metadata": {},
   "outputs": [],
   "source": [
    "politifact_with_users = politifact_with_users.withColumn('created_at_tweet', to_timestamp(col('created_at_tweet'), 'yyyy-MM-dd HH:mm:ss'))\n",
    "politifact_with_users = politifact_with_users.withColumn('created_at_tweet', politifact_with_users.created_at_tweet.cast(\"long\"))\n"
   ]
  },
  {
   "cell_type": "code",
   "execution_count": 38,
   "metadata": {},
   "outputs": [],
   "source": [
    "gossipcop_with_users = gossipcop_with_users.withColumn('created_at_tweet', to_timestamp(col('created_at_tweet'), 'yyyy-MM-dd HH:mm:ss'))\n",
    "gossipcop_with_users = gossipcop_with_users.withColumn('created_at_tweet', gossipcop_with_users.created_at_tweet.cast(\"long\"))"
   ]
  },
  {
   "cell_type": "code",
   "execution_count": 39,
   "metadata": {},
   "outputs": [],
   "source": [
    "politifact_with_users.toPandas().to_csv('politifact_with_users.csv')\n",
    "gossipcop_with_users.toPandas().to_csv('gossipcop_with_users.csv')"
   ]
  }
 ],
 "metadata": {
  "interpreter": {
   "hash": "642cd85689465adab5398d72f0feb429059f0f6c164a032cdb4b9994cfe0d90c"
  },
  "kernelspec": {
   "display_name": "Python 3.8.5 64-bit ('base': conda)",
   "name": "python3"
  },
  "language_info": {
   "codemirror_mode": {
    "name": "ipython",
    "version": 3
   },
   "file_extension": ".py",
   "mimetype": "text/x-python",
   "name": "python",
   "nbconvert_exporter": "python",
   "pygments_lexer": "ipython3",
   "version": "3.8.5"
  }
 },
 "nbformat": 4,
 "nbformat_minor": 4
}
