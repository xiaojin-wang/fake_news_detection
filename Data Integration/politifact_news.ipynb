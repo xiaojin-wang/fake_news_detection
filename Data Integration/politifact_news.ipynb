{
 "cells": [
  {
   "cell_type": "code",
   "execution_count": 1,
   "metadata": {},
   "outputs": [],
   "source": [
    "import pandas as pd\n",
    "import numpy as np\n",
    "import json\n",
    "import os\n",
    "import time\n",
    "import tldextract\n",
    "from os import listdir"
   ]
  },
  {
   "cell_type": "code",
   "execution_count": 2,
   "metadata": {},
   "outputs": [],
   "source": [
    "dictlist = []\n",
    "cols = ['news_id', 'url', 'text', 'num_images', 'domain', 'publish_date']\n",
    "path = \"politifact/fake/\"\n",
    "dirs = os.listdir(path)\n",
    "for file in dirs:\n",
    "    if file == '.DS_Store':\n",
    "        continue\n",
    "    if os.listdir(path + file):\n",
    "        whole_path = path + file + '/news content.json'\n",
    "        news_id = str(file).replace('politifact','')\n",
    "        with open(whole_path, 'r') as f:\n",
    "            data = json.load(f)\n",
    "        thedict = {'news_id':news_id, 'url':data['url'], 'text':data['text'], 'num_images':len(data['images'])}\n",
    "        ext = tldextract.extract(data['canonical_link'])\n",
    "        thedict['domain'] = ext.domain\n",
    "        thedict['publish_date'] = time.strftime(\"%Y-%m-%d %H:%M:%S\", time.localtime(int(data['publish_date']))) if data['publish_date'] else None\n",
    "        dictlist.append(thedict)\n",
    "                \n",
    "fake_news = pd.DataFrame(dictlist,columns=cols)\n",
    "fake_news['fake'] = 1"
   ]
  },
  {
   "cell_type": "code",
   "execution_count": 3,
   "metadata": {},
   "outputs": [
    {
     "data": {
      "text/plain": [
       "(398, 7)"
      ]
     },
     "execution_count": 3,
     "metadata": {},
     "output_type": "execute_result"
    }
   ],
   "source": [
    "fake_news.shape"
   ]
  },
  {
   "cell_type": "code",
   "execution_count": 4,
   "metadata": {},
   "outputs": [],
   "source": [
    "dictlist = []\n",
    "cols = ['news_id', 'url', 'text', 'num_images', 'authors', 'domain', 'publish_date']\n",
    "path = \"politifact/real/\"\n",
    "dirs = os.listdir(path)\n",
    "for file in dirs:\n",
    "    if file == '.DS_Store':\n",
    "        continue\n",
    "    if os.listdir(path + file):\n",
    "        whole_path = path + file + '/news content.json'\n",
    "        news_id = str(file).replace('politifact','')\n",
    "        with open(whole_path, 'r') as f:\n",
    "            data = json.load(f)\n",
    "        thedict = {'news_id':news_id, 'url':data['url'], 'text':data['text'],\n",
    "                   'num_images':len(data['images']), 'authors':str(data['authors'])}\n",
    "        ext = tldextract.extract(data['canonical_link'])\n",
    "        thedict['domain'] = ext.domain\n",
    "        thedict['publish_date'] = time.strftime(\"%Y-%m-%d %H:%M:%S\", time.localtime(int(data['publish_date']))) if data['publish_date'] else None\n",
    "        dictlist.append(thedict)\n",
    "                \n",
    "real_news = pd.DataFrame(dictlist,columns=cols)\n",
    "real_news['fake'] = 0"
   ]
  },
  {
   "cell_type": "code",
   "execution_count": 5,
   "metadata": {},
   "outputs": [],
   "source": [
    "politifact = pd.concat([fake_news, real_news], axis = 0)"
   ]
  },
  {
   "cell_type": "code",
   "execution_count": 6,
   "metadata": {},
   "outputs": [
    {
     "data": {
      "text/html": [
       "<div>\n",
       "<style scoped>\n",
       "    .dataframe tbody tr th:only-of-type {\n",
       "        vertical-align: middle;\n",
       "    }\n",
       "\n",
       "    .dataframe tbody tr th {\n",
       "        vertical-align: top;\n",
       "    }\n",
       "\n",
       "    .dataframe thead th {\n",
       "        text-align: right;\n",
       "    }\n",
       "</style>\n",
       "<table border=\"1\" class=\"dataframe\">\n",
       "  <thead>\n",
       "    <tr style=\"text-align: right;\">\n",
       "      <th></th>\n",
       "      <th>news_id</th>\n",
       "      <th>url</th>\n",
       "      <th>text</th>\n",
       "      <th>num_images</th>\n",
       "      <th>domain</th>\n",
       "      <th>publish_date</th>\n",
       "      <th>fake</th>\n",
       "      <th>authors</th>\n",
       "    </tr>\n",
       "  </thead>\n",
       "  <tbody>\n",
       "    <tr>\n",
       "      <th>0</th>\n",
       "      <td>14238</td>\n",
       "      <td>dailybuzzlive.com/cannibals-arrested-florida/</td>\n",
       "      <td>Police in Vernal Heights, Florida, arrested 3-...</td>\n",
       "      <td>7</td>\n",
       "      <td>dailybuzzlive</td>\n",
       "      <td>2021-04-06 00:39:51</td>\n",
       "      <td>1</td>\n",
       "      <td>NaN</td>\n",
       "    </tr>\n",
       "    <tr>\n",
       "      <th>1</th>\n",
       "      <td>14836</td>\n",
       "      <td>https://web.archive.org/web/20171228192703/htt...</td>\n",
       "      <td>WASHINGTON — Rod Jay Rosenstein, Deputy Attorn...</td>\n",
       "      <td>23</td>\n",
       "      <td>archive</td>\n",
       "      <td>2016-01-02 07:17:43</td>\n",
       "      <td>1</td>\n",
       "      <td>NaN</td>\n",
       "    </tr>\n",
       "    <tr>\n",
       "      <th>2</th>\n",
       "      <td>14207</td>\n",
       "      <td>https://web.archive.org/web/20160924061356/htt...</td>\n",
       "      <td>Keanu Reeves has long been known to be a stell...</td>\n",
       "      <td>3</td>\n",
       "      <td>archive</td>\n",
       "      <td>2016-03-06 07:50:39</td>\n",
       "      <td>1</td>\n",
       "      <td>NaN</td>\n",
       "    </tr>\n",
       "    <tr>\n",
       "      <th>3</th>\n",
       "      <td>14831</td>\n",
       "      <td>https://web.archive.org/web/20171211235903/htt...</td>\n",
       "      <td>Allegations of misconduct against Alabama Repu...</td>\n",
       "      <td>2</td>\n",
       "      <td>archive</td>\n",
       "      <td>2017-11-13 22:53:49</td>\n",
       "      <td>1</td>\n",
       "      <td>NaN</td>\n",
       "    </tr>\n",
       "    <tr>\n",
       "      <th>4</th>\n",
       "      <td>14469</td>\n",
       "      <td>https://www.washingtonpost.com/news/post-polit...</td>\n",
       "      <td>Today’s Headlines\\n\\nThe most important news s...</td>\n",
       "      <td>1</td>\n",
       "      <td>washingtonpost</td>\n",
       "      <td>2015-11-25 00:00:00</td>\n",
       "      <td>1</td>\n",
       "      <td>NaN</td>\n",
       "    </tr>\n",
       "  </tbody>\n",
       "</table>\n",
       "</div>"
      ],
      "text/plain": [
       "  news_id                                                url  \\\n",
       "0   14238      dailybuzzlive.com/cannibals-arrested-florida/   \n",
       "1   14836  https://web.archive.org/web/20171228192703/htt...   \n",
       "2   14207  https://web.archive.org/web/20160924061356/htt...   \n",
       "3   14831  https://web.archive.org/web/20171211235903/htt...   \n",
       "4   14469  https://www.washingtonpost.com/news/post-polit...   \n",
       "\n",
       "                                                text  num_images  \\\n",
       "0  Police in Vernal Heights, Florida, arrested 3-...           7   \n",
       "1  WASHINGTON — Rod Jay Rosenstein, Deputy Attorn...          23   \n",
       "2  Keanu Reeves has long been known to be a stell...           3   \n",
       "3  Allegations of misconduct against Alabama Repu...           2   \n",
       "4  Today’s Headlines\\n\\nThe most important news s...           1   \n",
       "\n",
       "           domain         publish_date  fake authors  \n",
       "0   dailybuzzlive  2021-04-06 00:39:51     1     NaN  \n",
       "1         archive  2016-01-02 07:17:43     1     NaN  \n",
       "2         archive  2016-03-06 07:50:39     1     NaN  \n",
       "3         archive  2017-11-13 22:53:49     1     NaN  \n",
       "4  washingtonpost  2015-11-25 00:00:00     1     NaN  "
      ]
     },
     "execution_count": 6,
     "metadata": {},
     "output_type": "execute_result"
    }
   ],
   "source": [
    "politifact.head()"
   ]
  },
  {
   "cell_type": "code",
   "execution_count": 7,
   "metadata": {},
   "outputs": [],
   "source": [
    "#outputpath='politifact_fake_news.csv'\n",
    "#fake_news.to_csv(outputpath, index = False, header = True)"
   ]
  },
  {
   "cell_type": "code",
   "execution_count": 8,
   "metadata": {},
   "outputs": [],
   "source": [
    "#outputpath='politifact_real_news.csv'\n",
    "#real_news.to_csv(outputpath, index = False, header = True)"
   ]
  },
  {
   "cell_type": "code",
   "execution_count": 9,
   "metadata": {},
   "outputs": [],
   "source": [
    "outputpath='politifact_news.csv'\n",
    "politifact.to_csv(outputpath, index = False, header = True)"
   ]
  }
 ],
 "metadata": {
  "kernelspec": {
   "display_name": "Python 3",
   "language": "python",
   "name": "python3"
  },
  "language_info": {
   "codemirror_mode": {
    "name": "ipython",
    "version": 3
   },
   "file_extension": ".py",
   "mimetype": "text/x-python",
   "name": "python",
   "nbconvert_exporter": "python",
   "pygments_lexer": "ipython3",
   "version": "3.8.6"
  }
 },
 "nbformat": 4,
 "nbformat_minor": 4
}
