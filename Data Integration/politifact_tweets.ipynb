{
 "cells": [
  {
   "cell_type": "code",
   "execution_count": 1,
   "metadata": {},
   "outputs": [],
   "source": [
    "import pandas as pd\n",
    "import numpy as np\n",
    "import os\n",
    "from os import listdir"
   ]
  },
  {
   "cell_type": "code",
   "execution_count": 2,
   "metadata": {},
   "outputs": [],
   "source": [
    "df_tweets = pd.DataFrame()\n",
    "path = \"politifact/tweets/\"\n",
    "dirs = os.listdir(path)\n",
    "for file in dirs:\n",
    "    news_id = str(file).replace('politifact','').replace('.csv','')\n",
    "    tweet  = pd.read_csv(os.path.join('politifact/tweets/', file))\n",
    "    df_tweet = pd.DataFrame(tweet)\n",
    "    df_tweet['news_id'] = news_id\n",
    "    if df_tweet.shape[0] != 0:\n",
    "        df_tweets = pd.concat([df_tweets, df_tweet])"
   ]
  },
  {
   "cell_type": "code",
   "execution_count": 3,
   "metadata": {},
   "outputs": [
    {
     "data": {
      "text/html": [
       "<div>\n",
       "<style scoped>\n",
       "    .dataframe tbody tr th:only-of-type {\n",
       "        vertical-align: middle;\n",
       "    }\n",
       "\n",
       "    .dataframe tbody tr th {\n",
       "        vertical-align: top;\n",
       "    }\n",
       "\n",
       "    .dataframe thead th {\n",
       "        text-align: right;\n",
       "    }\n",
       "</style>\n",
       "<table border=\"1\" class=\"dataframe\">\n",
       "  <thead>\n",
       "    <tr style=\"text-align: right;\">\n",
       "      <th></th>\n",
       "      <th>tweet_id</th>\n",
       "      <th>retweeted_id</th>\n",
       "      <th>created_at</th>\n",
       "      <th>favorite_count</th>\n",
       "      <th>retweet_count</th>\n",
       "      <th>user_id</th>\n",
       "      <th>location</th>\n",
       "      <th>verified</th>\n",
       "      <th>followers_count</th>\n",
       "      <th>source</th>\n",
       "      <th>text</th>\n",
       "      <th>fake</th>\n",
       "      <th>news_id</th>\n",
       "    </tr>\n",
       "  </thead>\n",
       "  <tbody>\n",
       "    <tr>\n",
       "      <th>0</th>\n",
       "      <td>890268075.0</td>\n",
       "      <td>0</td>\n",
       "      <td>Sun Aug 17 15:47:34 +0000 2008</td>\n",
       "      <td>0</td>\n",
       "      <td>0</td>\n",
       "      <td>15189613</td>\n",
       "      <td>NaN</td>\n",
       "      <td>False</td>\n",
       "      <td>113.0</td>\n",
       "      <td>&lt;a href=\"http://twitter.com\" rel=\"nofollow\"&gt;Tw...</td>\n",
       "      <td>'usa: The Long Run - Response to 9/11 Offers O...</td>\n",
       "      <td>0.0</td>\n",
       "      <td>636</td>\n",
       "    </tr>\n",
       "    <tr>\n",
       "      <th>1</th>\n",
       "      <td>890634203.0</td>\n",
       "      <td>0</td>\n",
       "      <td>Mon Aug 18 01:46:24 +0000 2008</td>\n",
       "      <td>0</td>\n",
       "      <td>0</td>\n",
       "      <td>15209631</td>\n",
       "      <td>NaN</td>\n",
       "      <td>False</td>\n",
       "      <td>68.0</td>\n",
       "      <td>&lt;a href=\"http://twitter.com\" rel=\"nofollow\"&gt;Tw...</td>\n",
       "      <td>'d: The Long Run - Response to 9/11 Offers Out...</td>\n",
       "      <td>0.0</td>\n",
       "      <td>636</td>\n",
       "    </tr>\n",
       "    <tr>\n",
       "      <th>2</th>\n",
       "      <td>889821427.0</td>\n",
       "      <td>0</td>\n",
       "      <td>Sun Aug 17 00:53:16 +0000 2008</td>\n",
       "      <td>0</td>\n",
       "      <td>0</td>\n",
       "      <td>14882359</td>\n",
       "      <td>in my room</td>\n",
       "      <td>False</td>\n",
       "      <td>49.0</td>\n",
       "      <td>&lt;a href=\"http://twitter.com\" rel=\"nofollow\"&gt;Tw...</td>\n",
       "      <td>'From New York Times - The Long Run: Response ...</td>\n",
       "      <td>0.0</td>\n",
       "      <td>636</td>\n",
       "    </tr>\n",
       "    <tr>\n",
       "      <th>3</th>\n",
       "      <td>890475518.0</td>\n",
       "      <td>0</td>\n",
       "      <td>Sun Aug 17 21:28:05 +0000 2008</td>\n",
       "      <td>0</td>\n",
       "      <td>0</td>\n",
       "      <td>7094562</td>\n",
       "      <td>NaN</td>\n",
       "      <td>False</td>\n",
       "      <td>155.0</td>\n",
       "      <td>&lt;a href=\"http://twitter.com\" rel=\"nofollow\"&gt;Tw...</td>\n",
       "      <td>'New blog post: Response to 9/11 Offers Outlin...</td>\n",
       "      <td>0.0</td>\n",
       "      <td>636</td>\n",
       "    </tr>\n",
       "    <tr>\n",
       "      <th>4</th>\n",
       "      <td>957911564.0</td>\n",
       "      <td>0</td>\n",
       "      <td>Mon Oct 13 17:46:26 +0000 2008</td>\n",
       "      <td>0</td>\n",
       "      <td>0</td>\n",
       "      <td>15209631</td>\n",
       "      <td>NaN</td>\n",
       "      <td>False</td>\n",
       "      <td>68.0</td>\n",
       "      <td>&lt;a href=\"http://twitter.com\" rel=\"nofollow\"&gt;Tw...</td>\n",
       "      <td>'d: The Long Run - Response to 9/11 Offers Out...</td>\n",
       "      <td>0.0</td>\n",
       "      <td>636</td>\n",
       "    </tr>\n",
       "  </tbody>\n",
       "</table>\n",
       "</div>"
      ],
      "text/plain": [
       "      tweet_id retweeted_id                      created_at favorite_count  \\\n",
       "0  890268075.0            0  Sun Aug 17 15:47:34 +0000 2008              0   \n",
       "1  890634203.0            0  Mon Aug 18 01:46:24 +0000 2008              0   \n",
       "2  889821427.0            0  Sun Aug 17 00:53:16 +0000 2008              0   \n",
       "3  890475518.0            0  Sun Aug 17 21:28:05 +0000 2008              0   \n",
       "4  957911564.0            0  Mon Oct 13 17:46:26 +0000 2008              0   \n",
       "\n",
       "  retweet_count   user_id    location verified  followers_count  \\\n",
       "0             0  15189613         NaN    False            113.0   \n",
       "1             0  15209631         NaN    False             68.0   \n",
       "2             0  14882359  in my room    False             49.0   \n",
       "3             0   7094562         NaN    False            155.0   \n",
       "4             0  15209631         NaN    False             68.0   \n",
       "\n",
       "                                              source  \\\n",
       "0  <a href=\"http://twitter.com\" rel=\"nofollow\">Tw...   \n",
       "1  <a href=\"http://twitter.com\" rel=\"nofollow\">Tw...   \n",
       "2  <a href=\"http://twitter.com\" rel=\"nofollow\">Tw...   \n",
       "3  <a href=\"http://twitter.com\" rel=\"nofollow\">Tw...   \n",
       "4  <a href=\"http://twitter.com\" rel=\"nofollow\">Tw...   \n",
       "\n",
       "                                                text  fake news_id  \n",
       "0  'usa: The Long Run - Response to 9/11 Offers O...   0.0     636  \n",
       "1  'd: The Long Run - Response to 9/11 Offers Out...   0.0     636  \n",
       "2  'From New York Times - The Long Run: Response ...   0.0     636  \n",
       "3  'New blog post: Response to 9/11 Offers Outlin...   0.0     636  \n",
       "4  'd: The Long Run - Response to 9/11 Offers Out...   0.0     636  "
      ]
     },
     "execution_count": 3,
     "metadata": {},
     "output_type": "execute_result"
    }
   ],
   "source": [
    "df_tweets.head()"
   ]
  },
  {
   "cell_type": "code",
   "execution_count": 4,
   "metadata": {},
   "outputs": [
    {
     "data": {
      "text/plain": [
       "(422647, 13)"
      ]
     },
     "execution_count": 4,
     "metadata": {},
     "output_type": "execute_result"
    }
   ],
   "source": [
    "df_tweets.shape"
   ]
  },
  {
   "cell_type": "code",
   "execution_count": 5,
   "metadata": {},
   "outputs": [],
   "source": [
    "outputpath='polififact_tweets.csv'\n",
    "df_tweets.to_csv(outputpath, index = False, header = True)"
   ]
  }
 ],
 "metadata": {
  "kernelspec": {
   "display_name": "Python 3",
   "language": "python",
   "name": "python3"
  },
  "language_info": {
   "codemirror_mode": {
    "name": "ipython",
    "version": 3
   },
   "file_extension": ".py",
   "mimetype": "text/x-python",
   "name": "python",
   "nbconvert_exporter": "python",
   "pygments_lexer": "ipython3",
   "version": "3.8.6"
  }
 },
 "nbformat": 4,
 "nbformat_minor": 4
}
