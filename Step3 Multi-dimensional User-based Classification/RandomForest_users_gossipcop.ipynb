{
 "cells": [
  {
   "cell_type": "code",
   "execution_count": 1,
   "metadata": {},
   "outputs": [],
   "source": [
    "from pyspark import SparkContext,SparkConf\n",
    "from pyspark.sql import SparkSession \n",
    "from pyspark.sql.functions import *\n",
    "import pyspark.ml.feature\n",
    "from pyspark.ml.feature import Tokenizer,StopWordsRemover,CountVectorizer,IDF\n",
    "from pyspark.ml.linalg import Vectors\n",
    "from pyspark.ml.feature import VectorAssembler\n",
    "from pyspark.ml.classification import GBTClassifier\n",
    "from pyspark.ml import Pipeline \n",
    "from pyspark.ml.classification import RandomForestClassifier\n",
    "from pyspark.ml.feature import IndexToString, StringIndexer, VectorIndexer\n",
    "from pyspark.ml.evaluation import MulticlassClassificationEvaluator\n",
    "from pyspark.ml.classification import LinearSVC\n",
    "\n",
    "\n",
    "\n",
    "from pyspark.ml.evaluation import MulticlassClassificationEvaluator\n",
    "\n",
    "import warnings\n",
    "warnings.filterwarnings(\"ignore\")"
   ]
  },
  {
   "cell_type": "code",
   "execution_count": 2,
   "metadata": {},
   "outputs": [],
   "source": [
    "# Initialize Spark Session\n",
    "spark = SparkSession \\\n",
    "    .builder \\\n",
    "    .appName(\"Python Spark SQL basic example\") \\\n",
    "    .config(\"spark.some.config.option\", \"some-value\") \\\n",
    "    .getOrCreate()\n",
    "\n",
    "# df = spark.read.csv(\"./data_new/gossipcop_news.csv\",header=True, sep = ',',multiLine=True, escape = \"\\\"\",inferSchema =True)\n",
    "df = spark.read.csv(\"./data_new/gossipcop_with_users.csv\",header=True, sep = ',',multiLine=True, escape = \"\\\"\",inferSchema =True)"
   ]
  },
  {
   "cell_type": "code",
   "execution_count": 4,
   "metadata": {},
   "outputs": [
    {
     "data": {
      "text/plain": [
       "[('tweet_id', 'bigint'),\n",
       " ('created_at_tweet', 'int'),\n",
       " ('favorite_count', 'int'),\n",
       " ('retweet_count', 'int'),\n",
       " ('user_id', 'bigint'),\n",
       " ('location', 'string'),\n",
       " ('verified', 'boolean'),\n",
       " ('followers_count', 'double'),\n",
       " ('source', 'string'),\n",
       " ('text', 'string'),\n",
       " ('fake', 'double'),\n",
       " ('news_id', 'bigint'),\n",
       " ('created_at_user', 'double'),\n",
       " ('friends_count', 'double'),\n",
       " ('listed_count', 'double'),\n",
       " ('favourites_count', 'double'),\n",
       " ('geo_enabled', 'boolean'),\n",
       " ('statuses_count', 'double'),\n",
       " ('has_extended_profile', 'boolean'),\n",
       " ('default_profile', 'boolean')]"
      ]
     },
     "execution_count": 4,
     "metadata": {},
     "output_type": "execute_result"
    }
   ],
   "source": [
    "df.dtypes"
   ]
  },
  {
   "cell_type": "code",
   "execution_count": 8,
   "metadata": {},
   "outputs": [
    {
     "name": "stdout",
     "output_type": "stream",
     "text": [
      "+------------------+----------------+--------------+-------------+------------------+--------------------+--------+---------------+--------------------+--------------------+----+----------+---------------+-------------+------------+----------------+-----------+--------------+--------------------+---------------+\n",
      "|          tweet_id|created_at_tweet|favorite_count|retweet_count|           user_id|            location|verified|followers_count|              source|                text|fake|   news_id|created_at_user|friends_count|listed_count|favourites_count|geo_enabled|statuses_count|has_extended_profile|default_profile|\n",
      "+------------------+----------------+--------------+-------------+------------------+--------------------+--------+---------------+--------------------+--------------------+----+----------+---------------+-------------+------------+----------------+-----------+--------------+--------------------+---------------+\n",
      "|389056962270601216|      1381593382|             0|            0|          22109483|             Jersey |   false|         1249.0|             Echofon|'RT @Chill_kooZ_g...| 1.0|7259603960|  1.235710653E9|        735.0|         5.0|         28174.0|       true|      208345.0|               false|          false|\n",
      "|395375345039187968|      1383099802|             0|            0|        1242313962|      South Carolina|   false|           22.0|         twitterfeed|'New BLOG post! A...| 1.0|7259603960|  1.362435111E9|        306.0|         0.0|           372.0|      false|         576.0|               false|          false|\n",
      "|519433932681789440|      1412677674|             0|            0|         498118808|           Hastings |   false|           69.0|  Twitter for iPhone|\"I want to start ...| 1.0|7259603960|  1.329761823E9|         96.0|         1.0|           340.0|      false|        1049.0|               false|          false|\n",
      "|685158959708241920|      1452189600|             2|            0|         125675366|      Lagos, Nigeria|   false|         1495.0| Twitter for Android|\"it's time, as I ...| 1.0|7259603960|  1.269354568E9|        784.0|       200.0|          2247.0|       true|       43619.0|               false|          false|\n",
      "|951669350469005184|      1515730628|             0|            0|        2530389144|           INDONESIA|   false|         7255.0|wisma berita auto...|'Savannah Chrisle...| 0.0|    905877|  1.401295262E9|       2907.0|         1.0|             2.0|      false|      318851.0|               false|          false|\n",
      "|893693142771302400|      1501908023|             0|            0|832808448483954688|                null|   false|            5.0|            Facebook|'Justin Bieber: P...| 1.0|3205422760|  1.487391981E9|         92.0|         0.0|             6.0|      false|        3053.0|               false|           true|\n",
      "|893761096221425664|      1501924225|             0|            0|830162444723093504|       New York, USA|   false|           96.0|  Twitter for iPhone|'Justin Bieber: P...| 1.0|3205422760|  1.486761125E9|        133.0|         2.0|           504.0|       true|         903.0|               false|           true|\n",
      "|893941376823341056|      1501967207|             0|            0|         363847567|Las Vegas, Nevada...|   false|           61.0|            Facebook|'Justin Bieber: P...| 1.0|3205422760|  1.314561413E9|        152.0|         2.0|             0.0|      false|         519.0|               false|          false|\n",
      "|894409715593035776|      1502078868|             0|            0|         278235707|                 USA|   false|          151.0|  Twitter Web Client|'Justin Bieber: P...| 1.0|3205422760|  1.302126811E9|        501.0|         1.0|          2577.0|       true|       16133.0|                true|          false|\n",
      "|895005391200940032|      1502220888|             0|            0|         491828484|                null|   false|          390.0|            Facebook|'Justin Bieber: P...| 1.0|3205422760|  1.329185399E9|        782.0|         1.0|           875.0|      false|       24658.0|               false|          false|\n",
      "+------------------+----------------+--------------+-------------+------------------+--------------------+--------+---------------+--------------------+--------------------+----+----------+---------------+-------------+------------+----------------+-----------+--------------+--------------------+---------------+\n",
      "only showing top 10 rows\n",
      "\n"
     ]
    }
   ],
   "source": [
    "df.show(10)"
   ]
  },
  {
   "cell_type": "code",
   "execution_count": 11,
   "metadata": {},
   "outputs": [],
   "source": [
    "df = df.select('text','source','fake', 'favorite_count', 'retweet_count', 'verified', 'followers_count', 'friends_count', 'listed_count', 'favourites_count', 'geo_enabled', 'statuses_count', 'has_extended_profile', 'default_profile')"
   ]
  },
  {
   "cell_type": "code",
   "execution_count": 42,
   "metadata": {},
   "outputs": [
    {
     "name": "stdout",
     "output_type": "stream",
     "text": [
      "12056\n"
     ]
    }
   ],
   "source": [
    "df = df.dropna(subset=('text'))\n",
    "df = df.fillna(\"\", subset=('source'))\n",
    "df = df.fillna(0, subset = ('favorite_count', 'retweet_count', 'verified', 'followers_count', 'friends_count', 'listed_count', 'favourites_count', 'geo_enabled', 'statuses_count', 'has_extended_profile', 'default_profile'))\n",
    "df = df.dropna()"
   ]
  },
  {
   "cell_type": "code",
   "execution_count": 43,
   "metadata": {},
   "outputs": [],
   "source": [
    "tokenizer_text = Tokenizer(inputCol='text',outputCol='text1')\n",
    "stopwords_remover_text = StopWordsRemover(inputCol='text1',outputCol='text2')\n",
    "vectorizer_text = CountVectorizer(inputCol='text2',outputCol='text3')\n",
    "idf_text = IDF(inputCol='text3',outputCol='text_vc')"
   ]
  },
  {
   "cell_type": "code",
   "execution_count": 44,
   "metadata": {},
   "outputs": [],
   "source": [
    "tokenizer_domain = Tokenizer(inputCol='source',outputCol='domain1')\n",
    "stopwords_remover_domain = StopWordsRemover(inputCol='domain1',outputCol='domain2')\n",
    "vectorizer_domain = CountVectorizer(inputCol='domain2',outputCol='domain3')\n",
    "idf_domain = IDF(inputCol='domain3',outputCol='domain_vc')"
   ]
  },
  {
   "cell_type": "code",
   "execution_count": 45,
   "metadata": {},
   "outputs": [],
   "source": [
    "(trainDF,testDF) = df.randomSplit((0.7,0.3),seed=42)"
   ]
  },
  {
   "cell_type": "code",
   "execution_count": 46,
   "metadata": {},
   "outputs": [],
   "source": [
    "assembler = VectorAssembler(inputCols=['text_vc','domain_vc', 'favorite_count', 'retweet_count', 'verified', 'followers_count', 'friends_count', 'listed_count', 'favourites_count', 'geo_enabled', 'statuses_count', 'has_extended_profile', 'default_profile'],outputCol=\"features\")"
   ]
  },
  {
   "cell_type": "code",
   "execution_count": 47,
   "metadata": {},
   "outputs": [],
   "source": [
    "# featureIndexer = VectorIndexer(inputCol=\"features\", outputCol=\"indexedFeatures\")\n",
    "# labelIndexer = StringIndexer(inputCol=\"fake\", outputCol=\"indexedLabel\")"
   ]
  },
  {
   "cell_type": "code",
   "execution_count": 48,
   "metadata": {},
   "outputs": [],
   "source": [
    "rf = RandomForestClassifier(labelCol=\"fake\", featuresCol=\"features\", numTrees=10)"
   ]
  },
  {
   "cell_type": "code",
   "execution_count": 49,
   "metadata": {},
   "outputs": [],
   "source": [
    "# pipeline = Pipeline(stages=[tokenizer_text,stopwords_remover_text,vectorizer_text,idf_text,\n",
    "#                             tokenizer_source,stopwords_remover_source,vectorizer_source,idf_source,\n",
    "#                             tokenizer_location,stopwords_remover_location,vectorizer_location,idf_location,\n",
    "#                             assembler,labelIndexer, featureIndexer, rf])\n",
    "\n",
    "pipeline = Pipeline(stages=[tokenizer_text,stopwords_remover_text,vectorizer_text,idf_text,\n",
    "                            tokenizer_domain,stopwords_remover_domain,vectorizer_domain,idf_domain,\n",
    "                            assembler, rf])"
   ]
  },
  {
   "cell_type": "code",
   "execution_count": 50,
   "metadata": {},
   "outputs": [],
   "source": [
    "model = pipeline.fit(trainDF)\n"
   ]
  },
  {
   "cell_type": "code",
   "execution_count": 51,
   "metadata": {},
   "outputs": [],
   "source": [
    "predictions = model.transform(testDF)"
   ]
  },
  {
   "cell_type": "code",
   "execution_count": 52,
   "metadata": {},
   "outputs": [],
   "source": [
    "predictions = predictions.select('fake','prediction')"
   ]
  },
  {
   "cell_type": "code",
   "execution_count": 53,
   "metadata": {},
   "outputs": [],
   "source": [
    "evaluator_accuracy = MulticlassClassificationEvaluator(labelCol='fake',predictionCol='prediction',metricName='accuracy')\n",
    "evaluator_f1 = MulticlassClassificationEvaluator(labelCol='fake',predictionCol='prediction',metricName='f1')\n",
    "evaluator_precision = MulticlassClassificationEvaluator(labelCol='fake',predictionCol='prediction',metricName='weightedPrecision')\n",
    "evaluator_recall = MulticlassClassificationEvaluator(labelCol='fake',predictionCol='prediction',metricName='weightedRecall')"
   ]
  },
  {
   "cell_type": "code",
   "execution_count": 54,
   "metadata": {},
   "outputs": [
    {
     "name": "stdout",
     "output_type": "stream",
     "text": [
      "Accuracy: 0.6487179487179487\n",
      "F1: 0.535647170902203\n",
      "Precision: 0.752516390269698\n",
      "Recall: 0.6487179487179486\n"
     ]
    }
   ],
   "source": [
    "print('Accuracy:', evaluator_accuracy.evaluate(predictions))\n",
    "print('F1:',evaluator_f1.evaluate(predictions))\n",
    "print('Precision:',evaluator_precision.evaluate(predictions))\n",
    "print('Recall:',evaluator_recall.evaluate(predictions))"
   ]
  },
  {
   "cell_type": "code",
   "execution_count": null,
   "metadata": {},
   "outputs": [],
   "source": []
  }
 ],
 "metadata": {
  "kernelspec": {
   "display_name": "Python 3",
   "language": "python",
   "name": "python3"
  },
  "language_info": {
   "codemirror_mode": {
    "name": "ipython",
    "version": 3
   },
   "file_extension": ".py",
   "mimetype": "text/x-python",
   "name": "python",
   "nbconvert_exporter": "python",
   "pygments_lexer": "ipython3",
   "version": "3.7.4"
  }
 },
 "nbformat": 4,
 "nbformat_minor": 4
}
