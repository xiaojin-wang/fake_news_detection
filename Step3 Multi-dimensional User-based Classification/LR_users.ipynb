{
 "cells": [
  {
   "cell_type": "code",
   "execution_count": 1,
   "metadata": {},
   "outputs": [],
   "source": [
    "from pyspark import SparkContext,SparkConf\n",
    "from pyspark.sql import SparkSession \n",
    "from pyspark.sql.functions import *\n",
    "import pyspark.ml.feature\n",
    "from pyspark.ml.feature import Tokenizer,StopWordsRemover,CountVectorizer,IDF\n",
    "from pyspark.ml.linalg import Vectors\n",
    "from pyspark.ml.feature import VectorAssembler\n",
    "from pyspark.ml.classification import GBTClassifier\n",
    "from pyspark.ml.classification import LogisticRegression\n",
    "\n",
    "from pyspark.ml import Pipeline \n",
    "\n",
    "from pyspark.ml.evaluation import MulticlassClassificationEvaluator\n",
    "from pyspark.ml.evaluation import BinaryClassificationEvaluator\n",
    "\n",
    "import warnings\n",
    "warnings.filterwarnings(\"ignore\")"
   ]
  },
  {
   "cell_type": "code",
   "execution_count": 2,
   "metadata": {},
   "outputs": [
    {
     "name": "stderr",
     "output_type": "stream",
     "text": [
      "21/11/04 19:10:54 WARN Utils: Your hostname, weiyuangdeMacBook-Pro.local resolves to a loopback address: 127.0.0.1; using 172.17.194.58 instead (on interface en0)\n",
      "21/11/04 19:10:54 WARN Utils: Set SPARK_LOCAL_IP if you need to bind to another address\n",
      "21/11/04 19:10:55 WARN NativeCodeLoader: Unable to load native-hadoop library for your platform... using builtin-java classes where applicable\n",
      "Using Spark's default log4j profile: org/apache/spark/log4j-defaults.properties\n",
      "Setting default log level to \"WARN\".\n",
      "To adjust logging level use sc.setLogLevel(newLevel). For SparkR, use setLogLevel(newLevel).\n"
     ]
    }
   ],
   "source": [
    "spark = SparkSession.builder.appName(\"Classifier\").config('spark.executor.memory','8G').config(\"spark.driver.memory\", \"8G\").getOrCreate()"
   ]
  },
  {
   "cell_type": "code",
   "execution_count": 3,
   "metadata": {},
   "outputs": [
    {
     "name": "stderr",
     "output_type": "stream",
     "text": []
    }
   ],
   "source": [
    "df = spark.read.csv(\"politifact_with_users.csv\",header=True, sep = ',',multiLine=True, escape = \"\\\"\",inferSchema =True)"
   ]
  },
  {
   "cell_type": "code",
   "execution_count": 4,
   "metadata": {},
   "outputs": [
    {
     "name": "stdout",
     "output_type": "stream",
     "text": [
      "+------------------+----------------+--------------+-------------+----------+--------------------+--------+---------------+--------------------+--------------------+----+-------+---------------+-------------+------------+----------------+-----------+--------------+--------------------+---------------+\n",
      "|          tweet_id|created_at_tweet|favorite_count|retweet_count|   user_id|            location|verified|followers_count|              source|                text|fake|news_id|created_at_user|friends_count|listed_count|favourites_count|geo_enabled|statuses_count|has_extended_profile|default_profile|\n",
      "+------------------+----------------+--------------+-------------+----------+--------------------+--------+---------------+--------------------+--------------------+----+-------+---------------+-------------+------------+----------------+-----------+--------------+--------------------+---------------+\n",
      "|         890268075|      1218988054|             0|            0|  15189613|                null|   false|          113.0|  Twitter Web Client|'usa: The Long Ru...| 0.0|    636|  1.214054191E9|          0.0|         0.0|             0.0|      false|       21006.0|               false|           true|\n",
      "|         890634203|      1219023984|             0|            0|  15209631|                null|   false|           68.0|  Twitter Web Client|'d: The Long Run ...| 0.0|    636|   1.21424365E9|          0.0|         1.0|             0.0|      false|       13775.0|               false|           true|\n",
      "|         889821427|      1218934396|             0|            0|  14882359|          in my room|   false|           49.0|  Twitter Web Client|'From New York Ti...| 0.0|    636|  1.211554581E9|          9.0|         2.0|            19.0|       true|        9652.0|               false|          false|\n",
      "|         890475518|      1219008485|             0|            0|   7094562|                null|   false|          155.0|  Twitter Web Client|'New blog post: R...| 0.0|    636|  1.182888014E9|          0.0|         0.0|             0.0|      false|       82140.0|               false|          false|\n",
      "|         957911564|      1223919986|             0|            0|  15209631|                null|   false|           68.0|  Twitter Web Client|'d: The Long Run ...| 0.0|    636|   1.21424365E9|          0.0|         1.0|             0.0|      false|       13775.0|               false|           true|\n",
      "|         889801941|      1218932447|             0|            0|   1767741|From Sea to Shini...|    true|        84706.0|  Twitter Web Client|'The Long Run: Br...| 0.0|    636|  1.174495724E9|        723.0|      2837.0|          1960.0|       true|      228041.0|               false|          false|\n",
      "|         890635043|      1219024058|             0|            0|  14646765|             twitter|   false|          282.0|  Twitter Web Client|'twaboutMCCAIN&gt...| 0.0|    636|  1.209897124E9|        199.0|        18.0|             0.0|      false|      167430.0|               false|          false|\n",
      "|         890092336|      1218966796|             0|            0|  14882359|          in my room|   false|           49.0|  Twitter Web Client|'From New York Ti...| 0.0|    636|  1.211554581E9|          9.0|         2.0|            19.0|       true|        9652.0|               false|          false|\n",
      "|         890267421|      1218987997|             0|            0|  15209631|                null|   false|           68.0|  Twitter Web Client|'d: The Long Run ...| 0.0|    636|   1.21424365E9|          0.0|         1.0|             0.0|      false|       13775.0|               false|           true|\n",
      "|         890267921|      1218988039|             0|            0|  14646765|             twitter|   false|          282.0|  Twitter Web Client|'twaboutMCCAIN&gt...| 0.0|    636|  1.209897124E9|        199.0|        18.0|             0.0|      false|      167430.0|               false|          false|\n",
      "|         889817855|      1218934055|             0|            0|    807095|       New York City|    true|    5.0695003E7|  Twitter Web Client|'The Long Run: Re...| 0.0|    636|  1.172868102E9|        852.0|    211477.0|         18592.0|      false|      450762.0|               false|          false|\n",
      "|258650144722001920|      1350501974|             0|            0| 327579746|    Aurora, Colorado|   false|           13.0|Twitter for Websites|'PolitiFact | Bar...| 0.0|   8838|  1.309550797E9|        505.0|         0.0|           313.0|      false|          64.0|               false|          false|\n",
      "| 47699081912532992|      1300207321|             0|            0|  22707692|Westchester Count...|   false|         2672.0|Twitter for Websites|'PolitiFact | Bar...| 0.0|   8838|  1.236127171E9|       4958.0|        97.0|        245025.0|      false|      458537.0|                true|           true|\n",
      "|108273790747807744|      1314649458|             0|            0| 330771231|         Phoenix, AZ|   false|         1648.0|Twitter for Websites|'PolitiFact | Bar...| 0.0|   8838|           null|         null|        null|            null|       null|          null|                null|           null|\n",
      "| 63038811898249216|      1303864598|             0|            0| 115730854|         Atlanta, GA|   false|           36.0|Twitter for Websites|'PolitiFact | Big...| 0.0|   8838|  1.266604431E9|          0.0|         0.0|             1.0|      false|         185.0|               false|           true|\n",
      "| 47687240150822912|      1300204498|             0|            0|  28748436|39.9284959,-86.14...|   false|          286.0|Twitter for Websites|'Barack Obama say...| 0.0|   8838|  1.238823563E9|        612.0|        16.0|         14432.0|       true|       17596.0|                true|          false|\n",
      "| 53186786549182464|      1301515692|             0|            0|  24600048|            Colorado|   false|         4649.0|Twitter for Websites|'PolitiFact | Bar...| 0.0|   8838|  1.237156626E9|       4042.0|        91.0|        110972.0|      false|       62252.0|               false|          false|\n",
      "| 47701207480938496|      1300207828|             0|            0| 180854109|               Texas|   false|          373.0|Twitter for Websites|'PolitiFact | Bar...| 0.0|   8838|  1.282324889E9|       1023.0|         8.0|            79.0|       true|        5147.0|               false|          false|\n",
      "|435151103160623104|      1392583082|             0|            0|2250880501|                null|   false|            9.0|   Housing Sites App|'Bakken Housing N...| 0.0|   8838|  1.387308801E9|          0.0|         0.0|             0.0|      false|       52086.0|               false|           true|\n",
      "|101265706972221440|      1312978600|             0|            0| 257571872| Uniondale, New York|   false|          321.0|  Twitter Web Client|'Results from Nat...| 0.0|    150|  1.298658311E9|        544.0|         2.0|           191.0|       true|         702.0|               false|          false|\n",
      "+------------------+----------------+--------------+-------------+----------+--------------------+--------+---------------+--------------------+--------------------+----+-------+---------------+-------------+------------+----------------+-----------+--------------+--------------------+---------------+\n",
      "only showing top 20 rows\n",
      "\n"
     ]
    }
   ],
   "source": [
    "df.show()"
   ]
  },
  {
   "cell_type": "code",
   "execution_count": 5,
   "metadata": {},
   "outputs": [],
   "source": [
    "#df = df.select('news_id')"
   ]
  },
  {
   "cell_type": "code",
   "execution_count": 6,
   "metadata": {},
   "outputs": [
    {
     "data": {
      "text/plain": [
       "[('tweet_id', 'bigint'),\n",
       " ('created_at_tweet', 'int'),\n",
       " ('favorite_count', 'int'),\n",
       " ('retweet_count', 'int'),\n",
       " ('user_id', 'bigint'),\n",
       " ('location', 'string'),\n",
       " ('verified', 'boolean'),\n",
       " ('followers_count', 'double'),\n",
       " ('source', 'string'),\n",
       " ('text', 'string'),\n",
       " ('fake', 'double'),\n",
       " ('news_id', 'int'),\n",
       " ('created_at_user', 'double'),\n",
       " ('friends_count', 'double'),\n",
       " ('listed_count', 'double'),\n",
       " ('favourites_count', 'double'),\n",
       " ('geo_enabled', 'boolean'),\n",
       " ('statuses_count', 'double'),\n",
       " ('has_extended_profile', 'boolean'),\n",
       " ('default_profile', 'boolean')]"
      ]
     },
     "execution_count": 6,
     "metadata": {},
     "output_type": "execute_result"
    }
   ],
   "source": [
    "df.dtypes"
   ]
  },
  {
   "cell_type": "code",
   "execution_count": 7,
   "metadata": {},
   "outputs": [],
   "source": [
    "df = df.select('created_at_tweet','created_at_user','text','location','verified','source', 'followers_count','retweet_count','favorite_count','friends_count','listed_count','favourites_count','statuses_count','geo_enabled','has_extended_profile','default_profile','fake')\n",
    "#df = df.select('created_at','text','location','verified','source', 'followers_count','retweet_count','favorite_count','fake')"
   ]
  },
  {
   "cell_type": "code",
   "execution_count": 8,
   "metadata": {},
   "outputs": [],
   "source": [
    "#df = df.withColumn('created_at_tweet', to_timestamp(col('created_at_tweet'), 'yyyy-MM-dd HH:mm:ss'))\n",
    "#df = df.withColumn('created_at_user', to_timestamp(col('created_at_user'), 'yyyy-MM-dd HH:mm:ss'))"
   ]
  },
  {
   "cell_type": "code",
   "execution_count": 9,
   "metadata": {},
   "outputs": [],
   "source": [
    "#df = df.withColumn('created_at', df.created_at.cast(\"long\"))"
   ]
  },
  {
   "cell_type": "code",
   "execution_count": 10,
   "metadata": {},
   "outputs": [
    {
     "data": {
      "text/plain": [
       "[('created_at_tweet', 'int'),\n",
       " ('created_at_user', 'double'),\n",
       " ('text', 'string'),\n",
       " ('location', 'string'),\n",
       " ('verified', 'boolean'),\n",
       " ('source', 'string'),\n",
       " ('followers_count', 'double'),\n",
       " ('retweet_count', 'int'),\n",
       " ('favorite_count', 'int'),\n",
       " ('friends_count', 'double'),\n",
       " ('listed_count', 'double'),\n",
       " ('favourites_count', 'double'),\n",
       " ('statuses_count', 'double'),\n",
       " ('geo_enabled', 'boolean'),\n",
       " ('has_extended_profile', 'boolean'),\n",
       " ('default_profile', 'boolean'),\n",
       " ('fake', 'double')]"
      ]
     },
     "execution_count": 10,
     "metadata": {},
     "output_type": "execute_result"
    }
   ],
   "source": [
    "df.dtypes"
   ]
  },
  {
   "cell_type": "code",
   "execution_count": 11,
   "metadata": {},
   "outputs": [],
   "source": [
    "df = df.dropna(subset=('text'))\n",
    "df = df.dropna(subset = ('geo_enabled','has_extended_profile','default_profile'))"
   ]
  },
  {
   "cell_type": "code",
   "execution_count": 12,
   "metadata": {},
   "outputs": [],
   "source": [
    "df = df.fillna('null', subset = ('source', 'location'))"
   ]
  },
  {
   "cell_type": "code",
   "execution_count": 13,
   "metadata": {},
   "outputs": [],
   "source": [
    "tokenizer_text = Tokenizer(inputCol='text',outputCol='text1')\n",
    "stopwords_remover_text = StopWordsRemover(inputCol='text1',outputCol='text2')\n",
    "vectorizer_text = CountVectorizer(inputCol='text2',outputCol='text3')\n",
    "idf_text = IDF(inputCol='text3',outputCol='text_vc')"
   ]
  },
  {
   "cell_type": "code",
   "execution_count": 14,
   "metadata": {},
   "outputs": [],
   "source": [
    "tokenizer_location = Tokenizer(inputCol='location',outputCol='location1')\n",
    "stopwords_remover_location = StopWordsRemover(inputCol='location1',outputCol='location2')\n",
    "vectorizer_location = CountVectorizer(inputCol='location2',outputCol='location3')\n",
    "idf_location = IDF(inputCol='location3',outputCol='location_vc')"
   ]
  },
  {
   "cell_type": "code",
   "execution_count": 15,
   "metadata": {},
   "outputs": [],
   "source": [
    "tokenizer_source = Tokenizer(inputCol='source',outputCol='source1')\n",
    "stopwords_remover_source = StopWordsRemover(inputCol='source1',outputCol='source2')\n",
    "vectorizer_source = CountVectorizer(inputCol='source2',outputCol='source3')\n",
    "idf_source = IDF(inputCol='source3',outputCol='source_vc')"
   ]
  },
  {
   "cell_type": "code",
   "execution_count": 16,
   "metadata": {},
   "outputs": [],
   "source": [
    "(trainDF,testDF) = df.randomSplit((0.7,0.3),seed=42)"
   ]
  },
  {
   "cell_type": "code",
   "execution_count": 17,
   "metadata": {},
   "outputs": [],
   "source": [
    "input_cols = ['created_at_tweet','created_at_user','text_vc','location_vc','verified','source_vc', 'followers_count','retweet_count','favorite_count','friends_count','listed_count','favourites_count','statuses_count','geo_enabled','has_extended_profile','default_profile']\n",
    "\n",
    "#input_cols = ['created_at','text_vc','location_vc','verified','source_vc', 'followers_count','retweet_count','favorite_count']"
   ]
  },
  {
   "cell_type": "code",
   "execution_count": 18,
   "metadata": {},
   "outputs": [],
   "source": [
    "assembler = VectorAssembler(inputCols=input_cols,outputCol=\"features\")"
   ]
  },
  {
   "cell_type": "code",
   "execution_count": 19,
   "metadata": {},
   "outputs": [],
   "source": [
    "LR = LogisticRegression(featuresCol='features',labelCol='fake')"
   ]
  },
  {
   "cell_type": "code",
   "execution_count": 20,
   "metadata": {},
   "outputs": [],
   "source": [
    "pipeline = Pipeline(stages=[tokenizer_text,stopwords_remover_text,vectorizer_text,idf_text,\n",
    "                            tokenizer_source,stopwords_remover_source,vectorizer_source,idf_source,\n",
    "                            tokenizer_location,stopwords_remover_location,vectorizer_location,idf_location,\n",
    "                            assembler,LR])"
   ]
  },
  {
   "cell_type": "code",
   "execution_count": 21,
   "metadata": {
    "pycharm": {
     "is_executing": true
    }
   },
   "outputs": [
    {
     "name": "stderr",
     "output_type": "stream",
     "text": [
      "21/11/04 19:11:24 WARN DAGScheduler: Broadcasting large task binary with size 4.1 MiB\n",
      "21/11/04 19:11:53 WARN DAGScheduler: Broadcasting large task binary with size 26.1 MiB\n",
      "21/11/04 19:12:11 WARN DAGScheduler: Broadcasting large task binary with size 26.1 MiB\n",
      "21/11/04 19:12:28 WARN BLAS: Failed to load implementation from: com.github.fommil.netlib.NativeSystemBLAS\n",
      "21/11/04 19:12:28 WARN BLAS: Failed to load implementation from: com.github.fommil.netlib.NativeRefBLAS\n",
      "21/11/04 19:12:29 WARN DAGScheduler: Broadcasting large task binary with size 26.1 MiB\n",
      "21/11/04 19:12:30 WARN DAGScheduler: Broadcasting large task binary with size 26.1 MiB\n",
      "21/11/04 19:12:31 WARN DAGScheduler: Broadcasting large task binary with size 26.1 MiB\n",
      "21/11/04 19:12:32 WARN DAGScheduler: Broadcasting large task binary with size 26.1 MiB\n",
      "21/11/04 19:12:34 WARN DAGScheduler: Broadcasting large task binary with size 26.1 MiB\n",
      "21/11/04 19:12:35 WARN DAGScheduler: Broadcasting large task binary with size 26.1 MiB\n",
      "21/11/04 19:12:36 WARN DAGScheduler: Broadcasting large task binary with size 26.1 MiB\n",
      "21/11/04 19:12:38 WARN DAGScheduler: Broadcasting large task binary with size 26.1 MiB\n",
      "21/11/04 19:12:39 WARN DAGScheduler: Broadcasting large task binary with size 26.1 MiB\n",
      "21/11/04 19:12:40 WARN DAGScheduler: Broadcasting large task binary with size 26.1 MiB\n",
      "21/11/04 19:12:42 WARN DAGScheduler: Broadcasting large task binary with size 26.1 MiB\n",
      "21/11/04 19:12:43 WARN DAGScheduler: Broadcasting large task binary with size 26.1 MiB\n",
      "21/11/04 19:12:44 WARN DAGScheduler: Broadcasting large task binary with size 26.1 MiB\n",
      "21/11/04 19:12:46 WARN DAGScheduler: Broadcasting large task binary with size 26.1 MiB\n",
      "21/11/04 19:12:47 WARN DAGScheduler: Broadcasting large task binary with size 26.1 MiB\n",
      "21/11/04 19:12:48 WARN DAGScheduler: Broadcasting large task binary with size 26.1 MiB\n",
      "21/11/04 19:12:49 WARN DAGScheduler: Broadcasting large task binary with size 26.1 MiB\n",
      "21/11/04 19:12:51 WARN DAGScheduler: Broadcasting large task binary with size 26.1 MiB\n",
      "21/11/04 19:12:52 WARN DAGScheduler: Broadcasting large task binary with size 26.1 MiB\n",
      "21/11/04 19:12:53 WARN DAGScheduler: Broadcasting large task binary with size 26.1 MiB\n",
      "21/11/04 19:12:55 WARN DAGScheduler: Broadcasting large task binary with size 26.1 MiB\n",
      "21/11/04 19:12:56 WARN DAGScheduler: Broadcasting large task binary with size 26.1 MiB\n",
      "21/11/04 19:12:57 WARN DAGScheduler: Broadcasting large task binary with size 26.1 MiB\n",
      "21/11/04 19:12:58 WARN DAGScheduler: Broadcasting large task binary with size 26.1 MiB\n",
      "21/11/04 19:13:00 WARN DAGScheduler: Broadcasting large task binary with size 26.1 MiB\n",
      "21/11/04 19:13:01 WARN DAGScheduler: Broadcasting large task binary with size 26.1 MiB\n",
      "21/11/04 19:13:02 WARN DAGScheduler: Broadcasting large task binary with size 26.1 MiB\n",
      "21/11/04 19:13:04 WARN DAGScheduler: Broadcasting large task binary with size 26.1 MiB\n",
      "21/11/04 19:13:05 WARN DAGScheduler: Broadcasting large task binary with size 26.1 MiB\n",
      "21/11/04 19:13:06 WARN DAGScheduler: Broadcasting large task binary with size 26.1 MiB\n",
      "21/11/04 19:13:08 WARN DAGScheduler: Broadcasting large task binary with size 26.1 MiB\n",
      "21/11/04 19:13:09 WARN DAGScheduler: Broadcasting large task binary with size 26.1 MiB\n",
      "21/11/04 19:13:11 WARN DAGScheduler: Broadcasting large task binary with size 26.1 MiB\n",
      "21/11/04 19:13:12 WARN DAGScheduler: Broadcasting large task binary with size 26.1 MiB\n",
      "21/11/04 19:13:13 WARN DAGScheduler: Broadcasting large task binary with size 26.1 MiB\n",
      "21/11/04 19:13:14 WARN DAGScheduler: Broadcasting large task binary with size 26.1 MiB\n",
      "21/11/04 19:13:16 WARN DAGScheduler: Broadcasting large task binary with size 26.1 MiB\n",
      "21/11/04 19:13:17 WARN DAGScheduler: Broadcasting large task binary with size 26.1 MiB\n",
      "21/11/04 19:13:18 WARN DAGScheduler: Broadcasting large task binary with size 26.1 MiB\n",
      "21/11/04 19:13:20 WARN DAGScheduler: Broadcasting large task binary with size 26.1 MiB\n",
      "21/11/04 19:13:21 WARN DAGScheduler: Broadcasting large task binary with size 26.1 MiB\n",
      "21/11/04 19:13:22 WARN DAGScheduler: Broadcasting large task binary with size 26.1 MiB\n",
      "21/11/04 19:13:24 WARN DAGScheduler: Broadcasting large task binary with size 26.1 MiB\n",
      "21/11/04 19:13:25 WARN DAGScheduler: Broadcasting large task binary with size 26.1 MiB\n",
      "21/11/04 19:13:26 WARN DAGScheduler: Broadcasting large task binary with size 26.1 MiB\n",
      "21/11/04 19:13:28 WARN DAGScheduler: Broadcasting large task binary with size 26.1 MiB\n",
      "21/11/04 19:13:29 WARN DAGScheduler: Broadcasting large task binary with size 26.1 MiB\n",
      "21/11/04 19:13:30 WARN DAGScheduler: Broadcasting large task binary with size 26.1 MiB\n",
      "21/11/04 19:13:32 WARN DAGScheduler: Broadcasting large task binary with size 26.1 MiB\n",
      "21/11/04 19:13:33 WARN DAGScheduler: Broadcasting large task binary with size 26.1 MiB\n",
      "21/11/04 19:13:34 WARN DAGScheduler: Broadcasting large task binary with size 26.1 MiB\n",
      "21/11/04 19:13:35 WARN DAGScheduler: Broadcasting large task binary with size 26.1 MiB\n",
      "21/11/04 19:13:37 WARN DAGScheduler: Broadcasting large task binary with size 26.1 MiB\n",
      "21/11/04 19:13:38 WARN DAGScheduler: Broadcasting large task binary with size 26.1 MiB\n",
      "21/11/04 19:13:39 WARN DAGScheduler: Broadcasting large task binary with size 26.1 MiB\n",
      "21/11/04 19:13:40 WARN DAGScheduler: Broadcasting large task binary with size 26.1 MiB\n",
      "21/11/04 19:13:42 WARN DAGScheduler: Broadcasting large task binary with size 26.1 MiB\n",
      "21/11/04 19:13:43 WARN DAGScheduler: Broadcasting large task binary with size 26.1 MiB\n",
      "21/11/04 19:13:44 WARN DAGScheduler: Broadcasting large task binary with size 26.1 MiB\n",
      "21/11/04 19:13:45 WARN DAGScheduler: Broadcasting large task binary with size 26.1 MiB\n",
      "21/11/04 19:13:47 WARN DAGScheduler: Broadcasting large task binary with size 26.1 MiB\n",
      "21/11/04 19:13:48 WARN DAGScheduler: Broadcasting large task binary with size 26.1 MiB\n",
      "21/11/04 19:13:49 WARN DAGScheduler: Broadcasting large task binary with size 26.1 MiB\n",
      "21/11/04 19:13:51 WARN DAGScheduler: Broadcasting large task binary with size 26.1 MiB\n",
      "21/11/04 19:13:52 WARN DAGScheduler: Broadcasting large task binary with size 26.1 MiB\n",
      "21/11/04 19:13:54 WARN DAGScheduler: Broadcasting large task binary with size 26.1 MiB\n",
      "21/11/04 19:13:55 WARN DAGScheduler: Broadcasting large task binary with size 26.1 MiB\n",
      "21/11/04 19:13:56 WARN DAGScheduler: Broadcasting large task binary with size 26.1 MiB\n",
      "21/11/04 19:13:58 WARN DAGScheduler: Broadcasting large task binary with size 26.1 MiB\n",
      "21/11/04 19:13:59 WARN DAGScheduler: Broadcasting large task binary with size 26.1 MiB\n",
      "21/11/04 19:14:00 WARN DAGScheduler: Broadcasting large task binary with size 26.1 MiB\n",
      "21/11/04 19:14:01 WARN DAGScheduler: Broadcasting large task binary with size 26.1 MiB\n",
      "21/11/04 19:14:03 WARN DAGScheduler: Broadcasting large task binary with size 26.1 MiB\n",
      "21/11/04 19:14:04 WARN DAGScheduler: Broadcasting large task binary with size 26.1 MiB\n",
      "21/11/04 19:14:05 WARN DAGScheduler: Broadcasting large task binary with size 26.1 MiB\n",
      "21/11/04 19:14:07 WARN DAGScheduler: Broadcasting large task binary with size 26.1 MiB\n",
      "21/11/04 19:14:08 WARN DAGScheduler: Broadcasting large task binary with size 26.1 MiB\n",
      "21/11/04 19:14:09 WARN DAGScheduler: Broadcasting large task binary with size 26.1 MiB\n",
      "21/11/04 19:14:11 WARN DAGScheduler: Broadcasting large task binary with size 26.1 MiB\n",
      "21/11/04 19:14:12 WARN DAGScheduler: Broadcasting large task binary with size 26.1 MiB\n",
      "21/11/04 19:14:13 WARN DAGScheduler: Broadcasting large task binary with size 26.1 MiB\n",
      "21/11/04 19:14:14 WARN DAGScheduler: Broadcasting large task binary with size 26.1 MiB\n",
      "21/11/04 19:14:15 WARN DAGScheduler: Broadcasting large task binary with size 26.1 MiB\n",
      "21/11/04 19:14:17 WARN DAGScheduler: Broadcasting large task binary with size 26.1 MiB\n",
      "21/11/04 19:14:18 WARN DAGScheduler: Broadcasting large task binary with size 26.1 MiB\n",
      "21/11/04 19:14:19 WARN DAGScheduler: Broadcasting large task binary with size 26.1 MiB\n",
      "21/11/04 19:14:20 WARN DAGScheduler: Broadcasting large task binary with size 26.1 MiB\n",
      "21/11/04 19:14:21 WARN DAGScheduler: Broadcasting large task binary with size 26.1 MiB\n",
      "21/11/04 19:14:23 WARN DAGScheduler: Broadcasting large task binary with size 26.1 MiB\n",
      "21/11/04 19:14:24 WARN DAGScheduler: Broadcasting large task binary with size 26.1 MiB\n",
      "21/11/04 19:14:25 WARN DAGScheduler: Broadcasting large task binary with size 26.1 MiB\n",
      "21/11/04 19:14:27 WARN DAGScheduler: Broadcasting large task binary with size 26.1 MiB\n",
      "21/11/04 19:14:28 WARN DAGScheduler: Broadcasting large task binary with size 26.1 MiB\n",
      "21/11/04 19:14:29 WARN DAGScheduler: Broadcasting large task binary with size 26.1 MiB\n",
      "21/11/04 19:14:31 WARN DAGScheduler: Broadcasting large task binary with size 26.1 MiB\n",
      "21/11/04 19:14:32 WARN DAGScheduler: Broadcasting large task binary with size 26.1 MiB\n",
      "21/11/04 19:14:33 WARN DAGScheduler: Broadcasting large task binary with size 26.1 MiB\n",
      "21/11/04 19:14:35 WARN DAGScheduler: Broadcasting large task binary with size 26.1 MiB\n",
      "21/11/04 19:14:36 WARN DAGScheduler: Broadcasting large task binary with size 26.1 MiB\n",
      "21/11/04 19:14:37 WARN DAGScheduler: Broadcasting large task binary with size 26.1 MiB\n",
      "21/11/04 19:14:39 WARN DAGScheduler: Broadcasting large task binary with size 26.1 MiB\n"
     ]
    }
   ],
   "source": [
    "lr_model = pipeline.fit(trainDF)"
   ]
  },
  {
   "cell_type": "code",
   "execution_count": 22,
   "metadata": {
    "pycharm": {
     "is_executing": true
    }
   },
   "outputs": [],
   "source": [
    "predictions = lr_model.transform(testDF)"
   ]
  },
  {
   "cell_type": "code",
   "execution_count": 23,
   "metadata": {
    "pycharm": {
     "is_executing": true
    }
   },
   "outputs": [],
   "source": [
    "predictions = predictions.select('fake','prediction')"
   ]
  },
  {
   "cell_type": "code",
   "execution_count": 24,
   "metadata": {
    "pycharm": {
     "is_executing": true
    }
   },
   "outputs": [],
   "source": [
    "\n",
    "evaluator_accuracy = MulticlassClassificationEvaluator(labelCol='fake',predictionCol='prediction',metricName='accuracy')\n",
    "evaluator_f1 = MulticlassClassificationEvaluator(labelCol='fake',predictionCol='prediction',metricName='f1')\n",
    "evaluator_precision = MulticlassClassificationEvaluator(labelCol='fake',predictionCol='prediction',metricName='weightedPrecision')\n",
    "evaluator_recall = MulticlassClassificationEvaluator(labelCol='fake',predictionCol='prediction',metricName='weightedRecall')\n"
   ]
  },
  {
   "cell_type": "code",
   "execution_count": 25,
   "metadata": {
    "pycharm": {
     "is_executing": true
    }
   },
   "outputs": [
    {
     "name": "stderr",
     "output_type": "stream",
     "text": [
      "21/11/04 19:14:44 WARN DAGScheduler: Broadcasting large task binary with size 28.4 MiB\n"
     ]
    },
    {
     "name": "stdout",
     "output_type": "stream",
     "text": [
      "Accuracy: 0.960558151341832\n"
     ]
    },
    {
     "name": "stderr",
     "output_type": "stream",
     "text": [
      "21/11/04 19:14:54 WARN DAGScheduler: Broadcasting large task binary with size 28.4 MiB\n"
     ]
    },
    {
     "name": "stdout",
     "output_type": "stream",
     "text": [
      "F1: 0.9604506329496398\n"
     ]
    },
    {
     "name": "stderr",
     "output_type": "stream",
     "text": [
      "21/11/04 19:15:03 WARN DAGScheduler: Broadcasting large task binary with size 28.4 MiB\n"
     ]
    },
    {
     "name": "stdout",
     "output_type": "stream",
     "text": [
      "Precision: 0.9603931956678895\n"
     ]
    },
    {
     "name": "stderr",
     "output_type": "stream",
     "text": [
      "21/11/04 19:15:13 WARN DAGScheduler: Broadcasting large task binary with size 28.4 MiB\n"
     ]
    },
    {
     "name": "stdout",
     "output_type": "stream",
     "text": [
      "Recall: 0.960558151341832\n"
     ]
    },
    {
     "name": "stderr",
     "output_type": "stream",
     "text": []
    }
   ],
   "source": [
    "\n",
    "print('Accuracy:', evaluator_accuracy.evaluate(predictions))\n",
    "print('F1:',evaluator_f1.evaluate(predictions))\n",
    "print('Precision:',evaluator_precision.evaluate(predictions))\n",
    "print('Recall:',evaluator_recall.evaluate(predictions))\n"
   ]
  },
  {
   "cell_type": "code",
   "execution_count": 26,
   "metadata": {},
   "outputs": [
    {
     "name": "stderr",
     "output_type": "stream",
     "text": [
      "21/11/04 19:15:23 WARN package: Truncated the string representation of a plan since it was too large. This behavior can be adjusted by setting 'spark.sql.debug.maxToStringFields'.\n",
      "21/11/04 19:15:24 WARN DAGScheduler: Broadcasting large task binary with size 28.4 MiB\n",
      "21/11/04 19:15:35 WARN DAGScheduler: Broadcasting large task binary with size 28.4 MiB\n",
      "21/11/04 19:15:45 WARN DAGScheduler: Broadcasting large task binary with size 28.4 MiB\n",
      "21/11/04 19:15:56 WARN DAGScheduler: Broadcasting large task binary with size 28.4 MiB\n"
     ]
    }
   ],
   "source": [
    "TP = predictions[(predictions.prediction == 1) & (predictions.fake == 1)].count()\n",
    "FN = predictions[(predictions.prediction == 0) & (predictions.fake == 1)].count()\n",
    "TN = predictions[(predictions.prediction == 0) & (predictions.fake == 0)].count()\n",
    "FP = predictions[(predictions.prediction == 1) & (predictions.fake == 0)].count()"
   ]
  },
  {
   "cell_type": "code",
   "execution_count": 27,
   "metadata": {},
   "outputs": [
    {
     "name": "stdout",
     "output_type": "stream",
     "text": [
      "Accuracy: 0.960558151341832\n",
      "Precision: 0.933890508973935\n",
      "Recall: 0.9180482903330673\n",
      "F1: 0.9259016393442623\n"
     ]
    }
   ],
   "source": [
    "print('Accuracy:', (TP+TN)/(TP+FP+FN+TN))\n",
    "print('Precision:', (TP)/(TP+FP))\n",
    "print('Recall:', (TP)/(TP+FN))\n",
    "print('F1:',(2*TP)/(2*TP+FP+FN))"
   ]
  },
  {
   "cell_type": "code",
   "execution_count": null,
   "metadata": {},
   "outputs": [],
   "source": []
  }
 ],
 "metadata": {
  "interpreter": {
   "hash": "cd4b3cbc2e4b5e62ec39e2e605a557c785bc0e20381f0efb31a5162e9c9e6c88"
  },
  "kernelspec": {
   "display_name": "Python 3.8.5 64-bit ('pa1': conda)",
   "name": "python3"
  },
  "language_info": {
   "codemirror_mode": {
    "name": "ipython",
    "version": 3
   },
   "file_extension": ".py",
   "mimetype": "text/x-python",
   "name": "python",
   "nbconvert_exporter": "python",
   "pygments_lexer": "ipython3",
   "version": "3.8.5"
  }
 },
 "nbformat": 4,
 "nbformat_minor": 5
}
