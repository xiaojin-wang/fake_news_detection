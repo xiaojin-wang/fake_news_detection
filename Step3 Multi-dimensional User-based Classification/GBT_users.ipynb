{
 "cells": [
  {
   "cell_type": "code",
   "execution_count": 29,
   "metadata": {},
   "outputs": [],
   "source": [
    "from pyspark import SparkContext,SparkConf\n",
    "from pyspark.sql import SparkSession \n",
    "from pyspark.sql.functions import *\n",
    "import pyspark.ml.feature\n",
    "from pyspark.ml.feature import Tokenizer,StopWordsRemover,CountVectorizer,IDF\n",
    "from pyspark.ml.linalg import Vectors\n",
    "from pyspark.ml.feature import VectorAssembler\n",
    "from pyspark.ml.classification import GBTClassifier\n",
    "from pyspark.ml.classification import LogisticRegression\n",
    "\n",
    "from pyspark.ml import Pipeline \n",
    "\n",
    "from pyspark.ml.evaluation import MulticlassClassificationEvaluator\n",
    "from pyspark.ml.evaluation import BinaryClassificationEvaluator\n",
    "\n",
    "import warnings\n",
    "warnings.filterwarnings(\"ignore\")"
   ]
  },
  {
   "cell_type": "code",
   "execution_count": 30,
   "metadata": {},
   "outputs": [],
   "source": [
    "spark = SparkSession.builder.appName(\"Classifier\").config('spark.executor.memory','8G').config(\"spark.driver.memory\", \"8G\").getOrCreate()"
   ]
  },
  {
   "cell_type": "code",
   "execution_count": 31,
   "metadata": {},
   "outputs": [
    {
     "name": "stderr",
     "output_type": "stream",
     "text": []
    }
   ],
   "source": [
    "df = spark.read.csv(\"gossipcop_with_users.csv\",header=True, sep = ',',multiLine=True, escape = \"\\\"\",inferSchema =True)"
   ]
  },
  {
   "cell_type": "code",
   "execution_count": 32,
   "metadata": {},
   "outputs": [
    {
     "name": "stdout",
     "output_type": "stream",
     "text": [
      "+------------------+----------------+--------------+-------------+------------------+--------------------+--------+---------------+------------------+--------------------+----+-------+---------------+-------------+------------+----------------+-----------+--------------+--------------------+---------------+\n",
      "|          tweet_id|created_at_tweet|favorite_count|retweet_count|           user_id|            location|verified|followers_count|            source|                text|fake|news_id|created_at_user|friends_count|listed_count|favourites_count|geo_enabled|statuses_count|has_extended_profile|default_profile|\n",
      "+------------------+----------------+--------------+-------------+------------------+--------------------+--------+---------------+------------------+--------------------+----+-------+---------------+-------------+------------+----------------+-----------+--------------+--------------------+---------------+\n",
      "|853737542499348480|      1492381866|             0|            0|         527095730|   Sydney, Australia|   false|        11062.0|         Hootsuite|\"Bristol Palin Lo...| 0.0| 843836|  1.331959148E9|       4338.0|        46.0|            33.0|      false|       62567.0|               false|          false|\n",
      "|853743876854530048|      1492383376|             0|            0|         230056211|                null|   false|          297.0|           dlvr.it|\"Bristol Palin Lo...| 0.0| 843836|   1.29316352E9|        171.0|         0.0|           495.0|       true|       60312.0|                true|          false|\n",
      "|853842612775665664|      1492406917|             0|            0|          23113271|          Orem, Utah|   false|           48.0|Twitter Web Client|\"Bristol Palin Lo...| 0.0| 843836|  1.236371023E9|       1877.0|        37.0|         24664.0|       true|      381578.0|                true|          false|\n",
      "|853736273667776512|      1492381563|             0|            0|          66295774|           The Earth|   false|        12972.0|           dlvr.it|\"https://t.co/mns...| 0.0| 843836|  1.250490776E9|      14748.0|       237.0|            69.0|      false|       91545.0|               false|          false|\n",
      "|853738600743280640|      1492382118|             0|            0|        1252242577|                null|   false|         4485.0|        Twibble.io|\"Bristol Palin Lo...| 0.0| 843836|  1.362762044E9|       1739.0|       186.0|             8.0|      false|      388933.0|               false|          false|\n",
      "|853758430942601216|      1492386846|             0|            0|        2202767136|                null|   false|         1397.0|           dlvr.it|\"Bristol Palin Lo...| 0.0| 843836|  1.384851842E9|       1830.0|        27.0|           789.0|      false|       71397.0|               false|          false|\n",
      "|853758421190942720|      1492386844|             0|            0|        2385794396|                null|   false|         1406.0|           dlvr.it|\"Bristol Palin Lo...| 0.0| 843836|  1.394657171E9|       1810.0|        50.0|           850.0|      false|      109438.0|               false|          false|\n",
      "|853737424974995456|      1492381838|             0|            0|         600811002|             Wrexham|   false|          468.0|             IFTTT|\"Bristol Palin Lo...| 0.0| 843836|  1.338963489E9|       1181.0|        20.0|           218.0|       true|      121528.0|               false|          false|\n",
      "|853738565942902784|      1492382110|             0|            0|        2810067379|Hollywood - World...|   false|         4573.0|           dlvr.it|\"Bristol Palin Lo...| 0.0| 843836|  1.410723766E9|        724.0|        14.0|           227.0|      false|       45699.0|               false|           true|\n",
      "|853739101500997632|      1492382238|             0|            0|         637357108|            New York|   false|           19.0|          Facebook|\"Bristol Palin Lo...| 0.0| 843836|  1.342479379E9|         45.0|         1.0|             0.0|      false|       63309.0|               false|           true|\n",
      "|853741358099681280|      1492382776|             0|            0|786980791427280896|            Honduras|   false|            6.0|         Hootsuite|\"#Moda Bristol Pa...| 0.0| 843836|  1.476465816E9|        125.0|         0.0|           255.0|      false|        3405.0|                true|           true|\n",
      "|853815494641676288|      1492400451|             0|            0|          42639323|     Cleveland, Ohio|   false|         2901.0|             IFTTT|\"Bristol Palin Lo...| 0.0| 843836|  1.243349594E9|       2417.0|        88.0|           349.0|       true|      184134.0|               false|          false|\n",
      "|853743884169433088|      1492383378|             0|            0|        3318784682|221B Baker St London|   false|         3313.0|           dlvr.it|\"Bristol Palin Lo...| 0.0| 843836|  1.439909415E9|       3213.0|        27.0|          2629.0|       true|       66968.0|                true|           true|\n",
      "|853817104159694848|      1492400835|             0|            0|745739407135752193|          London, UK|   false|          211.0|             IFTTT|\"Bristol Palin Lo...| 0.0| 843836|  1.466633104E9|         28.0|       105.0|             1.0|      false|      489638.0|               false|           true|\n",
      "|853807947255865344|      1492398652|             0|            0|          26871746|              Dallas|   false|          409.0|Twitter for iPhone|\"Bristol Palin Lo...| 0.0| 843836|  1.238106523E9|       2039.0|        15.0|         27394.0|       true|       45881.0|                true|          false|\n",
      "|853745219300405248|      1492383696|             0|            0|791329130302230528|            Honduras|   false|            3.0|         Hootsuite|\"#MODA Bristol Pa...| 0.0| 843836|  1.477502541E9|         29.0|         0.0|           282.0|      false|        3462.0|                true|           true|\n",
      "|853903801526345728|      1492421505|             0|            0|         528829450|                null|   false|         1308.0|             Qktip|'Bristol Palin Lo...| 0.0| 843836|  1.332103094E9|        592.0|       158.0|             0.0|      false|      587784.0|               false|           true|\n",
      "|853857456103067648|      1492410456|             0|            0|        3288161028|                null|   false|          567.0|             IFTTT|\"all_newsonline1:...| 0.0| 843836|  1.437621638E9|        550.0|       128.0|            23.0|      false|      179302.0|               false|          false|\n",
      "|853738919694925824|      1492382194|             0|            0|        2355797043|             Jamaica|   false|          980.0|     WordPress.com|\"Bristol Palin Lo...| 0.0| 843836|    1.3929556E9|       1761.0|         6.0|            15.0|      false|       38484.0|               false|           true|\n",
      "|853743883397636096|      1492383378|             1|            0|        4631439554|   Grand Prairie, TX|   false|         1655.0|           dlvr.it|\"Bristol Palin Lo...| 0.0| 843836|  1.450791557E9|       4462.0|        16.0|          3553.0|      false|       46969.0|                true|           true|\n",
      "+------------------+----------------+--------------+-------------+------------------+--------------------+--------+---------------+------------------+--------------------+----+-------+---------------+-------------+------------+----------------+-----------+--------------+--------------------+---------------+\n",
      "only showing top 20 rows\n",
      "\n"
     ]
    }
   ],
   "source": [
    "df.show()"
   ]
  },
  {
   "cell_type": "code",
   "execution_count": 33,
   "metadata": {},
   "outputs": [],
   "source": [
    "#df = df.select('news_id')"
   ]
  },
  {
   "cell_type": "code",
   "execution_count": 34,
   "metadata": {},
   "outputs": [
    {
     "data": {
      "text/plain": [
       "[('tweet_id', 'bigint'),\n",
       " ('created_at_tweet', 'int'),\n",
       " ('favorite_count', 'int'),\n",
       " ('retweet_count', 'int'),\n",
       " ('user_id', 'bigint'),\n",
       " ('location', 'string'),\n",
       " ('verified', 'boolean'),\n",
       " ('followers_count', 'double'),\n",
       " ('source', 'string'),\n",
       " ('text', 'string'),\n",
       " ('fake', 'double'),\n",
       " ('news_id', 'bigint'),\n",
       " ('created_at_user', 'double'),\n",
       " ('friends_count', 'double'),\n",
       " ('listed_count', 'double'),\n",
       " ('favourites_count', 'double'),\n",
       " ('geo_enabled', 'boolean'),\n",
       " ('statuses_count', 'double'),\n",
       " ('has_extended_profile', 'boolean'),\n",
       " ('default_profile', 'boolean')]"
      ]
     },
     "execution_count": 34,
     "metadata": {},
     "output_type": "execute_result"
    }
   ],
   "source": [
    "df.dtypes"
   ]
  },
  {
   "cell_type": "code",
   "execution_count": 35,
   "metadata": {},
   "outputs": [],
   "source": [
    "df = df.select('created_at_tweet','created_at_user','text','location','verified','source', 'followers_count','retweet_count','favorite_count','friends_count','listed_count','favourites_count','statuses_count','geo_enabled','has_extended_profile','default_profile','fake')\n",
    "#df = df.select('created_at','text','location','verified','source', 'followers_count','retweet_count','favorite_count','fake')"
   ]
  },
  {
   "cell_type": "code",
   "execution_count": 36,
   "metadata": {},
   "outputs": [],
   "source": [
    "#df = df.withColumn('created_at_tweet', to_timestamp(col('created_at_tweet'), 'yyyy-MM-dd HH:mm:ss'))\n",
    "#df = df.withColumn('created_at_user', to_timestamp(col('created_at_user'), 'yyyy-MM-dd HH:mm:ss'))"
   ]
  },
  {
   "cell_type": "code",
   "execution_count": 37,
   "metadata": {},
   "outputs": [],
   "source": [
    "#df = df.withColumn('created_at', df.created_at.cast(\"long\"))"
   ]
  },
  {
   "cell_type": "code",
   "execution_count": 38,
   "metadata": {},
   "outputs": [
    {
     "data": {
      "text/plain": [
       "[('created_at_tweet', 'int'),\n",
       " ('created_at_user', 'double'),\n",
       " ('text', 'string'),\n",
       " ('location', 'string'),\n",
       " ('verified', 'boolean'),\n",
       " ('source', 'string'),\n",
       " ('followers_count', 'double'),\n",
       " ('retweet_count', 'int'),\n",
       " ('favorite_count', 'int'),\n",
       " ('friends_count', 'double'),\n",
       " ('listed_count', 'double'),\n",
       " ('favourites_count', 'double'),\n",
       " ('statuses_count', 'double'),\n",
       " ('geo_enabled', 'boolean'),\n",
       " ('has_extended_profile', 'boolean'),\n",
       " ('default_profile', 'boolean'),\n",
       " ('fake', 'double')]"
      ]
     },
     "execution_count": 38,
     "metadata": {},
     "output_type": "execute_result"
    }
   ],
   "source": [
    "df.dtypes"
   ]
  },
  {
   "cell_type": "code",
   "execution_count": 39,
   "metadata": {},
   "outputs": [],
   "source": [
    "df = df.dropna(subset=('text'))\n",
    "df = df.dropna(subset = ('geo_enabled','has_extended_profile','default_profile'))"
   ]
  },
  {
   "cell_type": "code",
   "execution_count": 40,
   "metadata": {},
   "outputs": [],
   "source": [
    "df = df.fillna('null', subset = ('source', 'location'))"
   ]
  },
  {
   "cell_type": "code",
   "execution_count": 41,
   "metadata": {},
   "outputs": [],
   "source": [
    "tokenizer_text = Tokenizer(inputCol='text',outputCol='text1')\n",
    "stopwords_remover_text = StopWordsRemover(inputCol='text1',outputCol='text2')\n",
    "vectorizer_text = CountVectorizer(inputCol='text2',outputCol='text3')\n",
    "idf_text = IDF(inputCol='text3',outputCol='text_vc')"
   ]
  },
  {
   "cell_type": "code",
   "execution_count": 42,
   "metadata": {},
   "outputs": [],
   "source": [
    "tokenizer_location = Tokenizer(inputCol='location',outputCol='location1')\n",
    "stopwords_remover_location = StopWordsRemover(inputCol='location1',outputCol='location2')\n",
    "vectorizer_location = CountVectorizer(inputCol='location2',outputCol='location3')\n",
    "idf_location = IDF(inputCol='location3',outputCol='location_vc')"
   ]
  },
  {
   "cell_type": "code",
   "execution_count": 43,
   "metadata": {},
   "outputs": [],
   "source": [
    "tokenizer_source = Tokenizer(inputCol='source',outputCol='source1')\n",
    "stopwords_remover_source = StopWordsRemover(inputCol='source1',outputCol='source2')\n",
    "vectorizer_source = CountVectorizer(inputCol='source2',outputCol='source3')\n",
    "idf_source = IDF(inputCol='source3',outputCol='source_vc')"
   ]
  },
  {
   "cell_type": "code",
   "execution_count": 44,
   "metadata": {},
   "outputs": [],
   "source": [
    "(trainDF,testDF) = df.randomSplit((0.7,0.3),seed=42)"
   ]
  },
  {
   "cell_type": "code",
   "execution_count": 45,
   "metadata": {},
   "outputs": [],
   "source": [
    "input_cols = ['created_at_tweet','created_at_user','text_vc','location_vc','verified','source_vc', 'followers_count','retweet_count','favorite_count','friends_count','listed_count','favourites_count','statuses_count','geo_enabled','has_extended_profile','default_profile']\n",
    "\n",
    "#input_cols = ['created_at','text_vc','location_vc','verified','source_vc', 'followers_count','retweet_count','favorite_count']"
   ]
  },
  {
   "cell_type": "code",
   "execution_count": 46,
   "metadata": {},
   "outputs": [],
   "source": [
    "assembler = VectorAssembler(inputCols=input_cols,outputCol=\"features\")"
   ]
  },
  {
   "cell_type": "code",
   "execution_count": 47,
   "metadata": {},
   "outputs": [],
   "source": [
    "gbt = GBTClassifier(featuresCol='features',labelCol='fake')"
   ]
  },
  {
   "cell_type": "code",
   "execution_count": 48,
   "metadata": {},
   "outputs": [],
   "source": [
    "pipeline = Pipeline(stages=[tokenizer_text,stopwords_remover_text,vectorizer_text,idf_text,\n",
    "                            tokenizer_source,stopwords_remover_source,vectorizer_source,idf_source,\n",
    "                            tokenizer_location,stopwords_remover_location,vectorizer_location,idf_location,\n",
    "                            assembler,gbt])"
   ]
  },
  {
   "cell_type": "code",
   "execution_count": 49,
   "metadata": {
    "pycharm": {
     "is_executing": true
    }
   },
   "outputs": [
    {
     "name": "stderr",
     "output_type": "stream",
     "text": [
      "21/10/29 13:45:25 WARN DAGScheduler: Broadcasting large task binary with size 4.0 MiB\n",
      "21/10/29 13:46:29 WARN DAGScheduler: Broadcasting large task binary with size 26.4 MiB\n",
      "21/10/29 13:46:35 WARN DAGScheduler: Broadcasting large task binary with size 26.4 MiB\n",
      "21/10/29 13:47:15 WARN DAGScheduler: Broadcasting large task binary with size 29.4 MiB\n",
      "21/10/29 13:50:04 WARN DAGScheduler: Broadcasting large task binary with size 1215.9 KiB\n",
      "21/10/29 13:50:06 WARN DAGScheduler: Broadcasting large task binary with size 31.9 MiB\n",
      "21/10/29 13:50:18 WARN MemoryStore: Not enough space to cache rdd_679_0 in memory! (computed 2.5 GiB so far)\n",
      "21/10/29 13:50:18 WARN BlockManager: Persisting block rdd_679_0 to disk instead.\n",
      "21/10/29 14:43:15 WARN MemoryStore: Not enough space to cache rdd_679_0 in memory! (computed 3.9 GiB so far)\n",
      "21/10/29 14:43:16 WARN MemoryStore: Not enough space to cache rdd_679_0 in memory! (computed 208.4 MiB so far)\n",
      "21/10/29 15:22:35 WARN DAGScheduler: Broadcasting large task binary with size 31.9 MiB\n",
      "21/10/29 15:22:42 WARN MemoryStore: Not enough space to cache rdd_679_0 in memory! (computed 3.9 GiB so far)\n",
      "21/10/29 15:47:31 WARN DAGScheduler: Broadcasting large task binary with size 31.9 MiB\n",
      "21/10/29 15:47:36 WARN MemoryStore: Not enough space to cache rdd_679_0 in memory! (computed 3.9 GiB so far)\n",
      "21/10/29 16:12:26 WARN DAGScheduler: Broadcasting large task binary with size 31.9 MiB\n",
      "21/10/29 16:12:31 WARN MemoryStore: Not enough space to cache rdd_679_0 in memory! (computed 3.9 GiB so far)\n",
      "21/10/29 16:37:21 WARN DAGScheduler: Broadcasting large task binary with size 32.0 MiB\n",
      "21/10/29 16:37:27 WARN MemoryStore: Not enough space to cache rdd_679_0 in memory! (computed 3.9 GiB so far)\n",
      "21/10/29 17:02:18 WARN DAGScheduler: Broadcasting large task binary with size 32.0 MiB\n",
      "21/10/29 17:02:24 WARN MemoryStore: Not enough space to cache rdd_679_0 in memory! (computed 3.9 GiB so far)\n",
      "21/10/29 17:02:27 WARN MemoryStore: Not enough space to cache rdd_679_0 in memory! (computed 208.4 MiB so far)\n",
      "21/10/29 17:02:27 WARN MemoryStore: Not enough space to cache rdd_679_0 in memory! (computed 76.5 MiB so far)\n",
      "21/10/29 17:51:28 WARN DAGScheduler: Broadcasting large task binary with size 32.0 MiB\n",
      "21/10/29 17:51:35 WARN MemoryStore: Not enough space to cache rdd_679_0 in memory! (computed 3.9 GiB so far)\n",
      "21/10/29 18:19:19 WARN DAGScheduler: Broadcasting large task binary with size 32.0 MiB\n",
      "21/10/29 18:19:24 WARN MemoryStore: Not enough space to cache rdd_679_0 in memory! (computed 3.9 GiB so far)\n",
      "21/10/29 18:46:22 WARN DAGScheduler: Broadcasting large task binary with size 32.0 MiB\n",
      "21/10/29 18:46:32 WARN MemoryStore: Not enough space to cache rdd_679_0 in memory! (computed 3.9 GiB so far)\n",
      "21/10/29 19:16:04 WARN DAGScheduler: Broadcasting large task binary with size 32.0 MiB\n",
      "21/10/29 19:16:10 WARN MemoryStore: Not enough space to cache rdd_679_0 in memory! (computed 3.9 GiB so far)\n",
      "21/10/29 19:46:15 WARN DAGScheduler: Broadcasting large task binary with size 32.0 MiB\n",
      "21/10/29 19:46:20 WARN MemoryStore: Not enough space to cache rdd_679_0 in memory! (computed 3.9 GiB so far)\n",
      "21/10/29 19:46:21 WARN MemoryStore: Not enough space to cache rdd_679_0 in memory! (computed 208.4 MiB so far)\n",
      "21/10/29 19:46:21 WARN MemoryStore: Not enough space to cache rdd_679_0 in memory! (computed 76.5 MiB so far)\n",
      "21/10/29 19:46:25 WARN MemoryStore: Not enough space to cache rdd_699_0 in memory! (computed 13.0 MiB so far)\n",
      "21/10/29 20:46:50 WARN DAGScheduler: Broadcasting large task binary with size 32.0 MiB\n",
      "21/10/29 20:46:55 WARN MemoryStore: Not enough space to cache rdd_679_0 in memory! (computed 3.9 GiB so far)\n",
      "21/10/29 21:13:26 WARN DAGScheduler: Broadcasting large task binary with size 32.0 MiB\n",
      "21/10/29 21:13:35 WARN MemoryStore: Not enough space to cache rdd_679_0 in memory! (computed 3.9 GiB so far)\n",
      "21/10/29 21:40:29 WARN DAGScheduler: Broadcasting large task binary with size 32.0 MiB\n",
      "21/10/29 21:40:34 WARN MemoryStore: Not enough space to cache rdd_679_0 in memory! (computed 3.9 GiB so far)\n",
      "21/10/29 22:07:34 WARN DAGScheduler: Broadcasting large task binary with size 32.0 MiB\n",
      "21/10/29 22:07:43 WARN MemoryStore: Not enough space to cache rdd_679_0 in memory! (computed 3.9 GiB so far)\n",
      "21/10/29 22:35:35 WARN DAGScheduler: Broadcasting large task binary with size 32.0 MiB\n",
      "21/10/29 22:35:43 WARN MemoryStore: Not enough space to cache rdd_679_0 in memory! (computed 3.9 GiB so far)\n",
      "21/10/29 22:35:43 WARN MemoryStore: Not enough space to cache rdd_679_0 in memory! (computed 208.4 MiB so far)\n",
      "21/10/29 22:35:43 WARN MemoryStore: Not enough space to cache rdd_679_0 in memory! (computed 76.5 MiB so far)\n",
      "21/10/29 22:35:43 WARN MemoryStore: Not enough space to cache rdd_721_0 in memory! (computed 13.0 MiB so far)\n",
      "21/10/29 23:31:53 WARN DAGScheduler: Broadcasting large task binary with size 32.0 MiB\n",
      "21/10/29 23:32:00 WARN MemoryStore: Not enough space to cache rdd_679_0 in memory! (computed 3.9 GiB so far)\n",
      "21/10/30 00:01:04 WARN DAGScheduler: Broadcasting large task binary with size 32.0 MiB\n",
      "21/10/30 00:01:09 WARN MemoryStore: Not enough space to cache rdd_679_0 in memory! (computed 3.9 GiB so far)\n",
      "21/10/30 00:29:32 WARN DAGScheduler: Broadcasting large task binary with size 32.0 MiB\n",
      "21/10/30 00:29:38 WARN MemoryStore: Not enough space to cache rdd_679_0 in memory! (computed 3.9 GiB so far)\n",
      "21/10/30 00:57:51 WARN DAGScheduler: Broadcasting large task binary with size 32.0 MiB\n",
      "21/10/30 00:57:59 WARN MemoryStore: Not enough space to cache rdd_679_0 in memory! (computed 3.9 GiB so far)\n",
      "21/10/30 01:23:09 WARN DAGScheduler: Broadcasting large task binary with size 32.0 MiB\n",
      "21/10/30 01:23:14 WARN MemoryStore: Not enough space to cache rdd_679_0 in memory! (computed 3.9 GiB so far)\n",
      "21/10/30 01:23:14 WARN MemoryStore: Not enough space to cache rdd_679_0 in memory! (computed 208.4 MiB so far)\n",
      "21/10/30 01:23:14 WARN MemoryStore: Not enough space to cache rdd_679_0 in memory! (computed 76.5 MiB so far)\n",
      "21/10/30 01:23:14 WARN MemoryStore: Not enough space to cache rdd_743_0 in memory! (computed 13.0 MiB so far)\n",
      "21/10/30 02:13:14 WARN DAGScheduler: Broadcasting large task binary with size 32.0 MiB\n",
      "21/10/30 02:13:19 WARN MemoryStore: Not enough space to cache rdd_679_0 in memory! (computed 3.9 GiB so far)\n",
      "21/10/30 02:37:46 WARN DAGScheduler: Broadcasting large task binary with size 32.0 MiB\n",
      "21/10/30 02:37:53 WARN MemoryStore: Not enough space to cache rdd_679_0 in memory! (computed 3.9 GiB so far)\n",
      "21/10/30 03:02:26 WARN DAGScheduler: Broadcasting large task binary with size 32.0 MiB\n",
      "21/10/30 03:02:33 WARN MemoryStore: Not enough space to cache rdd_679_0 in memory! (computed 3.9 GiB so far)\n",
      "21/10/30 03:26:54 WARN DAGScheduler: Broadcasting large task binary with size 32.0 MiB\n",
      "21/10/30 03:26:58 WARN MemoryStore: Not enough space to cache rdd_679_0 in memory! (computed 3.9 GiB so far)\n",
      "21/10/30 03:51:28 WARN DAGScheduler: Broadcasting large task binary with size 32.0 MiB\n",
      "21/10/30 03:51:36 WARN MemoryStore: Not enough space to cache rdd_679_0 in memory! (computed 3.9 GiB so far)\n",
      "21/10/30 03:51:36 WARN MemoryStore: Not enough space to cache rdd_679_0 in memory! (computed 208.4 MiB so far)\n",
      "21/10/30 03:51:36 WARN MemoryStore: Not enough space to cache rdd_679_0 in memory! (computed 76.5 MiB so far)\n",
      "21/10/30 03:51:37 WARN MemoryStore: Not enough space to cache rdd_765_0 in memory! (computed 13.0 MiB so far)\n",
      "21/10/30 04:39:34 WARN DAGScheduler: Broadcasting large task binary with size 32.0 MiB\n",
      "21/10/30 04:39:40 WARN MemoryStore: Not enough space to cache rdd_679_0 in memory! (computed 3.9 GiB so far)\n",
      "21/10/30 05:03:43 WARN DAGScheduler: Broadcasting large task binary with size 32.0 MiB\n",
      "21/10/30 05:03:47 WARN MemoryStore: Not enough space to cache rdd_679_0 in memory! (computed 3.9 GiB so far)\n",
      "21/10/30 05:27:45 WARN DAGScheduler: Broadcasting large task binary with size 32.0 MiB\n",
      "21/10/30 05:27:53 WARN MemoryStore: Not enough space to cache rdd_679_0 in memory! (computed 3.9 GiB so far)\n",
      "21/10/30 05:52:02 WARN DAGScheduler: Broadcasting large task binary with size 32.0 MiB\n",
      "21/10/30 05:52:08 WARN MemoryStore: Not enough space to cache rdd_679_0 in memory! (computed 3.9 GiB so far)\n",
      "21/10/30 06:16:13 WARN DAGScheduler: Broadcasting large task binary with size 32.0 MiB\n",
      "21/10/30 06:16:19 WARN MemoryStore: Not enough space to cache rdd_679_0 in memory! (computed 3.9 GiB so far)\n",
      "21/10/30 06:16:19 WARN MemoryStore: Not enough space to cache rdd_679_0 in memory! (computed 208.4 MiB so far)\n",
      "21/10/30 06:16:19 WARN MemoryStore: Not enough space to cache rdd_679_0 in memory! (computed 76.5 MiB so far)\n",
      "21/10/30 06:16:19 WARN MemoryStore: Not enough space to cache rdd_787_0 in memory! (computed 13.0 MiB so far)\n",
      "21/10/30 07:03:38 WARN DAGScheduler: Broadcasting large task binary with size 32.0 MiB\n",
      "21/10/30 07:03:44 WARN MemoryStore: Not enough space to cache rdd_679_0 in memory! (computed 3.9 GiB so far)\n",
      "21/10/30 07:27:49 WARN DAGScheduler: Broadcasting large task binary with size 32.0 MiB\n",
      "21/10/30 07:27:54 WARN MemoryStore: Not enough space to cache rdd_679_0 in memory! (computed 3.9 GiB so far)\n",
      "21/10/30 07:51:48 WARN DAGScheduler: Broadcasting large task binary with size 32.0 MiB\n",
      "21/10/30 07:51:56 WARN MemoryStore: Not enough space to cache rdd_679_0 in memory! (computed 3.9 GiB so far)\n",
      "21/10/30 08:15:55 WARN DAGScheduler: Broadcasting large task binary with size 32.0 MiB\n",
      "21/10/30 08:16:01 WARN MemoryStore: Not enough space to cache rdd_679_0 in memory! (computed 3.9 GiB so far)\n",
      "21/10/30 08:39:59 WARN DAGScheduler: Broadcasting large task binary with size 32.0 MiB\n",
      "21/10/30 08:40:05 WARN MemoryStore: Not enough space to cache rdd_679_0 in memory! (computed 3.9 GiB so far)\n",
      "21/10/30 08:40:06 WARN MemoryStore: Not enough space to cache rdd_679_0 in memory! (computed 208.4 MiB so far)\n",
      "21/10/30 08:40:06 WARN MemoryStore: Not enough space to cache rdd_679_0 in memory! (computed 76.5 MiB so far)\n",
      "21/10/30 08:40:06 WARN MemoryStore: Not enough space to cache rdd_809_0 in memory! (computed 13.0 MiB so far)\n",
      "21/10/30 09:27:56 WARN DAGScheduler: Broadcasting large task binary with size 32.0 MiB\n",
      "21/10/30 09:28:00 WARN MemoryStore: Not enough space to cache rdd_679_0 in memory! (computed 3.9 GiB so far)\n",
      "21/10/30 09:52:04 WARN DAGScheduler: Broadcasting large task binary with size 32.0 MiB\n",
      "21/10/30 09:52:12 WARN MemoryStore: Not enough space to cache rdd_679_0 in memory! (computed 3.9 GiB so far)\n",
      "21/10/30 10:16:24 WARN DAGScheduler: Broadcasting large task binary with size 32.0 MiB\n",
      "21/10/30 10:16:30 WARN MemoryStore: Not enough space to cache rdd_679_0 in memory! (computed 3.9 GiB so far)\n",
      "21/10/30 10:40:38 WARN DAGScheduler: Broadcasting large task binary with size 32.0 MiB\n",
      "21/10/30 10:40:43 WARN MemoryStore: Not enough space to cache rdd_679_0 in memory! (computed 3.9 GiB so far)\n",
      "21/10/30 11:04:59 WARN DAGScheduler: Broadcasting large task binary with size 32.0 MiB\n",
      "21/10/30 11:05:03 WARN MemoryStore: Not enough space to cache rdd_679_0 in memory! (computed 3.9 GiB so far)\n",
      "21/10/30 11:05:06 WARN MemoryStore: Not enough space to cache rdd_679_0 in memory! (computed 208.4 MiB so far)\n",
      "21/10/30 11:05:06 WARN MemoryStore: Not enough space to cache rdd_679_0 in memory! (computed 76.5 MiB so far)\n",
      "21/10/30 11:05:06 WARN MemoryStore: Not enough space to cache rdd_831_0 in memory! (computed 13.0 MiB so far)\n",
      "21/10/30 11:58:46 WARN DAGScheduler: Broadcasting large task binary with size 32.0 MiB\n",
      "21/10/30 11:58:53 WARN MemoryStore: Not enough space to cache rdd_679_0 in memory! (computed 3.9 GiB so far)\n",
      "21/10/30 12:24:06 WARN DAGScheduler: Broadcasting large task binary with size 32.0 MiB\n",
      "21/10/30 12:24:12 WARN MemoryStore: Not enough space to cache rdd_679_0 in memory! (computed 3.9 GiB so far)\n",
      "21/10/30 12:51:24 WARN DAGScheduler: Broadcasting large task binary with size 32.0 MiB\n",
      "21/10/30 12:51:30 WARN MemoryStore: Not enough space to cache rdd_679_0 in memory! (computed 3.9 GiB so far)\n",
      "21/10/30 13:19:09 WARN DAGScheduler: Broadcasting large task binary with size 32.0 MiB\n",
      "21/10/30 13:19:14 WARN MemoryStore: Not enough space to cache rdd_679_0 in memory! (computed 3.9 GiB so far)\n",
      "21/10/30 13:47:44 WARN DAGScheduler: Broadcasting large task binary with size 32.0 MiB\n",
      "21/10/30 13:47:52 WARN MemoryStore: Not enough space to cache rdd_679_0 in memory! (computed 3.9 GiB so far)\n",
      "21/10/30 13:47:52 WARN MemoryStore: Not enough space to cache rdd_679_0 in memory! (computed 208.4 MiB so far)\n",
      "21/10/30 13:47:52 WARN MemoryStore: Not enough space to cache rdd_679_0 in memory! (computed 76.5 MiB so far)\n",
      "21/10/30 13:47:53 WARN MemoryStore: Not enough space to cache rdd_853_0 in memory! (computed 13.0 MiB so far)\n",
      "21/10/30 14:39:00 WARN DAGScheduler: Broadcasting large task binary with size 32.0 MiB\n",
      "21/10/30 14:39:06 WARN MemoryStore: Not enough space to cache rdd_679_0 in memory! (computed 3.9 GiB so far)\n",
      "21/10/30 15:05:41 WARN DAGScheduler: Broadcasting large task binary with size 32.0 MiB\n",
      "21/10/30 15:05:46 WARN MemoryStore: Not enough space to cache rdd_679_0 in memory! (computed 3.9 GiB so far)\n",
      "21/10/30 15:30:28 WARN DAGScheduler: Broadcasting large task binary with size 32.0 MiB\n",
      "21/10/30 15:30:36 WARN MemoryStore: Not enough space to cache rdd_679_0 in memory! (computed 3.9 GiB so far)\n",
      "21/10/30 15:55:20 WARN DAGScheduler: Broadcasting large task binary with size 32.0 MiB\n",
      "21/10/30 15:55:25 WARN MemoryStore: Not enough space to cache rdd_679_0 in memory! (computed 3.9 GiB so far)\n",
      "21/10/30 16:23:33 WARN DAGScheduler: Broadcasting large task binary with size 32.0 MiB\n",
      "21/10/30 16:23:42 WARN MemoryStore: Not enough space to cache rdd_679_0 in memory! (computed 3.9 GiB so far)\n",
      "21/10/30 16:23:42 WARN MemoryStore: Not enough space to cache rdd_679_0 in memory! (computed 208.4 MiB so far)\n",
      "21/10/30 16:23:44 WARN MemoryStore: Not enough space to cache rdd_679_0 in memory! (computed 76.5 MiB so far)\n",
      "21/10/30 16:23:44 WARN MemoryStore: Not enough space to cache rdd_875_0 in memory! (computed 13.0 MiB so far)\n",
      "21/10/30 17:18:36 WARN DAGScheduler: Broadcasting large task binary with size 32.0 MiB\n",
      "21/10/30 17:18:42 WARN MemoryStore: Not enough space to cache rdd_679_0 in memory! (computed 3.9 GiB so far)\n",
      "21/10/30 17:45:41 WARN DAGScheduler: Broadcasting large task binary with size 32.0 MiB\n",
      "21/10/30 17:45:47 WARN MemoryStore: Not enough space to cache rdd_679_0 in memory! (computed 3.9 GiB so far)\n",
      "21/10/30 18:15:09 WARN DAGScheduler: Broadcasting large task binary with size 32.0 MiB\n",
      "21/10/30 18:15:18 WARN MemoryStore: Not enough space to cache rdd_679_0 in memory! (computed 3.9 GiB so far)\n",
      "21/10/30 18:42:51 WARN DAGScheduler: Broadcasting large task binary with size 32.0 MiB\n",
      "21/10/30 18:43:00 WARN MemoryStore: Not enough space to cache rdd_679_0 in memory! (computed 3.9 GiB so far)\n",
      "21/10/30 19:10:04 WARN DAGScheduler: Broadcasting large task binary with size 32.0 MiB\n",
      "21/10/30 19:10:11 WARN MemoryStore: Not enough space to cache rdd_679_0 in memory! (computed 3.9 GiB so far)\n",
      "21/10/30 19:10:15 WARN MemoryStore: Not enough space to cache rdd_679_0 in memory! (computed 208.4 MiB so far)\n",
      "21/10/30 19:10:15 WARN MemoryStore: Not enough space to cache rdd_679_0 in memory! (computed 76.5 MiB so far)\n",
      "21/10/30 19:10:16 WARN MemoryStore: Not enough space to cache rdd_897_0 in memory! (computed 13.0 MiB so far)\n",
      "21/10/30 20:09:05 WARN DAGScheduler: Broadcasting large task binary with size 32.0 MiB\n",
      "21/10/30 20:09:13 WARN MemoryStore: Not enough space to cache rdd_679_0 in memory! (computed 3.9 GiB so far)\n",
      "21/10/30 20:38:00 WARN DAGScheduler: Broadcasting large task binary with size 32.0 MiB\n",
      "21/10/30 20:38:08 WARN MemoryStore: Not enough space to cache rdd_679_0 in memory! (computed 3.9 GiB so far)\n",
      "21/10/30 21:06:41 WARN DAGScheduler: Broadcasting large task binary with size 32.0 MiB\n",
      "21/10/30 21:06:48 WARN MemoryStore: Not enough space to cache rdd_679_0 in memory! (computed 3.9 GiB so far)\n",
      "21/10/30 21:35:50 WARN DAGScheduler: Broadcasting large task binary with size 32.0 MiB\n",
      "21/10/30 21:35:56 WARN MemoryStore: Not enough space to cache rdd_679_0 in memory! (computed 3.9 GiB so far)\n",
      "21/10/30 22:04:59 WARN DAGScheduler: Broadcasting large task binary with size 32.0 MiB\n",
      "21/10/30 22:05:07 WARN MemoryStore: Not enough space to cache rdd_679_0 in memory! (computed 3.9 GiB so far)\n",
      "21/10/30 22:05:07 WARN MemoryStore: Not enough space to cache rdd_679_0 in memory! (computed 208.4 MiB so far)\n",
      "21/10/30 22:05:08 WARN MemoryStore: Not enough space to cache rdd_679_0 in memory! (computed 76.5 MiB so far)\n",
      "21/10/30 22:05:10 WARN MemoryStore: Not enough space to cache rdd_919_0 in memory! (computed 13.0 MiB so far)\n",
      "21/10/30 22:59:41 WARN DAGScheduler: Broadcasting large task binary with size 32.0 MiB\n",
      "21/10/30 22:59:47 WARN MemoryStore: Not enough space to cache rdd_679_0 in memory! (computed 3.9 GiB so far)\n",
      "21/10/30 23:27:52 WARN DAGScheduler: Broadcasting large task binary with size 32.0 MiB\n",
      "21/10/30 23:28:04 WARN MemoryStore: Not enough space to cache rdd_679_0 in memory! (computed 3.9 GiB so far)\n",
      "21/10/30 23:58:10 WARN DAGScheduler: Broadcasting large task binary with size 32.0 MiB\n",
      "21/10/30 23:58:17 WARN MemoryStore: Not enough space to cache rdd_679_0 in memory! (computed 3.9 GiB so far)\n",
      "21/10/31 00:28:37 WARN DAGScheduler: Broadcasting large task binary with size 32.0 MiB\n",
      "21/10/31 00:28:44 WARN MemoryStore: Not enough space to cache rdd_679_0 in memory! (computed 3.9 GiB so far)\n",
      "21/10/31 00:58:34 WARN DAGScheduler: Broadcasting large task binary with size 32.0 MiB\n",
      "21/10/31 00:58:41 WARN MemoryStore: Not enough space to cache rdd_679_0 in memory! (computed 3.9 GiB so far)\n",
      "21/10/31 00:58:42 WARN MemoryStore: Not enough space to cache rdd_679_0 in memory! (computed 208.4 MiB so far)\n",
      "21/10/31 00:58:42 WARN MemoryStore: Not enough space to cache rdd_679_0 in memory! (computed 76.5 MiB so far)\n",
      "21/10/31 00:58:42 WARN MemoryStore: Not enough space to cache rdd_941_0 in memory! (computed 13.0 MiB so far)\n",
      "21/10/31 01:52:46 WARN DAGScheduler: Broadcasting large task binary with size 32.0 MiB\n",
      "21/10/31 01:52:55 WARN MemoryStore: Not enough space to cache rdd_679_0 in memory! (computed 3.9 GiB so far)\n",
      "21/10/31 02:19:07 WARN DAGScheduler: Broadcasting large task binary with size 32.0 MiB\n",
      "21/10/31 02:19:13 WARN MemoryStore: Not enough space to cache rdd_679_0 in memory! (computed 3.9 GiB so far)\n",
      "21/10/31 02:45:12 WARN DAGScheduler: Broadcasting large task binary with size 32.0 MiB\n",
      "21/10/31 02:45:17 WARN MemoryStore: Not enough space to cache rdd_679_0 in memory! (computed 3.9 GiB so far)\n",
      "21/10/31 03:11:10 WARN DAGScheduler: Broadcasting large task binary with size 32.0 MiB\n",
      "21/10/31 03:11:16 WARN MemoryStore: Not enough space to cache rdd_679_0 in memory! (computed 3.9 GiB so far)\n",
      "21/10/31 03:38:27 WARN DAGScheduler: Broadcasting large task binary with size 32.0 MiB\n",
      "21/10/31 03:38:34 WARN MemoryStore: Not enough space to cache rdd_679_0 in memory! (computed 3.9 GiB so far)\n",
      "21/10/31 03:38:35 WARN MemoryStore: Not enough space to cache rdd_679_0 in memory! (computed 208.4 MiB so far)\n",
      "21/10/31 03:38:35 WARN MemoryStore: Not enough space to cache rdd_679_0 in memory! (computed 76.5 MiB so far)\n",
      "21/10/31 03:38:35 WARN MemoryStore: Not enough space to cache rdd_963_0 in memory! (computed 13.0 MiB so far)\n",
      "21/10/31 04:31:15 WARN DAGScheduler: Broadcasting large task binary with size 32.0 MiB\n",
      "21/10/31 04:31:20 WARN MemoryStore: Not enough space to cache rdd_679_0 in memory! (computed 3.9 GiB so far)\n",
      "21/10/31 04:57:17 WARN DAGScheduler: Broadcasting large task binary with size 32.0 MiB\n",
      "21/10/31 04:57:22 WARN MemoryStore: Not enough space to cache rdd_679_0 in memory! (computed 3.9 GiB so far)\n",
      "21/10/31 05:23:10 WARN DAGScheduler: Broadcasting large task binary with size 32.0 MiB\n",
      "21/10/31 05:23:19 WARN MemoryStore: Not enough space to cache rdd_679_0 in memory! (computed 3.9 GiB so far)\n",
      "21/10/31 05:49:01 WARN DAGScheduler: Broadcasting large task binary with size 32.1 MiB\n",
      "21/10/31 05:49:09 WARN MemoryStore: Not enough space to cache rdd_679_0 in memory! (computed 3.9 GiB so far)\n",
      "21/10/31 06:14:56 WARN DAGScheduler: Broadcasting large task binary with size 32.1 MiB\n",
      "21/10/31 06:15:04 WARN MemoryStore: Not enough space to cache rdd_679_0 in memory! (computed 3.9 GiB so far)\n",
      "21/10/31 06:15:04 WARN MemoryStore: Not enough space to cache rdd_679_0 in memory! (computed 208.4 MiB so far)\n",
      "21/10/31 06:15:04 WARN MemoryStore: Not enough space to cache rdd_679_0 in memory! (computed 76.5 MiB so far)\n",
      "21/10/31 06:15:04 WARN MemoryStore: Not enough space to cache rdd_985_0 in memory! (computed 13.0 MiB so far)\n",
      "21/10/31 07:06:32 WARN DAGScheduler: Broadcasting large task binary with size 32.1 MiB\n",
      "21/10/31 07:06:37 WARN MemoryStore: Not enough space to cache rdd_679_0 in memory! (computed 3.9 GiB so far)\n",
      "21/10/31 07:32:26 WARN DAGScheduler: Broadcasting large task binary with size 32.1 MiB\n",
      "21/10/31 07:32:31 WARN MemoryStore: Not enough space to cache rdd_679_0 in memory! (computed 3.9 GiB so far)\n",
      "21/10/31 07:58:16 WARN DAGScheduler: Broadcasting large task binary with size 32.1 MiB\n",
      "21/10/31 07:58:25 WARN MemoryStore: Not enough space to cache rdd_679_0 in memory! (computed 3.9 GiB so far)\n",
      "21/10/31 08:24:16 WARN DAGScheduler: Broadcasting large task binary with size 32.1 MiB\n",
      "21/10/31 08:24:24 WARN MemoryStore: Not enough space to cache rdd_679_0 in memory! (computed 3.9 GiB so far)\n",
      "21/10/31 08:50:13 WARN DAGScheduler: Broadcasting large task binary with size 32.1 MiB\n",
      "21/10/31 08:50:19 WARN MemoryStore: Not enough space to cache rdd_679_0 in memory! (computed 3.9 GiB so far)\n",
      "21/10/31 08:50:19 WARN MemoryStore: Not enough space to cache rdd_679_0 in memory! (computed 208.4 MiB so far)\n",
      "21/10/31 08:50:20 WARN MemoryStore: Not enough space to cache rdd_679_0 in memory! (computed 76.5 MiB so far)\n",
      "21/10/31 08:50:20 WARN MemoryStore: Not enough space to cache rdd_1007_0 in memory! (computed 13.0 MiB so far)\n",
      "21/10/31 09:48:18 WARN DAGScheduler: Broadcasting large task binary with size 32.1 MiB\n",
      "21/10/31 09:48:24 WARN MemoryStore: Not enough space to cache rdd_679_0 in memory! (computed 3.9 GiB so far)\n",
      "21/10/31 10:17:00 WARN DAGScheduler: Broadcasting large task binary with size 32.1 MiB\n",
      "21/10/31 10:17:07 WARN MemoryStore: Not enough space to cache rdd_679_0 in memory! (computed 3.9 GiB so far)\n",
      "21/10/31 10:46:57 WARN DAGScheduler: Broadcasting large task binary with size 32.1 MiB\n",
      "21/10/31 10:47:07 WARN MemoryStore: Not enough space to cache rdd_679_0 in memory! (computed 3.9 GiB so far)\n",
      "21/10/31 11:17:38 WARN DAGScheduler: Broadcasting large task binary with size 32.1 MiB\n",
      "21/10/31 11:17:46 WARN MemoryStore: Not enough space to cache rdd_679_0 in memory! (computed 3.9 GiB so far)\n",
      "21/10/31 11:48:17 WARN DAGScheduler: Broadcasting large task binary with size 32.1 MiB\n",
      "21/10/31 11:48:23 WARN MemoryStore: Not enough space to cache rdd_679_0 in memory! (computed 3.9 GiB so far)\n",
      "21/10/31 11:48:29 WARN MemoryStore: Not enough space to cache rdd_679_0 in memory! (computed 208.4 MiB so far)\n",
      "21/10/31 11:48:29 WARN MemoryStore: Not enough space to cache rdd_679_0 in memory! (computed 76.5 MiB so far)\n",
      "21/10/31 11:48:29 WARN MemoryStore: Not enough space to cache rdd_1029_0 in memory! (computed 13.0 MiB so far)\n",
      "21/10/31 12:51:28 WARN DAGScheduler: Broadcasting large task binary with size 32.1 MiB\n",
      "21/10/31 12:51:36 WARN MemoryStore: Not enough space to cache rdd_679_0 in memory! (computed 3.9 GiB so far)\n",
      "21/10/31 13:16:44 WARN DAGScheduler: Broadcasting large task binary with size 32.1 MiB\n",
      "21/10/31 13:16:53 WARN MemoryStore: Not enough space to cache rdd_679_0 in memory! (computed 3.9 GiB so far)\n",
      "21/10/31 13:42:09 WARN DAGScheduler: Broadcasting large task binary with size 32.1 MiB\n",
      "21/10/31 13:42:16 WARN MemoryStore: Not enough space to cache rdd_679_0 in memory! (computed 3.9 GiB so far)\n",
      "21/10/31 14:07:25 WARN DAGScheduler: Broadcasting large task binary with size 32.1 MiB\n",
      "21/10/31 14:07:31 WARN MemoryStore: Not enough space to cache rdd_679_0 in memory! (computed 3.9 GiB so far)\n",
      "21/10/31 14:32:31 WARN DAGScheduler: Broadcasting large task binary with size 32.1 MiB\n",
      "21/10/31 14:32:40 WARN MemoryStore: Not enough space to cache rdd_679_0 in memory! (computed 3.9 GiB so far)\n",
      "21/10/31 14:32:40 WARN MemoryStore: Not enough space to cache rdd_679_0 in memory! (computed 208.4 MiB so far)\n",
      "21/10/31 14:32:41 WARN MemoryStore: Not enough space to cache rdd_679_0 in memory! (computed 76.5 MiB so far)\n",
      "21/10/31 14:32:41 WARN MemoryStore: Not enough space to cache rdd_1051_0 in memory! (computed 13.0 MiB so far)\n",
      "21/10/31 15:22:32 WARN DAGScheduler: Broadcasting large task binary with size 32.1 MiB\n",
      "21/10/31 15:22:40 WARN MemoryStore: Not enough space to cache rdd_679_0 in memory! (computed 3.9 GiB so far)\n",
      "21/10/31 15:47:41 WARN DAGScheduler: Broadcasting large task binary with size 32.1 MiB\n",
      "21/10/31 15:47:48 WARN MemoryStore: Not enough space to cache rdd_679_0 in memory! (computed 3.9 GiB so far)\n",
      "21/10/31 16:12:46 WARN DAGScheduler: Broadcasting large task binary with size 32.1 MiB\n",
      "21/10/31 16:12:50 WARN MemoryStore: Not enough space to cache rdd_679_0 in memory! (computed 3.9 GiB so far)\n",
      "21/10/31 16:38:00 WARN DAGScheduler: Broadcasting large task binary with size 32.1 MiB\n",
      "21/10/31 16:38:06 WARN MemoryStore: Not enough space to cache rdd_679_0 in memory! (computed 3.9 GiB so far)\n",
      "21/10/31 17:03:04 WARN DAGScheduler: Broadcasting large task binary with size 32.1 MiB\n",
      "21/10/31 17:03:11 WARN MemoryStore: Not enough space to cache rdd_679_0 in memory! (computed 3.9 GiB so far)\n",
      "21/10/31 17:03:12 WARN MemoryStore: Not enough space to cache rdd_679_0 in memory! (computed 208.4 MiB so far)\n",
      "21/10/31 17:03:12 WARN MemoryStore: Not enough space to cache rdd_679_0 in memory! (computed 76.5 MiB so far)\n",
      "21/10/31 17:03:12 WARN MemoryStore: Not enough space to cache rdd_1073_0 in memory! (computed 13.0 MiB so far)\n",
      "21/10/31 17:53:28 WARN DAGScheduler: Broadcasting large task binary with size 32.1 MiB\n",
      "21/10/31 17:53:39 WARN MemoryStore: Not enough space to cache rdd_679_0 in memory! (computed 3.9 GiB so far)\n",
      "21/10/31 18:19:31 WARN DAGScheduler: Broadcasting large task binary with size 32.1 MiB\n",
      "21/10/31 18:19:36 WARN MemoryStore: Not enough space to cache rdd_679_0 in memory! (computed 3.9 GiB so far)\n",
      "21/10/31 18:47:27 WARN DAGScheduler: Broadcasting large task binary with size 32.1 MiB\n",
      "21/10/31 18:47:36 WARN MemoryStore: Not enough space to cache rdd_679_0 in memory! (computed 3.9 GiB so far)\n",
      "21/10/31 19:15:48 WARN DAGScheduler: Broadcasting large task binary with size 32.1 MiB\n",
      "21/10/31 19:15:52 WARN MemoryStore: Not enough space to cache rdd_679_0 in memory! (computed 3.9 GiB so far)\n"
     ]
    }
   ],
   "source": [
    "gbt_model = pipeline.fit(trainDF)"
   ]
  },
  {
   "cell_type": "code",
   "execution_count": 50,
   "metadata": {
    "pycharm": {
     "is_executing": true
    }
   },
   "outputs": [],
   "source": [
    "predictions = gbt_model.transform(testDF)"
   ]
  },
  {
   "cell_type": "code",
   "execution_count": 51,
   "metadata": {
    "pycharm": {
     "is_executing": true
    }
   },
   "outputs": [],
   "source": [
    "predictions = predictions.select('fake','prediction')"
   ]
  },
  {
   "cell_type": "code",
   "execution_count": 52,
   "metadata": {
    "pycharm": {
     "is_executing": true
    }
   },
   "outputs": [],
   "source": [
    "\n",
    "evaluator_accuracy = MulticlassClassificationEvaluator(labelCol='fake',predictionCol='prediction',metricName='accuracy')\n",
    "evaluator_f1 = MulticlassClassificationEvaluator(labelCol='fake',predictionCol='prediction',metricName='f1')\n",
    "evaluator_precision = MulticlassClassificationEvaluator(labelCol='fake',predictionCol='prediction',metricName='weightedPrecision')\n",
    "evaluator_recall = MulticlassClassificationEvaluator(labelCol='fake',predictionCol='prediction',metricName='weightedRecall')\n"
   ]
  },
  {
   "cell_type": "code",
   "execution_count": 53,
   "metadata": {
    "pycharm": {
     "is_executing": true
    }
   },
   "outputs": [
    {
     "name": "stderr",
     "output_type": "stream",
     "text": [
      "21/10/31 19:44:53 WARN DAGScheduler: Broadcasting large task binary with size 26.5 MiB\n"
     ]
    },
    {
     "name": "stdout",
     "output_type": "stream",
     "text": [
      "Accuracy: 0.8833878694347548\n"
     ]
    },
    {
     "name": "stderr",
     "output_type": "stream",
     "text": [
      "21/10/31 19:45:18 WARN DAGScheduler: Broadcasting large task binary with size 26.5 MiB\n"
     ]
    },
    {
     "name": "stdout",
     "output_type": "stream",
     "text": [
      "F1: 0.881948880869628\n"
     ]
    },
    {
     "name": "stderr",
     "output_type": "stream",
     "text": [
      "21/10/31 19:45:41 WARN DAGScheduler: Broadcasting large task binary with size 26.5 MiB\n"
     ]
    },
    {
     "name": "stdout",
     "output_type": "stream",
     "text": [
      "Precision: 0.8833979066698382\n"
     ]
    },
    {
     "name": "stderr",
     "output_type": "stream",
     "text": [
      "21/10/31 19:46:04 WARN DAGScheduler: Broadcasting large task binary with size 26.5 MiB\n"
     ]
    },
    {
     "name": "stdout",
     "output_type": "stream",
     "text": [
      "Recall: 0.8833878694347548\n"
     ]
    },
    {
     "name": "stderr",
     "output_type": "stream",
     "text": []
    }
   ],
   "source": [
    "\n",
    "print('Accuracy:', evaluator_accuracy.evaluate(predictions))\n",
    "print('F1:',evaluator_f1.evaluate(predictions))\n",
    "print('Precision:',evaluator_precision.evaluate(predictions))\n",
    "print('Recall:',evaluator_recall.evaluate(predictions))\n"
   ]
  },
  {
   "cell_type": "code",
   "execution_count": 54,
   "metadata": {},
   "outputs": [
    {
     "name": "stderr",
     "output_type": "stream",
     "text": [
      "21/10/31 19:46:26 WARN DAGScheduler: Broadcasting large task binary with size 26.5 MiB\n",
      "21/10/31 19:46:50 WARN DAGScheduler: Broadcasting large task binary with size 26.5 MiB\n",
      "21/10/31 19:47:14 WARN DAGScheduler: Broadcasting large task binary with size 26.5 MiB\n",
      "21/10/31 19:47:39 WARN DAGScheduler: Broadcasting large task binary with size 26.5 MiB\n"
     ]
    }
   ],
   "source": [
    "TP = predictions[(predictions.prediction == 1) & (predictions.fake == 1)].count()\n",
    "FN = predictions[(predictions.prediction == 0) & (predictions.fake == 1)].count()\n",
    "TN = predictions[(predictions.prediction == 0) & (predictions.fake == 0)].count()\n",
    "FP = predictions[(predictions.prediction == 1) & (predictions.fake == 0)].count()"
   ]
  },
  {
   "cell_type": "code",
   "execution_count": 55,
   "metadata": {},
   "outputs": [
    {
     "name": "stdout",
     "output_type": "stream",
     "text": [
      "Accuracy: 0.8833878694347548\n",
      "Precision: 0.8835605665516014\n",
      "Recall: 0.7920553292222297\n",
      "F1: 0.8353094013883345\n"
     ]
    }
   ],
   "source": [
    "print('Accuracy:', (TP+TN)/(TP+FP+FN+TN))\n",
    "print('Precision:', (TP)/(TP+FP))\n",
    "print('Recall:', (TP)/(TP+FN))\n",
    "print('F1:',(2*TP)/(2*TP+FP+FN))"
   ]
  },
  {
   "cell_type": "code",
   "execution_count": null,
   "metadata": {},
   "outputs": [],
   "source": []
  }
 ],
 "metadata": {
  "interpreter": {
   "hash": "cd4b3cbc2e4b5e62ec39e2e605a557c785bc0e20381f0efb31a5162e9c9e6c88"
  },
  "kernelspec": {
   "display_name": "Python 3.8.5 64-bit ('pa1': conda)",
   "name": "python3"
  },
  "language_info": {
   "codemirror_mode": {
    "name": "ipython",
    "version": 3
   },
   "file_extension": ".py",
   "mimetype": "text/x-python",
   "name": "python",
   "nbconvert_exporter": "python",
   "pygments_lexer": "ipython3",
   "version": "3.8.5"
  }
 },
 "nbformat": 4,
 "nbformat_minor": 5
}
