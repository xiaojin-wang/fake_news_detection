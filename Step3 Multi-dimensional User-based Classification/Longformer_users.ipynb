{
 "cells": [
  {
   "cell_type": "code",
   "execution_count": 2,
   "id": "e6f3d8d6",
   "metadata": {},
   "outputs": [
    {
     "name": "stdout",
     "output_type": "stream",
     "text": [
      "Spark NLP version 3.3.1\n",
      "Apache Spark version: 3.2.0\n"
     ]
    },
    {
     "data": {
      "text/html": [
       "\n",
       "            <div>\n",
       "                <p><b>SparkSession - in-memory</b></p>\n",
       "                \n",
       "        <div>\n",
       "            <p><b>SparkContext</b></p>\n",
       "\n",
       "            <p><a href=\"http://DESKTOP-03341UF:4041\">Spark UI</a></p>\n",
       "\n",
       "            <dl>\n",
       "              <dt>Version</dt>\n",
       "                <dd><code>v3.2.0</code></dd>\n",
       "              <dt>Master</dt>\n",
       "                <dd><code>local[*]</code></dd>\n",
       "              <dt>AppName</dt>\n",
       "                <dd><code>Spark NLP</code></dd>\n",
       "            </dl>\n",
       "        </div>\n",
       "        \n",
       "            </div>\n",
       "        "
      ],
      "text/plain": [
       "<pyspark.sql.session.SparkSession at 0x21da705e7f0>"
      ]
     },
     "execution_count": 2,
     "metadata": {},
     "output_type": "execute_result"
    }
   ],
   "source": [
    "import findspark\n",
    "findspark.init()\n",
    "\n",
    "import sparknlp\n",
    "spark = sparknlp.start(gpu=True, memory=\"12G\")\n",
    "\n",
    "from sparknlp.base import *\n",
    "from sparknlp.annotator import *\n",
    "from pyspark.ml import Pipeline, Transformer\n",
    "from pyspark.sql.functions import rand, element_at, concat_ws, col, lit\n",
    "from pyspark.ml.feature import VectorAssembler, VectorSizeHint\n",
    "from pyspark.ml.classification import MultilayerPerceptronClassifier\n",
    "from pyspark.ml.util import DefaultParamsReadable, DefaultParamsWritable\n",
    "\n",
    "print(\"Spark NLP version\", sparknlp.version())\n",
    "print(\"Apache Spark version:\", spark.version)\n",
    "\n",
    "spark"
   ]
  },
  {
   "cell_type": "code",
   "execution_count": 100,
   "id": "0bd1653d",
   "metadata": {},
   "outputs": [
    {
     "name": "stdout",
     "output_type": "stream",
     "text": [
      "Train Dataset Count: 295652\n",
      "Valid Dataset Count: 126949\n"
     ]
    }
   ],
   "source": [
    "fn = \"data/politifact_with_users.csv\"\n",
    "\n",
    "dataset = spark.read.csv(fn, inferSchema=True, header=True, multiLine=True, escape = \"\\\"\").filter(\"text is not NULL\")\n",
    "dataset = dataset.withColumn('text', concat_ws(' | ', col('location'), col('text')))\n",
    "\n",
    "string_col = [item[0] for item in dataset.dtypes if item[1].startswith('string')]\n",
    "int_col = [item[0] for item in dataset.dtypes if item[1].startswith('iny')]\n",
    "double_col = [item[0] for item in dataset.dtypes if item[1].startswith('double')]\n",
    "bool_col = [item[0] for item in dataset.dtypes if item[1].startswith('boolean')]\n",
    "\n",
    "dataset = dataset.fillna('', subset = string_col)\\\n",
    "        .fillna(0, subset = int_col)\\\n",
    "        .fillna(0.0, subset = double_col) \\\n",
    "        .fillna(False, subset = bool_col) \n",
    " \n",
    "train_dataset, valid_dataset = dataset.randomSplit([0.7, 0.3], seed=42)\n",
    "train_dataset = train_dataset.repartition(32, \"news_id\")\n",
    "valid_dataset = valid_dataset.repartition(16, \"news_id\")\n",
    "print(\"Train Dataset Count: \" + str(train_dataset.count()))\n",
    "print(\"Valid Dataset Count: \" + str(valid_dataset.count()))"
   ]
  },
  {
   "cell_type": "code",
   "execution_count": 86,
   "id": "130def3e",
   "metadata": {},
   "outputs": [
    {
     "name": "stdout",
     "output_type": "stream",
     "text": [
      "+--------------------+\n",
      "|                text|\n",
      "+--------------------+\n",
      "|'usa: The Long Ru...|\n",
      "|'d: The Long Run ...|\n",
      "|in my room | 'Fro...|\n",
      "|'New blog post: R...|\n",
      "|'d: The Long Run ...|\n",
      "+--------------------+\n",
      "only showing top 5 rows\n",
      "\n"
     ]
    }
   ],
   "source": [
    "dataset.select('text').show(5)"
   ]
  },
  {
   "cell_type": "code",
   "execution_count": 5,
   "id": "f82c03d8",
   "metadata": {},
   "outputs": [],
   "source": [
    "embeddings = LongformerEmbeddings \\\n",
    "      .load(\"models/longformer_base_4096\") \\\n",
    "      .setBatchSize(128) \\\n",
    "      .setInputCols([\"document\", \"token\"]) \\\n",
    "      .setOutputCol(\"embeddings\") \\\n",
    "      .setCaseSensitive(True) \\\n",
    "      .setMaxSentenceLength(4096)"
   ]
  },
  {
   "cell_type": "code",
   "execution_count": 104,
   "id": "72b56b6a",
   "metadata": {},
   "outputs": [],
   "source": [
    "class DropDim(Transformer, DefaultParamsReadable, DefaultParamsWritable):\n",
    "    def __init__(self):\n",
    "        super(DropDim, self).__init__()\n",
    "\n",
    "    def _transform(self, df):\n",
    "        df = df.withColumn('emb_feature', element_at(df['emb_feature'], 1))\n",
    "        return df\n",
    "\n",
    "document_assembler = DocumentAssembler() \\\n",
    "    .setInputCol(\"text\") \\\n",
    "    .setOutputCol(\"document\") \\\n",
    "    .setIdCol(\"news_id\")\n",
    "    \n",
    "tokenizer = Tokenizer() \\\n",
    "    .setInputCols([\"document\"]) \\\n",
    "    .setOutputCol(\"token\")\n",
    "\n",
    "text_emb = SentenceEmbeddings() \\\n",
    "    .setInputCols([\"document\", \"embeddings\"]) \\\n",
    "    .setOutputCol(\"text_embeddings\") \\\n",
    "    .setPoolingStrategy(\"AVERAGE\")\n",
    "\n",
    "emb_feature = EmbeddingsFinisher() \\\n",
    "   .setInputCols(\"text_embeddings\") \\\n",
    "   .setOutputCols(\"emb_feature\") \\\n",
    "   .setOutputAsVector(True)\n",
    "\n",
    "# emb_size = VectorSizeHint(inputCol=\"emb_feature\", size=768, handleInvalid=\"error\")\n",
    "\n",
    "assembler = VectorAssembler(\n",
    "    inputCols=['emb_feature', 'favorite_count', 'retweet_count', \n",
    "               'verified', 'followers_count', 'friends_count', 'listed_count', 'favourites_count',\n",
    "               'geo_enabled',  'statuses_count', 'has_extended_profile', 'default_profile',\n",
    "              ], \n",
    "    outputCol=\"features\",\n",
    "#     handleInvalid=\"keep\"\n",
    ")\n",
    "\n",
    "clf = MultilayerPerceptronClassifier(labelCol='fake', maxIter=100, layers=[779, 128, 2], seed=42)\n",
    "\n",
    "clf_pipeline = Pipeline(stages=[\n",
    "    document_assembler, \n",
    "    tokenizer,\n",
    "    embeddings,\n",
    "    text_emb,\n",
    "    emb_feature,\n",
    "    DropDim(),\n",
    "#     emb_size,\n",
    "    assembler,\n",
    "    clf\n",
    "])"
   ]
  },
  {
   "cell_type": "code",
   "execution_count": 105,
   "id": "894bdf78",
   "metadata": {},
   "outputs": [],
   "source": [
    "# from pyspark.ml import PipelineModel\n",
    "\n",
    "# model = PipelineModel.load(\"models/politifact-clf-1101-1734/\")\n",
    "\n",
    "model = clf_pipeline.fit(train_dataset)\n",
    "results = model.transform(valid_dataset)"
   ]
  },
  {
   "cell_type": "code",
   "execution_count": 60,
   "id": "5c5b7380",
   "metadata": {
    "collapsed": true
   },
   "outputs": [
    {
     "data": {
      "text/plain": [
       "Row(features=DenseVector([0.0971, -0.0824, 0.0458, 0.1666, -0.1086, 0.1173, 0.0111, 0.0294, 0.0519, 0.0134, -0.1667, 0.0747, 0.0231, -0.042, -0.052, -0.0832, 0.247, 0.0035, -0.0097, 0.2216, 0.0435, 0.0892, -0.0383, 0.0868, -0.0244, -0.053, -0.0034, 0.051, -0.0358, -0.0784, -0.061, 0.009, 0.0259, -0.0233, 0.0208, 0.0032, 0.1706, 0.0483, 0.2088, 0.1279, 0.1802, -0.0608, 0.0577, -0.0177, 0.002, 0.0228, -0.0811, 0.208, -0.0567, 0.0166, -0.0024, -0.063, 0.0677, -0.0917, -0.0115, 0.0476, 0.0994, -0.0904, 0.0228, 0.0145, 0.0942, 0.0052, 0.0189, 0.1691, 0.0069, -0.0575, 0.0119, -0.0604, -0.0414, 0.0093, 0.0604, -0.0423, 0.0553, -0.0504, 0.0055, 0.0093, 0.1187, -5.9878, 0.0125, 0.0763, 0.079, 0.0185, 0.9883, -0.0682, 0.0887, -0.3646, 0.0106, -0.0861, -0.017, -0.0013, -0.0413, 0.0056, 0.1091, 0.013, 0.0853, 0.0405, 0.1075, -0.1663, 0.0381, -0.0869, 0.0043, -0.0371, -0.0355, 0.2696, -0.0525, 0.2121, 0.0131, 0.0182, 0.0784, 0.1262, 0.1069, 0.1902, -0.1027, -0.0192, -0.0739, 0.1782, 0.0041, 0.0336, -0.0312, -0.1318, 0.1141, -0.03, 0.1554, 0.0524, 0.1251, 0.1765, -0.0474, 0.1975, -0.0348, 0.0147, -0.0689, -0.4381, -0.0744, -0.0308, 0.1083, -0.0016, -0.0038, 0.1193, -0.025, -0.0507, 0.0978, -0.0322, -0.1076, -0.0338, 0.1568, -0.0069, -0.0253, -0.038, 0.0569, -0.0019, 0.0248, -0.0769, 0.006, 0.0634, -0.0949, 0.124, 0.1232, 0.0413, 0.03, 0.1876, 0.0548, -0.0237, -0.066, 0.0037, -0.048, 0.0568, -0.0056, 0.0802, 0.0264, 0.0972, -0.0041, -0.0526, 0.0081, 0.0185, -0.0293, -0.0233, 0.1463, 0.0255, 0.0195, -0.0467, -0.0066, 0.0196, -0.026, 0.0073, 0.006, 0.044, -0.0992, 0.1446, -0.0404, 0.027, -0.0024, 0.0402, 0.0174, 0.3893, -0.0616, 0.0178, -0.0383, 0.0181, -0.0675, -0.0109, -0.0514, -0.0881, 0.2437, 0.0129, 0.0548, -0.0279, 0.0218, 0.0996, 0.0321, 0.0587, -0.0309, 0.0322, 0.0627, 0.3446, -0.1716, -0.0794, 0.1353, -0.5357, 0.0454, -0.1071, 0.1117, -0.0151, -0.0229, 0.01, 0.0024, 0.0887, 0.0944, 0.0005, -0.0207, -0.0068, -0.0628, 0.1062, -0.0617, -0.033, 0.1143, -0.1359, 0.0054, 0.0948, 0.0662, -0.0119, -0.4876, 0.041, 0.0185, 0.109, -0.1045, 0.0055, -0.0677, 0.1348, 0.0521, 0.0404, 0.0331, -0.0034, 0.1128, -0.1045, -0.0062, -0.069, 0.1308, 0.0094, -0.136, 0.0237, 0.0596, 0.0209, -0.0342, -0.0227, -0.0306, 0.1313, -0.0113, 0.0709, 0.0131, -0.0045, 0.0071, 0.0631, -0.0687, 0.0152, 0.0208, 0.089, 0.0752, 0.0466, -0.0715, 0.0287, 0.0637, -0.0364, -0.2708, 0.0285, -0.0287, 0.1244, -0.2541, -0.1632, -0.0015, 0.0135, 0.0224, 0.0108, 0.0956, 0.0682, -0.0986, -0.1289, 0.0602, 0.0529, -0.0343, 0.1748, 0.1005, -0.0563, -0.0027, 0.0057, -0.0317, -0.0287, -0.0486, -0.1041, -0.1518, 0.0124, 0.0409, -0.1189, 0.054, 0.0607, -0.0491, 0.0635, 0.0251, 0.0383, 0.0807, 0.0654, 0.0117, 0.0562, 0.0292, 0.0682, -0.145, 0.0832, -0.1471, 0.045, 0.0417, 0.0311, 1.3817, 0.7317, 0.0988, -0.0511, -0.0019, 0.0094, -0.0334, -0.0518, 0.1063, -0.054, -0.1139, -0.0731, -0.0137, 0.0391, 0.039, 0.0009, 0.0033, -0.1461, -0.0214, -0.0189, 0.107, -0.0244, 0.0023, -0.1226, 0.025, 0.0234, -0.0332, -0.0088, 0.0722, -0.1834, 0.0344, 0.1364, 0.044, -0.0037, -0.0215, -0.2157, 0.2022, -0.0621, 0.0811, 0.0352, 0.099, -0.119, -0.0421, -0.0283, -0.1221, -0.0234, 0.0281, 0.0461, -0.1055, -0.0152, -0.0895, 0.0483, -0.0618, 0.005, -0.0083, -0.0774, -0.037, -0.0175, 0.0928, 0.021, 0.0594, -0.0647, 0.0404, 0.0478, 0.0228, 0.0437, 0.096, -0.0839, 0.0218, -0.025, -0.0689, 0.1193, -0.0849, 0.2187, 0.0651, 0.0348, -0.083, 0.103, 0.1072, 0.0422, 0.0129, -0.0023, 0.0232, -0.1071, 0.0267, 0.0327, 0.0789, 0.1334, 0.0427, -0.0506, -0.0582, -0.0702, 0.1102, 0.0313, 0.1266, -0.0236, 0.0125, 0.0754, 0.1124, -0.0737, 0.1299, 0.0077, -0.0326, -0.0256, -0.0101, -0.0256, 0.0446, -0.0382, 0.0478, 0.0448, -0.0248, -0.0033, 0.0263, 0.0793, 0.0827, 0.0679, -0.0184, -0.0415, 0.0467, 0.1081, 0.0933, 0.1261, -0.1268, -0.9075, 0.0401, 0.0591, 0.043, 0.1035, -0.0399, -0.0755, -0.0255, -0.0263, -0.1077, 0.03, -0.0438, -0.0424, -0.041, 0.1446, 0.0491, -0.0126, 0.0523, -0.0402, -0.0754, -0.0088, -0.035, -0.0679, -0.1191, 0.0994, -0.0793, 0.0397, 0.0099, 0.0528, -0.0185, 0.0505, 0.0674, 0.0413, -0.0913, 0.0803, 0.0334, 0.0619, -0.0446, -0.1522, 0.0301, 0.0227, 0.12, 0.0907, 0.0082, 0.199, -0.0466, -0.0617, -0.0164, 0.02, 0.0222, -0.0072, 0.1008, -0.0437, 0.0667, 0.0261, -0.0323, 0.0486, 0.0088, -0.0566, 0.0996, 0.012, -0.0308, 0.0739, 0.0035, -0.069, -0.0369, -0.0106, 0.008, 0.0147, 0.0053, 0.0738, 0.0162, 0.0448, -0.0743, 0.09, 0.1047, -0.0516, 0.2149, -0.0601, 0.0936, 0.0049, -0.11, 0.055, -0.0405, 0.0961, -0.0237, -0.1147, 0.026, 0.0064, 0.0409, 0.018, 0.0271, -0.0094, 0.0535, 0.0106, -0.0925, -0.0169, 0.0177, 1.9062, 0.0545, 0.1177, -0.0968, -0.0512, -0.1222, 0.0538, -0.021, -0.0452, 0.0279, -0.1691, 0.025, -0.0416, 0.0749, -0.0456, 0.0648, -0.0314, 0.0014, 0.0638, -0.0599, 0.0196, -0.0767, 0.0568, 0.1006, 0.0158, 0.0406, 0.2395, -0.0358, 0.0281, 0.0264, 0.0267, -0.0169, 0.0003, 0.0402, 0.0415, 0.0349, -0.1395, 11.4144, -0.064, -0.0539, 0.0203, 0.0166, 0.0264, -0.004, -0.0824, 0.204, 0.026, -0.0126, -0.0747, 0.0492, 0.0009, -0.0119, 0.0999, -0.0174, -0.0087, 0.0185, 0.062, 0.1092, 0.0583, 0.0466, 0.6418, -0.0429, 0.0581, 0.1248, 0.216, 0.0308, -0.0909, 0.1244, -0.0072, -0.0442, 0.078, 0.1302, 0.0334, 0.3562, 0.0837, 0.1223, -0.0995, 0.0346, 0.0728, -0.0508, 0.0584, -0.0249, 0.0288, 0.0111, 0.0358, 0.0423, 0.0343, 0.0014, 0.0055, -0.0708, 0.0078, -0.0334, -0.0483, -0.0658, 0.0683, -0.0757, -0.14, 0.0488, 0.055, -0.0392, 0.0947, 0.0028, 0.0184, -0.0564, 0.0865, -0.0443, -0.0071, 0.1127, -0.0637, -0.0796, -0.0759, -0.0978, 0.0599, 0.2684, 0.0178, -0.0357, 0.0554, 0.0799, 0.1026, 0.1044, -0.0529, 0.3604, 0.1715, 0.0984, -0.001, 0.0202, -0.1263, 0.0331, -0.0592, 0.1401, -0.056, -0.0328, -0.0412, -0.0618, 0.0097, 0.0534, 0.2371, -0.0565, -0.0342, -0.0377, -0.0124, 0.0457, 0.0107, -0.1325, -0.0526, -0.0193, 0.0279, -0.1155, 0.0218, -0.0102, 0.0871, -0.0745, 0.0437, -0.0524, -0.0762, 0.0278, -0.1572, -0.0544, 0.0036, 0.0058, 0.0185, -0.035, 0.0399, 0.0467, 0.0204, -0.1281, 0.0815, 0.1496, 0.0623, 0.0248, 0.024, 0.1205, 0.0305, 0.0685, 0.0927, -0.0405, 0.08, -0.0444, 0.0569, -0.0023, -0.8332, -0.1177, -0.2037, 0.0999, -0.0506, -0.1527, 0.0479, 0.0328, -0.0552, 0.0514, -0.0219, -0.0055, 0.0415, -0.0017, 0.0728, -0.0336, -0.066, -0.0185, -0.2079, -0.0887, -0.2317, 0.0314, -0.0487, 0.1119, 0.0491, 0.012, -0.0011, -0.0585, -0.0406, -0.0791, 0.0516, -0.0184, 0.09, 0.1051, -0.2376, -0.0466, 0.0257, 6.0]))"
      ]
     },
     "execution_count": 60,
     "metadata": {},
     "output_type": "execute_result"
    }
   ],
   "source": [
    "results.select('features').head()"
   ]
  },
  {
   "cell_type": "code",
   "execution_count": null,
   "id": "ffe067c7",
   "metadata": {},
   "outputs": [],
   "source": [
    "import os\n",
    "from datetime import datetime\n",
    "\n",
    "model.save(f\"models/{os.path.basename(fn).split('.')[0]}-clf-{datetime.now().strftime('%m%d-%H%M')}\")"
   ]
  },
  {
   "cell_type": "code",
   "execution_count": 27,
   "id": "ca311bf1",
   "metadata": {},
   "outputs": [],
   "source": [
    "results = model.transform(valid_dataset)"
   ]
  },
  {
   "cell_type": "code",
   "execution_count": 76,
   "id": "dd557643",
   "metadata": {},
   "outputs": [
    {
     "name": "stdout",
     "output_type": "stream",
     "text": [
      "+----------+\n",
      "|prediction|\n",
      "+----------+\n",
      "|0.0       |\n",
      "|0.0       |\n",
      "|0.0       |\n",
      "|0.0       |\n",
      "|1.0       |\n",
      "+----------+\n",
      "only showing top 5 rows\n",
      "\n"
     ]
    }
   ],
   "source": [
    "results.select('prediction').show(5, False)"
   ]
  },
  {
   "cell_type": "code",
   "execution_count": 107,
   "id": "5f0cc464",
   "metadata": {},
   "outputs": [
    {
     "data": {
      "text/plain": [
       "0.7301672325106933"
      ]
     },
     "execution_count": 107,
     "metadata": {},
     "output_type": "execute_result"
    }
   ],
   "source": [
    "from pyspark.ml.evaluation import MulticlassClassificationEvaluator\n",
    "\n",
    "# results = results.withColumn('pred_', results['pred'][0].result.cast('double'))\n",
    "# evaluator = MulticlassClassificationEvaluator(labelCol='fake',predictionCol='pred_',metricName='accuracy')\n",
    "\n",
    "evaluator = MulticlassClassificationEvaluator(labelCol='fake',predictionCol='prediction',metricName='accuracy')\n",
    "\n",
    "accuracy = evaluator.evaluate(results)\n",
    "accuracy"
   ]
  },
  {
   "cell_type": "code",
   "execution_count": 32,
   "id": "c291254e",
   "metadata": {},
   "outputs": [
    {
     "data": {
      "text/plain": [
       "[('news_id', 'int'),\n",
       " ('url', 'string'),\n",
       " ('text', 'string'),\n",
       " ('num_images', 'int'),\n",
       " ('domain', 'string'),\n",
       " ('publish_date', 'string'),\n",
       " ('fake', 'int'),\n",
       " ('authors', 'string'),\n",
       " ('document',\n",
       "  'array<struct<annotatorType:string,begin:int,end:int,result:string,metadata:map<string,string>,embeddings:array<float>>>'),\n",
       " ('token',\n",
       "  'array<struct<annotatorType:string,begin:int,end:int,result:string,metadata:map<string,string>,embeddings:array<float>>>'),\n",
       " ('embeddings',\n",
       "  'array<struct<annotatorType:string,begin:int,end:int,result:string,metadata:map<string,string>,embeddings:array<float>>>'),\n",
       " ('text_embeddings',\n",
       "  'array<struct<annotatorType:string,begin:int,end:int,result:string,metadata:map<string,string>,embeddings:array<float>>>'),\n",
       " ('pred',\n",
       "  'array<struct<annotatorType:string,begin:int,end:int,result:string,metadata:map<string,string>,embeddings:array<float>>>'),\n",
       " ('pred_', 'double')]"
      ]
     },
     "execution_count": 32,
     "metadata": {},
     "output_type": "execute_result"
    }
   ],
   "source": [
    "results.dtypes"
   ]
  }
 ],
 "metadata": {
  "kernelspec": {
   "display_name": "Python 3 (ipykernel)",
   "language": "python",
   "name": "python3"
  },
  "language_info": {
   "codemirror_mode": {
    "name": "ipython",
    "version": 3
   },
   "file_extension": ".py",
   "mimetype": "text/x-python",
   "name": "python",
   "nbconvert_exporter": "python",
   "pygments_lexer": "ipython3",
   "version": "3.8.5"
  }
 },
 "nbformat": 4,
 "nbformat_minor": 5
}
