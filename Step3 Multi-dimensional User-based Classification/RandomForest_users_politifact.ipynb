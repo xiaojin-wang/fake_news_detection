{
 "cells": [
  {
   "cell_type": "code",
   "execution_count": 1,
   "metadata": {},
   "outputs": [],
   "source": [
    "from pyspark import SparkContext,SparkConf\n",
    "from pyspark.sql import SparkSession \n",
    "from pyspark.sql.functions import *\n",
    "import pyspark.ml.feature\n",
    "from pyspark.ml.feature import Tokenizer,StopWordsRemover,CountVectorizer,IDF\n",
    "from pyspark.ml.linalg import Vectors\n",
    "from pyspark.ml.feature import VectorAssembler\n",
    "from pyspark.ml.classification import GBTClassifier\n",
    "from pyspark.ml import Pipeline \n",
    "from pyspark.ml.classification import RandomForestClassifier\n",
    "from pyspark.ml.feature import IndexToString, StringIndexer, VectorIndexer\n",
    "from pyspark.ml.evaluation import MulticlassClassificationEvaluator\n",
    "from pyspark.ml.classification import LinearSVC\n",
    "\n",
    "\n",
    "\n",
    "from pyspark.ml.evaluation import MulticlassClassificationEvaluator\n",
    "\n",
    "import warnings\n",
    "warnings.filterwarnings(\"ignore\")"
   ]
  },
  {
   "cell_type": "code",
   "execution_count": 5,
   "metadata": {},
   "outputs": [],
   "source": [
    "# Initialize Spark Session\n",
    "spark = SparkSession \\\n",
    "    .builder \\\n",
    "    .appName(\"Python Spark SQL basic example\") \\\n",
    "    .config(\"spark.some.config.option\", \"some-value\") \\\n",
    "    .getOrCreate()\n",
    "\n",
    "# df = spark.read.csv(\"./data_new/gossipcop_news.csv\",header=True, sep = ',',multiLine=True, escape = \"\\\"\",inferSchema =True)\n",
    "df = spark.read.csv(\"./data_new/politifact_with_users.csv\",header=True, sep = ',',multiLine=True, escape = \"\\\"\",inferSchema =True)"
   ]
  },
  {
   "cell_type": "code",
   "execution_count": 7,
   "metadata": {},
   "outputs": [
    {
     "data": {
      "text/plain": [
       "[('tweet_id', 'bigint'),\n",
       " ('created_at_tweet', 'int'),\n",
       " ('favorite_count', 'int'),\n",
       " ('retweet_count', 'int'),\n",
       " ('user_id', 'bigint'),\n",
       " ('location', 'string'),\n",
       " ('verified', 'boolean'),\n",
       " ('followers_count', 'double'),\n",
       " ('source', 'string'),\n",
       " ('text', 'string'),\n",
       " ('fake', 'double'),\n",
       " ('news_id', 'int'),\n",
       " ('created_at_user', 'double'),\n",
       " ('friends_count', 'double'),\n",
       " ('listed_count', 'double'),\n",
       " ('favourites_count', 'double'),\n",
       " ('geo_enabled', 'boolean'),\n",
       " ('statuses_count', 'double'),\n",
       " ('has_extended_profile', 'boolean'),\n",
       " ('default_profile', 'boolean')]"
      ]
     },
     "execution_count": 7,
     "metadata": {},
     "output_type": "execute_result"
    }
   ],
   "source": [
    "df.dtypes"
   ]
  },
  {
   "cell_type": "code",
   "execution_count": 8,
   "metadata": {},
   "outputs": [
    {
     "name": "stdout",
     "output_type": "stream",
     "text": [
      "+------------------+----------------+--------------+-------------+------------------+--------------------+--------+---------------+--------------------+--------------------+----+-------+---------------+-------------+------------+----------------+-----------+--------------+--------------------+---------------+\n",
      "|          tweet_id|created_at_tweet|favorite_count|retweet_count|           user_id|            location|verified|followers_count|              source|                text|fake|news_id|created_at_user|friends_count|listed_count|favourites_count|geo_enabled|statuses_count|has_extended_profile|default_profile|\n",
      "+------------------+----------------+--------------+-------------+------------------+--------------------+--------+---------------+--------------------+--------------------+----+-------+---------------+-------------+------------+----------------+-----------+--------------+--------------------+---------------+\n",
      "| 53186786549182464|      1301515692|             0|            0|          24600048|            Colorado|   false|         4649.0|Twitter for Websites|'PolitiFact | Bar...| 0.0|   8838|  1.237156626E9|       4042.0|        91.0|        110972.0|      false|       62252.0|               false|          false|\n",
      "|399173325915963392|      1384005311|             0|            0|         217766146|         Amherst, MA|   false|         1147.0|            Facebook|'The 2013 Nationa...| 0.0|    150|  1.290259811E9|       1230.0|        37.0|            55.0|       true|        2601.0|               false|           true|\n",
      "|473839694656966656|      1401807161|             0|            1|          27868805|     Chattanooga, TN|   false|          406.0|Twitter for Websites|'The Learning Lab...| 0.0|    150|   1.23850616E9|        459.0|        29.0|           275.0|       true|        7204.0|               false|          false|\n",
      "|967066982850945024|      1519401710|             0|            0|          87712431|    Washington, D.C.|    true|        23256.0|       Sprout Social|'The 2017 results...| 0.0|    150|  1.257435042E9|       1658.0|       823.0|          1022.0|      false|       38520.0|               false|          false|\n",
      "|983766563005362176|      1523383200|             0|            0|          52787252|      Athens, OH USA|   false|         4508.0|           TweetDeck|'Results released...| 0.0|    150|  1.246468716E9|        354.0|       141.0|            84.0|       true|       30584.0|               false|           true|\n",
      "|986612924927107200|      1524061826|             1|            0|         221091765|The University of...|   false|         1059.0|           Hootsuite|'The 2017 Nationa...| 0.0|    150|   1.29105527E9|        118.0|        36.0|           328.0|      false|        1465.0|               false|           true|\n",
      "|991414546576433152|      1525206622|             0|            0|          19206856|Republic of Texas...|   false|         1144.0|  Twitter Web Client|'What are THEY te...| 0.0|    150|  1.232405581E9|       2735.0|        25.0|            39.0|      false|       25283.0|                true|          false|\n",
      "|930793103375470592|      1510753343|             0|            0|         521974754|                null|   false|            3.0|            Facebook|'‘The Largest Bus...| 1.0|  14777|  1.331529306E9|         18.0|         0.0|             2.0|      false|      107805.0|               false|           true|\n",
      "|956312708277817216|      1516837691|             0|            0|942235693627174912|                null|   false|         1047.0|  Twitter Web Client|'@realDonaldTrump...| 1.0|  14777|   1.51348147E9|       2666.0|         1.0|            26.0|      false|         491.0|                true|           true|\n",
      "|957669282321707008|      1517161124|             0|            0|        4727891668|                null|   false|            4.0|  Twitter Web Client|'412 Michigan Mus...| 1.0|  14777|  1.452111417E9|        106.0|         0.0|             3.0|       true|        2311.0|               false|           true|\n",
      "+------------------+----------------+--------------+-------------+------------------+--------------------+--------+---------------+--------------------+--------------------+----+-------+---------------+-------------+------------+----------------+-----------+--------------+--------------------+---------------+\n",
      "only showing top 10 rows\n",
      "\n"
     ]
    }
   ],
   "source": [
    "df.show(10)"
   ]
  },
  {
   "cell_type": "code",
   "execution_count": 9,
   "metadata": {},
   "outputs": [],
   "source": [
    "df = df.select('text','source','fake', 'favorite_count', 'retweet_count', 'verified', 'followers_count', 'friends_count', 'listed_count', 'favourites_count', 'geo_enabled', 'statuses_count', 'has_extended_profile', 'default_profile')"
   ]
  },
  {
   "cell_type": "code",
   "execution_count": 10,
   "metadata": {},
   "outputs": [
    {
     "name": "stdout",
     "output_type": "stream",
     "text": [
      "12566\n"
     ]
    }
   ],
   "source": [
    "df = df.dropna(subset=('text'))\n",
    "df = df.fillna(\"\", subset=('source'))\n",
    "df = df.fillna(0, subset = ('favorite_count', 'retweet_count', 'verified', 'followers_count', 'friends_count', 'listed_count', 'favourites_count', 'geo_enabled', 'statuses_count', 'has_extended_profile', 'default_profile'))\n",
    "df = df.dropna()"
   ]
  },
  {
   "cell_type": "code",
   "execution_count": 11,
   "metadata": {},
   "outputs": [],
   "source": [
    "tokenizer_text = Tokenizer(inputCol='text',outputCol='text1')\n",
    "stopwords_remover_text = StopWordsRemover(inputCol='text1',outputCol='text2')\n",
    "vectorizer_text = CountVectorizer(inputCol='text2',outputCol='text3')\n",
    "idf_text = IDF(inputCol='text3',outputCol='text_vc')"
   ]
  },
  {
   "cell_type": "code",
   "execution_count": 12,
   "metadata": {},
   "outputs": [],
   "source": [
    "tokenizer_domain = Tokenizer(inputCol='source',outputCol='domain1')\n",
    "stopwords_remover_domain = StopWordsRemover(inputCol='domain1',outputCol='domain2')\n",
    "vectorizer_domain = CountVectorizer(inputCol='domain2',outputCol='domain3')\n",
    "idf_domain = IDF(inputCol='domain3',outputCol='domain_vc')"
   ]
  },
  {
   "cell_type": "code",
   "execution_count": 13,
   "metadata": {},
   "outputs": [],
   "source": [
    "(trainDF,testDF) = df.randomSplit((0.7,0.3),seed=42)"
   ]
  },
  {
   "cell_type": "code",
   "execution_count": 14,
   "metadata": {},
   "outputs": [],
   "source": [
    "assembler = VectorAssembler(inputCols=['text_vc','domain_vc', 'favorite_count', 'retweet_count', 'verified', 'followers_count', 'friends_count', 'listed_count', 'favourites_count', 'geo_enabled', 'statuses_count', 'has_extended_profile', 'default_profile'],outputCol=\"features\")"
   ]
  },
  {
   "cell_type": "code",
   "execution_count": 15,
   "metadata": {},
   "outputs": [],
   "source": [
    "# featureIndexer = VectorIndexer(inputCol=\"features\", outputCol=\"indexedFeatures\")\n",
    "# labelIndexer = StringIndexer(inputCol=\"fake\", outputCol=\"indexedLabel\")"
   ]
  },
  {
   "cell_type": "code",
   "execution_count": 16,
   "metadata": {},
   "outputs": [],
   "source": [
    "rf = RandomForestClassifier(labelCol=\"fake\", featuresCol=\"features\", numTrees=10)"
   ]
  },
  {
   "cell_type": "code",
   "execution_count": 17,
   "metadata": {},
   "outputs": [],
   "source": [
    "# pipeline = Pipeline(stages=[tokenizer_text,stopwords_remover_text,vectorizer_text,idf_text,\n",
    "#                             tokenizer_source,stopwords_remover_source,vectorizer_source,idf_source,\n",
    "#                             tokenizer_location,stopwords_remover_location,vectorizer_location,idf_location,\n",
    "#                             assembler,labelIndexer, featureIndexer, rf])\n",
    "\n",
    "pipeline = Pipeline(stages=[tokenizer_text,stopwords_remover_text,vectorizer_text,idf_text,\n",
    "                            tokenizer_domain,stopwords_remover_domain,vectorizer_domain,idf_domain,\n",
    "                            assembler, rf])"
   ]
  },
  {
   "cell_type": "code",
   "execution_count": 18,
   "metadata": {},
   "outputs": [],
   "source": [
    "model = pipeline.fit(trainDF)\n"
   ]
  },
  {
   "cell_type": "code",
   "execution_count": 19,
   "metadata": {},
   "outputs": [],
   "source": [
    "predictions = model.transform(testDF)"
   ]
  },
  {
   "cell_type": "code",
   "execution_count": 20,
   "metadata": {},
   "outputs": [],
   "source": [
    "predictions = predictions.select('fake','prediction')"
   ]
  },
  {
   "cell_type": "code",
   "execution_count": 21,
   "metadata": {},
   "outputs": [],
   "source": [
    "evaluator_accuracy = MulticlassClassificationEvaluator(labelCol='fake',predictionCol='prediction',metricName='accuracy')\n",
    "evaluator_f1 = MulticlassClassificationEvaluator(labelCol='fake',predictionCol='prediction',metricName='f1')\n",
    "evaluator_precision = MulticlassClassificationEvaluator(labelCol='fake',predictionCol='prediction',metricName='weightedPrecision')\n",
    "evaluator_recall = MulticlassClassificationEvaluator(labelCol='fake',predictionCol='prediction',metricName='weightedRecall')"
   ]
  },
  {
   "cell_type": "code",
   "execution_count": 22,
   "metadata": {},
   "outputs": [
    {
     "name": "stdout",
     "output_type": "stream",
     "text": [
      "Accuracy: 0.7236413043478261\n",
      "F1: 0.6076168354022579\n",
      "Precision: 0.523656737358223\n",
      "Recall: 0.7236413043478261\n"
     ]
    }
   ],
   "source": [
    "print('Accuracy:', evaluator_accuracy.evaluate(predictions))\n",
    "print('F1:',evaluator_f1.evaluate(predictions))\n",
    "print('Precision:',evaluator_precision.evaluate(predictions))\n",
    "print('Recall:',evaluator_recall.evaluate(predictions))"
   ]
  },
  {
   "cell_type": "code",
   "execution_count": null,
   "metadata": {},
   "outputs": [],
   "source": []
  }
 ],
 "metadata": {
  "kernelspec": {
   "display_name": "Python 3",
   "language": "python",
   "name": "python3"
  },
  "language_info": {
   "codemirror_mode": {
    "name": "ipython",
    "version": 3
   },
   "file_extension": ".py",
   "mimetype": "text/x-python",
   "name": "python",
   "nbconvert_exporter": "python",
   "pygments_lexer": "ipython3",
   "version": "3.7.4"
  }
 },
 "nbformat": 4,
 "nbformat_minor": 4
}
