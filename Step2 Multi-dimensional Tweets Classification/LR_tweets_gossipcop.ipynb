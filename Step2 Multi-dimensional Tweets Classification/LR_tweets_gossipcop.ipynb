{
 "cells": [
  {
   "cell_type": "code",
   "execution_count": 2,
   "id": "6260e90d",
   "metadata": {},
   "outputs": [],
   "source": [
    "from pyspark import SparkContext,SparkConf\n",
    "from pyspark.sql import SparkSession \n",
    "from pyspark.sql.functions import *\n",
    "import pyspark.ml.feature\n",
    "from pyspark.ml.feature import Tokenizer,StopWordsRemover,CountVectorizer,IDF\n",
    "from pyspark.ml.linalg import Vectors\n",
    "from pyspark.ml.feature import VectorAssembler\n",
    "from pyspark.ml.classification import LogisticRegression\n",
    "from pyspark.ml import Pipeline \n",
    "\n",
    "from pyspark.ml.evaluation import MulticlassClassificationEvaluator\n"
   ]
  },
  {
   "cell_type": "code",
   "execution_count": 3,
   "metadata": {},
   "outputs": [],
   "source": [
    "import warnings\n",
    "warnings.filterwarnings(\"ignore\")"
   ]
  },
  {
   "cell_type": "code",
   "execution_count": 4,
   "metadata": {},
   "outputs": [
    {
     "name": "stderr",
     "output_type": "stream",
     "text": [
      "21/10/21 23:00:44 WARN Utils: Your hostname, Cinderellas-Blue.local resolves to a loopback address: 127.0.0.1; using 172.17.124.132 instead (on interface en0)\n",
      "21/10/21 23:00:44 WARN Utils: Set SPARK_LOCAL_IP if you need to bind to another address\n",
      "21/10/21 23:00:44 WARN NativeCodeLoader: Unable to load native-hadoop library for your platform... using builtin-java classes where applicable\n",
      "Using Spark's default log4j profile: org/apache/spark/log4j-defaults.properties\n",
      "Setting default log level to \"WARN\".\n",
      "To adjust logging level use sc.setLogLevel(newLevel). For SparkR, use setLogLevel(newLevel).\n",
      "21/10/21 23:00:46 WARN Utils: Service 'SparkUI' could not bind on port 4040. Attempting port 4041.\n"
     ]
    }
   ],
   "source": [
    "\n",
    "sc = SparkContext(\"local\",\"classifier\")"
   ]
  },
  {
   "cell_type": "code",
   "execution_count": 5,
   "metadata": {},
   "outputs": [],
   "source": [
    "spark = SparkSession.builder.appName(\"Classifier\").config('spark.executor.memory', '1G').getOrCreate()"
   ]
  },
  {
   "cell_type": "code",
   "execution_count": 6,
   "id": "fa344739",
   "metadata": {},
   "outputs": [
    {
     "name": "stderr",
     "output_type": "stream",
     "text": []
    }
   ],
   "source": [
    "df = spark.read.csv(\"data/gossipcop_tweets_processed.csv\",header=True, sep = ',',multiLine=True, escape = \"\\\"\",inferSchema =True)"
   ]
  },
  {
   "cell_type": "code",
   "execution_count": 17,
   "metadata": {},
   "outputs": [
    {
     "name": "stdout",
     "output_type": "stream",
     "text": [
      "+------------------+-------------------+--------------+-------------+------------------+--------------------+--------+---------------+------------------+--------------------+----+-------+\n",
      "|          tweet_id|         created_at|favorite_count|retweet_count|           user_id|            location|verified|followers_count|            source|                text|fake|news_id|\n",
      "+------------------+-------------------+--------------+-------------+------------------+--------------------+--------+---------------+------------------+--------------------+----+-------+\n",
      "|853737542499348480|2017-04-16 22:31:06|             0|            0|         527095730|   Sydney, Australia|   false|        11062.0|         Hootsuite|\"Bristol Palin Lo...| 0.0| 843836|\n",
      "|853743876854530048|2017-04-16 22:56:16|             0|            0|         230056211|                null|   false|          297.0|           dlvr.it|\"Bristol Palin Lo...| 0.0| 843836|\n",
      "|853842612775665664|2017-04-17 05:28:37|             0|            0|          23113271|          Orem, Utah|   false|           48.0|Twitter Web Client|\"Bristol Palin Lo...| 0.0| 843836|\n",
      "|853736273667776512|2017-04-16 22:26:03|             0|            0|          66295774|           The Earth|   false|        12972.0|           dlvr.it|\"https://t.co/mns...| 0.0| 843836|\n",
      "|853738600743280640|2017-04-16 22:35:18|             0|            0|        1252242577|                null|   false|         4485.0|        Twibble.io|\"Bristol Palin Lo...| 0.0| 843836|\n",
      "|853758430942601216|2017-04-16 23:54:06|             0|            0|        2202767136|                null|   false|         1397.0|           dlvr.it|\"Bristol Palin Lo...| 0.0| 843836|\n",
      "|853758421190942720|2017-04-16 23:54:04|             0|            0|        2385794396|                null|   false|         1406.0|           dlvr.it|\"Bristol Palin Lo...| 0.0| 843836|\n",
      "|853737424974995456|2017-04-16 22:30:38|             0|            0|         600811002|             Wrexham|   false|          468.0|             IFTTT|\"Bristol Palin Lo...| 0.0| 843836|\n",
      "|853738565942902784|2017-04-16 22:35:10|             0|            0|        2810067379|Hollywood - World...|   false|         4573.0|           dlvr.it|\"Bristol Palin Lo...| 0.0| 843836|\n",
      "|853739101500997632|2017-04-16 22:37:18|             0|            0|         637357108|            New York|   false|           19.0|          Facebook|\"Bristol Palin Lo...| 0.0| 843836|\n",
      "|853741358099681280|2017-04-16 22:46:16|             0|            0|786980791427280896|            Honduras|   false|            6.0|         Hootsuite|\"#Moda Bristol Pa...| 0.0| 843836|\n",
      "|853815494641676288|2017-04-17 03:40:51|             0|            0|          42639323|     Cleveland, Ohio|   false|         2901.0|             IFTTT|\"Bristol Palin Lo...| 0.0| 843836|\n",
      "|853743884169433088|2017-04-16 22:56:18|             0|            0|        3318784682|221B Baker St London|   false|         3313.0|           dlvr.it|\"Bristol Palin Lo...| 0.0| 843836|\n",
      "|853817104159694848|2017-04-17 03:47:15|             0|            0|745739407135752193|          London, UK|   false|          211.0|             IFTTT|\"Bristol Palin Lo...| 0.0| 843836|\n",
      "|853807947255865344|2017-04-17 03:10:52|             0|            0|          26871746|              Dallas|   false|          409.0|Twitter for iPhone|\"Bristol Palin Lo...| 0.0| 843836|\n",
      "|853745219300405248|2017-04-16 23:01:36|             0|            0|791329130302230528|            Honduras|   false|            3.0|         Hootsuite|\"#MODA Bristol Pa...| 0.0| 843836|\n",
      "|853903801526345728|2017-04-17 09:31:45|             0|            0|         528829450|                null|   false|         1308.0|             Qktip|'Bristol Palin Lo...| 0.0| 843836|\n",
      "|853857456103067648|2017-04-17 06:27:36|             0|            0|        3288161028|                null|   false|          567.0|             IFTTT|\"all_newsonline1:...| 0.0| 843836|\n",
      "|853738919694925824|2017-04-16 22:36:34|             0|            0|        2355797043|             Jamaica|   false|          980.0|     WordPress.com|\"Bristol Palin Lo...| 0.0| 843836|\n",
      "|853743883397636096|2017-04-16 22:56:18|             1|            0|        4631439554|   Grand Prairie, TX|   false|         1655.0|           dlvr.it|\"Bristol Palin Lo...| 0.0| 843836|\n",
      "+------------------+-------------------+--------------+-------------+------------------+--------------------+--------+---------------+------------------+--------------------+----+-------+\n",
      "only showing top 20 rows\n",
      "\n"
     ]
    }
   ],
   "source": [
    "df.show()"
   ]
  },
  {
   "cell_type": "code",
   "execution_count": 3,
   "id": "a604ae2d",
   "metadata": {},
   "outputs": [],
   "source": [
    "#df = df.select('news_id')"
   ]
  },
  {
   "cell_type": "code",
   "execution_count": 7,
   "id": "fa12ca96",
   "metadata": {},
   "outputs": [
    {
     "data": {
      "text/plain": [
       "[('tweet_id', 'bigint'),\n",
       " ('created_at', 'string'),\n",
       " ('favorite_count', 'int'),\n",
       " ('retweet_count', 'int'),\n",
       " ('user_id', 'bigint'),\n",
       " ('location', 'string'),\n",
       " ('verified', 'boolean'),\n",
       " ('followers_count', 'double'),\n",
       " ('source', 'string'),\n",
       " ('text', 'string'),\n",
       " ('fake', 'double'),\n",
       " ('news_id', 'bigint')]"
      ]
     },
     "execution_count": 7,
     "metadata": {},
     "output_type": "execute_result"
    }
   ],
   "source": [
    "df.dtypes"
   ]
  },
  {
   "cell_type": "code",
   "execution_count": 8,
   "id": "b1eb3059",
   "metadata": {},
   "outputs": [],
   "source": [
    "df = df.select('created_at','text','location','verified','source', 'followers_count','retweet_count','favorite_count','fake')"
   ]
  },
  {
   "cell_type": "code",
   "execution_count": 9,
   "metadata": {},
   "outputs": [],
   "source": [
    "df = df.withColumn('created_at', to_timestamp(col('created_at'), 'yyyy-MM-dd HH:mm:ss'))"
   ]
  },
  {
   "cell_type": "code",
   "execution_count": 23,
   "metadata": {},
   "outputs": [],
   "source": [
    "df = df.withColumn('created_at', df.created_at.cast(\"long\"))"
   ]
  },
  {
   "cell_type": "code",
   "execution_count": 24,
   "metadata": {},
   "outputs": [
    {
     "data": {
      "text/plain": [
       "[('created_at', 'bigint'),\n",
       " ('text', 'string'),\n",
       " ('location', 'string'),\n",
       " ('verified', 'boolean'),\n",
       " ('source', 'string'),\n",
       " ('followers_count', 'double'),\n",
       " ('retweet_count', 'int'),\n",
       " ('favorite_count', 'int'),\n",
       " ('fake', 'double')]"
      ]
     },
     "execution_count": 24,
     "metadata": {},
     "output_type": "execute_result"
    }
   ],
   "source": [
    "df.dtypes"
   ]
  },
  {
   "cell_type": "code",
   "execution_count": 25,
   "id": "890ba2e6",
   "metadata": {},
   "outputs": [],
   "source": [
    "df = df.dropna(subset=('text'))"
   ]
  },
  {
   "cell_type": "code",
   "execution_count": 26,
   "metadata": {},
   "outputs": [],
   "source": [
    "df = df.fillna('null', subset = ('source', 'location'))"
   ]
  },
  {
   "cell_type": "code",
   "execution_count": 13,
   "id": "c93c0268",
   "metadata": {},
   "outputs": [],
   "source": [
    "tokenizer_text = Tokenizer(inputCol='text',outputCol='text1')\n",
    "stopwords_remover_text = StopWordsRemover(inputCol='text1',outputCol='text2')\n",
    "vectorizer_text = CountVectorizer(inputCol='text2',outputCol='text3')\n",
    "idf_text = IDF(inputCol='text3',outputCol='text_vc')"
   ]
  },
  {
   "cell_type": "code",
   "execution_count": 14,
   "id": "563d573c",
   "metadata": {},
   "outputs": [],
   "source": [
    "tokenizer_location = Tokenizer(inputCol='location',outputCol='location1')\n",
    "stopwords_remover_location = StopWordsRemover(inputCol='location1',outputCol='location2')\n",
    "vectorizer_location = CountVectorizer(inputCol='location2',outputCol='location3')\n",
    "idf_location = IDF(inputCol='location3',outputCol='location_vc')"
   ]
  },
  {
   "cell_type": "code",
   "execution_count": 15,
   "metadata": {},
   "outputs": [],
   "source": [
    "tokenizer_source = Tokenizer(inputCol='source',outputCol='source1')\n",
    "stopwords_remover_source = StopWordsRemover(inputCol='source1',outputCol='source2')\n",
    "vectorizer_source = CountVectorizer(inputCol='source2',outputCol='source3')\n",
    "idf_source = IDF(inputCol='source3',outputCol='source_vc')"
   ]
  },
  {
   "cell_type": "code",
   "execution_count": 27,
   "id": "828782bc",
   "metadata": {},
   "outputs": [],
   "source": [
    "(trainDF,testDF) = df.randomSplit((0.7,0.3),seed=42)"
   ]
  },
  {
   "cell_type": "code",
   "execution_count": 28,
   "metadata": {},
   "outputs": [],
   "source": [
    "input_cols = ['created_at','text_vc','location_vc','verified','source_vc', 'followers_count','retweet_count','favorite_count']"
   ]
  },
  {
   "cell_type": "code",
   "execution_count": 29,
   "id": "b4cc58cd",
   "metadata": {},
   "outputs": [],
   "source": [
    "assembler = VectorAssembler(inputCols=input_cols,outputCol=\"features\")"
   ]
  },
  {
   "cell_type": "code",
   "execution_count": 30,
   "id": "d772e823",
   "metadata": {},
   "outputs": [],
   "source": [
    "lr = LogisticRegression(featuresCol='features',labelCol='fake')"
   ]
  },
  {
   "cell_type": "code",
   "execution_count": 31,
   "id": "853acd6a",
   "metadata": {},
   "outputs": [],
   "source": [
    "pipeline = Pipeline(stages=[tokenizer_text,stopwords_remover_text,vectorizer_text,idf_text,\n",
    "                            tokenizer_source,stopwords_remover_source,vectorizer_source,idf_source,\n",
    "                            tokenizer_location,stopwords_remover_location,vectorizer_location,idf_location,\n",
    "                            assembler,lr])"
   ]
  },
  {
   "cell_type": "code",
   "execution_count": 32,
   "id": "4e85f2b1",
   "metadata": {},
   "outputs": [
    {
     "name": "stderr",
     "output_type": "stream",
     "text": [
      "21/10/21 23:13:28 WARN DAGScheduler: Broadcasting large task binary with size 4.0 MiB\n",
      "21/10/21 23:15:05 WARN DAGScheduler: Broadcasting large task binary with size 26.4 MiB\n",
      "21/10/21 23:16:20 WARN DAGScheduler: Broadcasting large task binary with size 26.4 MiB\n",
      "21/10/21 23:17:12 WARN BLAS: Failed to load implementation from: com.github.fommil.netlib.NativeSystemBLAS\n",
      "21/10/21 23:17:12 WARN BLAS: Failed to load implementation from: com.github.fommil.netlib.NativeRefBLAS\n",
      "21/10/21 23:17:17 WARN DAGScheduler: Broadcasting large task binary with size 26.4 MiB\n",
      "21/10/21 23:17:22 WARN DAGScheduler: Broadcasting large task binary with size 26.4 MiB\n",
      "21/10/21 23:17:27 WARN DAGScheduler: Broadcasting large task binary with size 26.4 MiB\n",
      "21/10/21 23:17:32 WARN DAGScheduler: Broadcasting large task binary with size 26.4 MiB\n",
      "21/10/21 23:17:34 WARN DAGScheduler: Broadcasting large task binary with size 26.4 MiB\n",
      "21/10/21 23:17:36 WARN DAGScheduler: Broadcasting large task binary with size 26.4 MiB\n",
      "21/10/21 23:17:38 WARN DAGScheduler: Broadcasting large task binary with size 26.4 MiB\n",
      "21/10/21 23:17:40 WARN DAGScheduler: Broadcasting large task binary with size 26.4 MiB\n",
      "21/10/21 23:17:42 WARN DAGScheduler: Broadcasting large task binary with size 26.4 MiB\n",
      "21/10/21 23:17:44 WARN DAGScheduler: Broadcasting large task binary with size 26.4 MiB\n",
      "21/10/21 23:17:46 WARN DAGScheduler: Broadcasting large task binary with size 26.4 MiB\n",
      "21/10/21 23:17:48 WARN DAGScheduler: Broadcasting large task binary with size 26.4 MiB\n",
      "21/10/21 23:17:50 WARN DAGScheduler: Broadcasting large task binary with size 26.4 MiB\n",
      "21/10/21 23:17:51 WARN DAGScheduler: Broadcasting large task binary with size 26.4 MiB\n",
      "21/10/21 23:17:54 WARN DAGScheduler: Broadcasting large task binary with size 26.4 MiB\n",
      "21/10/21 23:17:56 WARN DAGScheduler: Broadcasting large task binary with size 26.4 MiB\n",
      "21/10/21 23:17:58 WARN DAGScheduler: Broadcasting large task binary with size 26.4 MiB\n",
      "21/10/21 23:17:59 WARN DAGScheduler: Broadcasting large task binary with size 26.4 MiB\n",
      "21/10/21 23:18:02 WARN DAGScheduler: Broadcasting large task binary with size 26.4 MiB\n",
      "21/10/21 23:18:04 WARN DAGScheduler: Broadcasting large task binary with size 26.4 MiB\n",
      "21/10/21 23:18:06 WARN DAGScheduler: Broadcasting large task binary with size 26.4 MiB\n",
      "21/10/21 23:18:08 WARN DAGScheduler: Broadcasting large task binary with size 26.4 MiB\n",
      "21/10/21 23:18:11 WARN DAGScheduler: Broadcasting large task binary with size 26.4 MiB\n",
      "21/10/21 23:18:14 WARN DAGScheduler: Broadcasting large task binary with size 26.4 MiB\n",
      "21/10/21 23:18:17 WARN DAGScheduler: Broadcasting large task binary with size 26.4 MiB\n",
      "21/10/21 23:18:19 WARN DAGScheduler: Broadcasting large task binary with size 26.4 MiB\n",
      "21/10/21 23:18:21 WARN DAGScheduler: Broadcasting large task binary with size 26.4 MiB\n",
      "21/10/21 23:18:27 WARN DAGScheduler: Broadcasting large task binary with size 26.4 MiB\n",
      "21/10/21 23:18:31 WARN DAGScheduler: Broadcasting large task binary with size 26.4 MiB\n",
      "21/10/21 23:18:35 WARN DAGScheduler: Broadcasting large task binary with size 26.4 MiB\n",
      "21/10/21 23:18:38 WARN DAGScheduler: Broadcasting large task binary with size 26.4 MiB\n",
      "21/10/21 23:18:42 WARN DAGScheduler: Broadcasting large task binary with size 26.4 MiB\n",
      "21/10/21 23:18:46 WARN DAGScheduler: Broadcasting large task binary with size 26.4 MiB\n",
      "21/10/21 23:18:49 WARN DAGScheduler: Broadcasting large task binary with size 26.4 MiB\n",
      "21/10/21 23:18:56 WARN DAGScheduler: Broadcasting large task binary with size 26.4 MiB\n",
      "21/10/21 23:19:02 WARN DAGScheduler: Broadcasting large task binary with size 26.4 MiB\n",
      "21/10/21 23:19:10 WARN DAGScheduler: Broadcasting large task binary with size 26.4 MiB\n",
      "21/10/21 23:19:14 WARN DAGScheduler: Broadcasting large task binary with size 26.4 MiB\n",
      "21/10/21 23:19:17 WARN DAGScheduler: Broadcasting large task binary with size 26.4 MiB\n",
      "21/10/21 23:19:20 WARN DAGScheduler: Broadcasting large task binary with size 26.4 MiB\n",
      "21/10/21 23:19:24 WARN DAGScheduler: Broadcasting large task binary with size 26.4 MiB\n",
      "21/10/21 23:19:29 WARN DAGScheduler: Broadcasting large task binary with size 26.4 MiB\n",
      "21/10/21 23:19:31 WARN DAGScheduler: Broadcasting large task binary with size 26.4 MiB\n",
      "21/10/21 23:19:34 WARN DAGScheduler: Broadcasting large task binary with size 26.4 MiB\n",
      "21/10/21 23:19:38 WARN DAGScheduler: Broadcasting large task binary with size 26.4 MiB\n",
      "21/10/21 23:19:41 WARN DAGScheduler: Broadcasting large task binary with size 26.4 MiB\n",
      "21/10/21 23:19:44 WARN DAGScheduler: Broadcasting large task binary with size 26.4 MiB\n",
      "21/10/21 23:19:48 WARN DAGScheduler: Broadcasting large task binary with size 26.4 MiB\n",
      "21/10/21 23:19:51 WARN DAGScheduler: Broadcasting large task binary with size 26.4 MiB\n",
      "21/10/21 23:19:54 WARN DAGScheduler: Broadcasting large task binary with size 26.4 MiB\n",
      "21/10/21 23:19:57 WARN DAGScheduler: Broadcasting large task binary with size 26.4 MiB\n",
      "21/10/21 23:20:01 WARN DAGScheduler: Broadcasting large task binary with size 26.4 MiB\n",
      "21/10/21 23:20:08 WARN DAGScheduler: Broadcasting large task binary with size 26.4 MiB\n",
      "21/10/21 23:20:12 WARN DAGScheduler: Broadcasting large task binary with size 26.4 MiB\n",
      "21/10/21 23:20:15 WARN DAGScheduler: Broadcasting large task binary with size 26.4 MiB\n",
      "21/10/21 23:20:18 WARN DAGScheduler: Broadcasting large task binary with size 26.4 MiB\n",
      "21/10/21 23:20:32 WARN DAGScheduler: Broadcasting large task binary with size 26.4 MiB\n",
      "21/10/21 23:20:36 WARN DAGScheduler: Broadcasting large task binary with size 26.4 MiB\n",
      "21/10/21 23:20:42 WARN DAGScheduler: Broadcasting large task binary with size 26.4 MiB\n",
      "21/10/21 23:20:47 WARN DAGScheduler: Broadcasting large task binary with size 26.4 MiB\n",
      "21/10/21 23:20:55 WARN DAGScheduler: Broadcasting large task binary with size 26.4 MiB\n",
      "21/10/21 23:21:02 WARN DAGScheduler: Broadcasting large task binary with size 26.4 MiB\n",
      "21/10/21 23:21:09 WARN DAGScheduler: Broadcasting large task binary with size 26.4 MiB\n",
      "21/10/21 23:21:18 WARN DAGScheduler: Broadcasting large task binary with size 26.4 MiB\n",
      "21/10/21 23:21:30 WARN DAGScheduler: Broadcasting large task binary with size 26.4 MiB\n",
      "21/10/21 23:21:41 WARN DAGScheduler: Broadcasting large task binary with size 26.4 MiB\n",
      "21/10/21 23:21:57 WARN DAGScheduler: Broadcasting large task binary with size 26.4 MiB\n",
      "21/10/21 23:22:10 WARN DAGScheduler: Broadcasting large task binary with size 26.4 MiB\n",
      "21/10/21 23:22:15 WARN DAGScheduler: Broadcasting large task binary with size 26.4 MiB\n",
      "21/10/21 23:22:20 WARN DAGScheduler: Broadcasting large task binary with size 26.4 MiB\n",
      "21/10/21 23:22:26 WARN DAGScheduler: Broadcasting large task binary with size 26.4 MiB\n",
      "21/10/21 23:22:36 WARN DAGScheduler: Broadcasting large task binary with size 26.4 MiB\n",
      "21/10/21 23:22:52 WARN DAGScheduler: Broadcasting large task binary with size 26.4 MiB\n",
      "21/10/21 23:23:05 WARN DAGScheduler: Broadcasting large task binary with size 26.4 MiB\n",
      "21/10/21 23:23:11 WARN DAGScheduler: Broadcasting large task binary with size 26.4 MiB\n",
      "21/10/21 23:23:16 WARN DAGScheduler: Broadcasting large task binary with size 26.4 MiB\n",
      "21/10/21 23:23:20 WARN DAGScheduler: Broadcasting large task binary with size 26.4 MiB\n",
      "21/10/21 23:23:25 WARN DAGScheduler: Broadcasting large task binary with size 26.4 MiB\n",
      "21/10/21 23:23:29 WARN DAGScheduler: Broadcasting large task binary with size 26.4 MiB\n",
      "21/10/21 23:23:39 WARN DAGScheduler: Broadcasting large task binary with size 26.4 MiB\n",
      "21/10/21 23:23:44 WARN DAGScheduler: Broadcasting large task binary with size 26.4 MiB\n",
      "21/10/21 23:23:46 WARN DAGScheduler: Broadcasting large task binary with size 26.4 MiB\n",
      "21/10/21 23:23:49 WARN DAGScheduler: Broadcasting large task binary with size 26.4 MiB\n",
      "21/10/21 23:23:51 WARN DAGScheduler: Broadcasting large task binary with size 26.4 MiB\n",
      "21/10/21 23:23:53 WARN DAGScheduler: Broadcasting large task binary with size 26.4 MiB\n",
      "21/10/21 23:23:55 WARN DAGScheduler: Broadcasting large task binary with size 26.4 MiB\n",
      "21/10/21 23:23:56 WARN DAGScheduler: Broadcasting large task binary with size 26.4 MiB\n",
      "21/10/21 23:23:59 WARN DAGScheduler: Broadcasting large task binary with size 26.4 MiB\n",
      "21/10/21 23:24:01 WARN DAGScheduler: Broadcasting large task binary with size 26.4 MiB\n",
      "21/10/21 23:24:03 WARN DAGScheduler: Broadcasting large task binary with size 26.4 MiB\n",
      "21/10/21 23:24:07 WARN DAGScheduler: Broadcasting large task binary with size 26.4 MiB\n",
      "21/10/21 23:24:12 WARN DAGScheduler: Broadcasting large task binary with size 26.4 MiB\n",
      "21/10/21 23:24:15 WARN DAGScheduler: Broadcasting large task binary with size 26.4 MiB\n",
      "21/10/21 23:24:17 WARN DAGScheduler: Broadcasting large task binary with size 26.4 MiB\n",
      "21/10/21 23:24:23 WARN DAGScheduler: Broadcasting large task binary with size 26.4 MiB\n",
      "21/10/21 23:24:34 WARN DAGScheduler: Broadcasting large task binary with size 26.4 MiB\n",
      "21/10/21 23:24:39 WARN DAGScheduler: Broadcasting large task binary with size 26.4 MiB\n",
      "21/10/21 23:24:41 WARN DAGScheduler: Broadcasting large task binary with size 26.4 MiB\n",
      "21/10/21 23:24:43 WARN DAGScheduler: Broadcasting large task binary with size 26.4 MiB\n",
      "21/10/21 23:24:48 WARN DAGScheduler: Broadcasting large task binary with size 26.4 MiB\n",
      "21/10/21 23:24:51 WARN DAGScheduler: Broadcasting large task binary with size 26.4 MiB\n",
      "21/10/21 23:24:53 WARN DAGScheduler: Broadcasting large task binary with size 26.4 MiB\n",
      "21/10/21 23:24:55 WARN DAGScheduler: Broadcasting large task binary with size 26.4 MiB\n"
     ]
    }
   ],
   "source": [
    "lr_model = pipeline.fit(trainDF)"
   ]
  },
  {
   "cell_type": "code",
   "execution_count": 33,
   "id": "a3132b55",
   "metadata": {},
   "outputs": [],
   "source": [
    "predictions = lr_model.transform(testDF)"
   ]
  },
  {
   "cell_type": "code",
   "execution_count": 34,
   "id": "8f670363",
   "metadata": {},
   "outputs": [],
   "source": [
    "predictions = predictions.select('fake','prediction')"
   ]
  },
  {
   "cell_type": "code",
   "execution_count": 35,
   "id": "952c29ff",
   "metadata": {},
   "outputs": [],
   "source": [
    "evaluator_accuracy = MulticlassClassificationEvaluator(labelCol='fake',predictionCol='prediction',metricName='accuracy')\n",
    "evaluator_f1 = MulticlassClassificationEvaluator(labelCol='fake',predictionCol='prediction',metricName='f1')\n",
    "evaluator_precision = MulticlassClassificationEvaluator(labelCol='fake',predictionCol='prediction',metricName='weightedPrecision')\n",
    "evaluator_recall = MulticlassClassificationEvaluator(labelCol='fake',predictionCol='prediction',metricName='weightedRecall')"
   ]
  },
  {
   "cell_type": "code",
   "execution_count": 36,
   "id": "d38f82f9",
   "metadata": {},
   "outputs": [
    {
     "name": "stderr",
     "output_type": "stream",
     "text": [
      "21/10/21 23:25:44 WARN DAGScheduler: Broadcasting large task binary with size 28.7 MiB\n"
     ]
    },
    {
     "name": "stdout",
     "output_type": "stream",
     "text": [
      "Accuracy: 0.9720232877392038\n"
     ]
    },
    {
     "name": "stderr",
     "output_type": "stream",
     "text": [
      "21/10/21 23:26:48 WARN DAGScheduler: Broadcasting large task binary with size 28.7 MiB\n"
     ]
    },
    {
     "name": "stdout",
     "output_type": "stream",
     "text": [
      "F1: 0.9720037686883372\n"
     ]
    },
    {
     "name": "stderr",
     "output_type": "stream",
     "text": [
      "21/10/21 23:27:50 WARN DAGScheduler: Broadcasting large task binary with size 28.7 MiB\n"
     ]
    },
    {
     "name": "stdout",
     "output_type": "stream",
     "text": [
      "Precision: 0.971997792961933\n"
     ]
    },
    {
     "name": "stderr",
     "output_type": "stream",
     "text": [
      "21/10/21 23:28:42 WARN DAGScheduler: Broadcasting large task binary with size 28.7 MiB\n"
     ]
    },
    {
     "name": "stdout",
     "output_type": "stream",
     "text": [
      "Recall: 0.9720232877392039\n"
     ]
    }
   ],
   "source": [
    "print('Accuracy:', evaluator_accuracy.evaluate(predictions))\n",
    "print('F1:',evaluator_f1.evaluate(predictions))\n",
    "print('Precision:',evaluator_precision.evaluate(predictions))\n",
    "print('Recall:',evaluator_recall.evaluate(predictions))"
   ]
  },
  {
   "cell_type": "code",
   "execution_count": null,
   "id": "e60f0506",
   "metadata": {},
   "outputs": [],
   "source": []
  }
 ],
 "metadata": {
  "interpreter": {
   "hash": "857970f990130bbcaee778cf1846f7875676d945310dca1379fe4b5ef3d258a5"
  },
  "kernelspec": {
   "display_name": "Python 3.9.6 64-bit ('myenv': conda)",
   "name": "python3"
  },
  "language_info": {
   "codemirror_mode": {
    "name": "ipython",
    "version": 3
   },
   "file_extension": ".py",
   "mimetype": "text/x-python",
   "name": "python",
   "nbconvert_exporter": "python",
   "pygments_lexer": "ipython3",
   "version": "3.9.6"
  }
 },
 "nbformat": 4,
 "nbformat_minor": 5
}
