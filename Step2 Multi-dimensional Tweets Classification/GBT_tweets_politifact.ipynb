{
 "cells": [
  {
   "cell_type": "code",
   "execution_count": 4,
   "metadata": {},
   "outputs": [],
   "source": [
    "from pyspark import SparkContext,SparkConf\n",
    "from pyspark.sql import SparkSession \n",
    "from pyspark.sql.functions import *\n",
    "import pyspark.ml.feature\n",
    "from pyspark.ml.feature import Tokenizer,StopWordsRemover,CountVectorizer,IDF\n",
    "from pyspark.ml.linalg import Vectors\n",
    "from pyspark.ml.feature import VectorAssembler\n",
    "from pyspark.ml.classification import GBTClassifier\n",
    "from pyspark.ml import Pipeline \n",
    "\n",
    "from pyspark.ml.evaluation import MulticlassClassificationEvaluator\n",
    "\n",
    "import warnings\n",
    "warnings.filterwarnings(\"ignore\")"
   ]
  },
  {
   "cell_type": "markdown",
   "id": "c15e7f9a",
   "metadata": {},
   "source": [
    "Import necessary packages and read csv file. "
   ]
  },
  {
   "cell_type": "code",
   "execution_count": 5,
   "metadata": {},
   "outputs": [],
   "source": [
    "spark = SparkSession.builder.appName(\"Classifier\").config('spark.executor.memory','8G').config(\"spark.driver.memory\", \"8G\").getOrCreate()"
   ]
  },
  {
   "cell_type": "code",
   "execution_count": 6,
   "metadata": {},
   "outputs": [
    {
     "name": "stderr",
     "output_type": "stream",
     "text": []
    }
   ],
   "source": [
    "df = spark.read.csv(\"politifact_tweets_processed.csv\",header=True, sep = ',',multiLine=True, escape = \"\\\"\",inferSchema =True)"
   ]
  },
  {
   "cell_type": "code",
   "execution_count": 7,
   "metadata": {},
   "outputs": [
    {
     "name": "stdout",
     "output_type": "stream",
     "text": [
      "+------------------+-------------------+--------------+-------------+----------+--------------------+--------+---------------+--------------------+--------------------+----+-------+\n",
      "|          tweet_id|         created_at|favorite_count|retweet_count|   user_id|            location|verified|followers_count|              source|                text|fake|news_id|\n",
      "+------------------+-------------------+--------------+-------------+----------+--------------------+--------+---------------+--------------------+--------------------+----+-------+\n",
      "|         890268075|2008-08-17 15:47:34|             0|            0|  15189613|                null|   false|          113.0|  Twitter Web Client|'usa: The Long Ru...| 0.0|    636|\n",
      "|         890634203|2008-08-18 01:46:24|             0|            0|  15209631|                null|   false|           68.0|  Twitter Web Client|'d: The Long Run ...| 0.0|    636|\n",
      "|         889821427|2008-08-17 00:53:16|             0|            0|  14882359|          in my room|   false|           49.0|  Twitter Web Client|'From New York Ti...| 0.0|    636|\n",
      "|         890475518|2008-08-17 21:28:05|             0|            0|   7094562|                null|   false|          155.0|  Twitter Web Client|'New blog post: R...| 0.0|    636|\n",
      "|         957911564|2008-10-13 17:46:26|             0|            0|  15209631|                null|   false|           68.0|  Twitter Web Client|'d: The Long Run ...| 0.0|    636|\n",
      "|         889801941|2008-08-17 00:20:47|             0|            0|   1767741|From Sea to Shini...|    true|        84706.0|  Twitter Web Client|'The Long Run: Br...| 0.0|    636|\n",
      "|         890635043|2008-08-18 01:47:38|             0|            0|  14646765|             twitter|   false|          282.0|  Twitter Web Client|'twaboutMCCAIN&gt...| 0.0|    636|\n",
      "|         890092336|2008-08-17 09:53:16|             0|            0|  14882359|          in my room|   false|           49.0|  Twitter Web Client|'From New York Ti...| 0.0|    636|\n",
      "|         890267421|2008-08-17 15:46:37|             0|            0|  15209631|                null|   false|           68.0|  Twitter Web Client|'d: The Long Run ...| 0.0|    636|\n",
      "|         890267921|2008-08-17 15:47:19|             0|            0|  14646765|             twitter|   false|          282.0|  Twitter Web Client|'twaboutMCCAIN&gt...| 0.0|    636|\n",
      "|         889817855|2008-08-17 00:47:35|             0|            0|    807095|       New York City|    true|    5.0695003E7|  Twitter Web Client|'The Long Run: Re...| 0.0|    636|\n",
      "|258650144722001920|2012-10-17 19:26:14|             0|            0| 327579746|    Aurora, Colorado|   false|           13.0|Twitter for Websites|'PolitiFact | Bar...| 0.0|   8838|\n",
      "| 47699081912532992|2011-03-15 16:42:01|             0|            0|  22707692|Westchester Count...|   false|         2672.0|Twitter for Websites|'PolitiFact | Bar...| 0.0|   8838|\n",
      "|108273790747807744|2011-08-29 20:24:18|             0|            0| 330771231|         Phoenix, AZ|   false|         1648.0|Twitter for Websites|'PolitiFact | Bar...| 0.0|   8838|\n",
      "| 63038811898249216|2011-04-27 00:36:38|             0|            0| 115730854|         Atlanta, GA|   false|           36.0|Twitter for Websites|'PolitiFact | Big...| 0.0|   8838|\n",
      "| 47687240150822912|2011-03-15 15:54:58|             0|            0|  28748436|39.9284959,-86.14...|   false|          286.0|Twitter for Websites|'Barack Obama say...| 0.0|   8838|\n",
      "| 53186786549182464|2011-03-30 20:08:12|             0|            0|  24600048|            Colorado|   false|         4649.0|Twitter for Websites|'PolitiFact | Bar...| 0.0|   8838|\n",
      "| 47701207480938496|2011-03-15 16:50:28|             0|            0| 180854109|               Texas|   false|          373.0|Twitter for Websites|'PolitiFact | Bar...| 0.0|   8838|\n",
      "|435151103160623104|2014-02-16 20:38:02|             0|            0|2250880501|                null|   false|            9.0|   Housing Sites App|'Bakken Housing N...| 0.0|   8838|\n",
      "|101265706972221440|2011-08-10 12:16:40|             0|            0| 257571872| Uniondale, New York|   false|          321.0|  Twitter Web Client|'Results from Nat...| 0.0|    150|\n",
      "+------------------+-------------------+--------------+-------------+----------+--------------------+--------+---------------+--------------------+--------------------+----+-------+\n",
      "only showing top 20 rows\n",
      "\n"
     ]
    }
   ],
   "source": [
    "df.show()"
   ]
  },
  {
   "cell_type": "code",
   "execution_count": 8,
   "metadata": {},
   "outputs": [],
   "source": [
    "#df = df.select('news_id')"
   ]
  },
  {
   "cell_type": "code",
   "execution_count": 9,
   "metadata": {},
   "outputs": [
    {
     "data": {
      "text/plain": [
       "[('tweet_id', 'bigint'),\n",
       " ('created_at', 'string'),\n",
       " ('favorite_count', 'int'),\n",
       " ('retweet_count', 'int'),\n",
       " ('user_id', 'bigint'),\n",
       " ('location', 'string'),\n",
       " ('verified', 'boolean'),\n",
       " ('followers_count', 'double'),\n",
       " ('source', 'string'),\n",
       " ('text', 'string'),\n",
       " ('fake', 'double'),\n",
       " ('news_id', 'int')]"
      ]
     },
     "execution_count": 9,
     "metadata": {},
     "output_type": "execute_result"
    }
   ],
   "source": [
    "df.dtypes"
   ]
  },
  {
   "cell_type": "code",
   "execution_count": 10,
   "metadata": {},
   "outputs": [],
   "source": [
    "df = df.select('created_at','text','location','verified','source', 'followers_count','retweet_count','favorite_count','fake')"
   ]
  },
  {
   "cell_type": "markdown",
   "id": "2cec9fa2",
   "metadata": {},
   "source": [
    "select all the features we want"
   ]
  },
  {
   "cell_type": "code",
   "execution_count": 11,
   "metadata": {},
   "outputs": [],
   "source": [
    "df = df.withColumn('created_at', to_timestamp(col('created_at'), 'yyyy-MM-dd HH:mm:ss'))"
   ]
  },
  {
   "cell_type": "code",
   "execution_count": 12,
   "metadata": {},
   "outputs": [],
   "source": [
    "df = df.withColumn('created_at', df.created_at.cast(\"long\"))"
   ]
  },
  {
   "cell_type": "code",
   "execution_count": 13,
   "metadata": {},
   "outputs": [
    {
     "data": {
      "text/plain": [
       "[('created_at', 'bigint'),\n",
       " ('text', 'string'),\n",
       " ('location', 'string'),\n",
       " ('verified', 'boolean'),\n",
       " ('source', 'string'),\n",
       " ('followers_count', 'double'),\n",
       " ('retweet_count', 'int'),\n",
       " ('favorite_count', 'int'),\n",
       " ('fake', 'double')]"
      ]
     },
     "execution_count": 13,
     "metadata": {},
     "output_type": "execute_result"
    }
   ],
   "source": [
    "df.dtypes"
   ]
  },
  {
   "cell_type": "code",
   "execution_count": 14,
   "metadata": {},
   "outputs": [],
   "source": [
    "df = df.dropna(subset=('text'))"
   ]
  },
  {
   "cell_type": "code",
   "execution_count": 15,
   "metadata": {},
   "outputs": [],
   "source": [
    "df = df.fillna('null', subset = ('source', 'location'))"
   ]
  },
  {
   "cell_type": "markdown",
   "id": "0d021e1d",
   "metadata": {},
   "source": [
    "Vectorizer the string values"
   ]
  },
  {
   "cell_type": "code",
   "execution_count": 16,
   "metadata": {},
   "outputs": [],
   "source": [
    "tokenizer_text = Tokenizer(inputCol='text',outputCol='text1')\n",
    "stopwords_remover_text = StopWordsRemover(inputCol='text1',outputCol='text2')\n",
    "vectorizer_text = CountVectorizer(inputCol='text2',outputCol='text3')\n",
    "idf_text = IDF(inputCol='text3',outputCol='text_vc')"
   ]
  },
  {
   "cell_type": "code",
   "execution_count": 17,
   "metadata": {},
   "outputs": [],
   "source": [
    "tokenizer_location = Tokenizer(inputCol='location',outputCol='location1')\n",
    "stopwords_remover_location = StopWordsRemover(inputCol='location1',outputCol='location2')\n",
    "vectorizer_location = CountVectorizer(inputCol='location2',outputCol='location3')\n",
    "idf_location = IDF(inputCol='location3',outputCol='location_vc')"
   ]
  },
  {
   "cell_type": "code",
   "execution_count": 18,
   "metadata": {},
   "outputs": [],
   "source": [
    "tokenizer_source = Tokenizer(inputCol='source',outputCol='source1')\n",
    "stopwords_remover_source = StopWordsRemover(inputCol='source1',outputCol='source2')\n",
    "vectorizer_source = CountVectorizer(inputCol='source2',outputCol='source3')\n",
    "idf_source = IDF(inputCol='source3',outputCol='source_vc')"
   ]
  },
  {
   "cell_type": "code",
   "execution_count": 19,
   "metadata": {},
   "outputs": [],
   "source": [
    "(trainDF,testDF) = df.randomSplit((0.7,0.3),seed=42)"
   ]
  },
  {
   "cell_type": "code",
   "execution_count": 20,
   "metadata": {},
   "outputs": [],
   "source": [
    "input_cols = ['created_at','text_vc','location_vc','verified','source_vc', 'followers_count','retweet_count','favorite_count']"
   ]
  },
  {
   "cell_type": "code",
   "execution_count": 21,
   "metadata": {},
   "outputs": [],
   "source": [
    "assembler = VectorAssembler(inputCols=input_cols,outputCol=\"features\")"
   ]
  },
  {
   "cell_type": "markdown",
   "id": "f587dc44",
   "metadata": {},
   "source": [
    "Use GBT as the model. Pipeline all the steps"
   ]
  },
  {
   "cell_type": "code",
   "execution_count": 22,
   "metadata": {},
   "outputs": [],
   "source": [
    "gbt = GBTClassifier(featuresCol='features',labelCol='fake')"
   ]
  },
  {
   "cell_type": "code",
   "execution_count": 23,
   "metadata": {},
   "outputs": [],
   "source": [
    "pipeline = Pipeline(stages=[tokenizer_text,stopwords_remover_text,vectorizer_text,idf_text,\n",
    "                            tokenizer_source,stopwords_remover_source,vectorizer_source,idf_source,\n",
    "                            tokenizer_location,stopwords_remover_location,vectorizer_location,idf_location,\n",
    "                            assembler,gbt])"
   ]
  },
  {
   "cell_type": "code",
   "execution_count": 24,
   "metadata": {
    "pycharm": {
     "is_executing": true
    }
   },
   "outputs": [
    {
     "name": "stderr",
     "output_type": "stream",
     "text": [
      "21/10/22 12:19:37 WARN DAGScheduler: Broadcasting large task binary with size 4.1 MiB\n",
      "21/10/22 12:20:07 WARN DAGScheduler: Broadcasting large task binary with size 26.1 MiB\n",
      "21/10/22 12:20:11 WARN DAGScheduler: Broadcasting large task binary with size 26.1 MiB\n",
      "21/10/22 12:20:29 WARN DAGScheduler: Broadcasting large task binary with size 29.1 MiB\n",
      "21/10/22 12:22:45 WARN DAGScheduler: Broadcasting large task binary with size 1198.4 KiB\n",
      "21/10/22 12:22:47 WARN DAGScheduler: Broadcasting large task binary with size 31.6 MiB\n",
      "21/10/22 12:23:04 WARN MemoryStore: Not enough space to cache rdd_86_0 in memory! (computed 3.8 GiB so far)\n",
      "21/10/22 12:23:04 WARN BlockManager: Persisting block rdd_86_0 to disk instead.\n",
      "21/10/22 12:46:51 WARN MemoryStore: Not enough space to cache rdd_86_0 in memory! (computed 3.8 GiB so far)\n",
      "21/10/22 12:46:51 WARN MemoryStore: Not enough space to cache rdd_86_0 in memory! (computed 316.5 MiB so far)\n",
      "21/10/22 13:01:23 WARN DAGScheduler: Broadcasting large task binary with size 31.6 MiB\n",
      "21/10/22 13:01:30 WARN MemoryStore: Not enough space to cache rdd_86_0 in memory! (computed 3.8 GiB so far)\n",
      "21/10/22 13:10:59 WARN DAGScheduler: Broadcasting large task binary with size 31.6 MiB\n",
      "21/10/22 13:11:05 WARN MemoryStore: Not enough space to cache rdd_86_0 in memory! (computed 3.8 GiB so far)\n",
      "21/10/22 13:20:33 WARN DAGScheduler: Broadcasting large task binary with size 31.6 MiB\n",
      "21/10/22 13:20:38 WARN MemoryStore: Not enough space to cache rdd_86_0 in memory! (computed 3.8 GiB so far)\n",
      "21/10/22 13:29:45 WARN DAGScheduler: Broadcasting large task binary with size 31.6 MiB\n",
      "21/10/22 13:29:51 WARN MemoryStore: Not enough space to cache rdd_86_0 in memory! (computed 3.8 GiB so far)\n",
      "21/10/22 13:38:54 WARN DAGScheduler: Broadcasting large task binary with size 31.6 MiB\n",
      "21/10/22 13:39:02 WARN MemoryStore: Not enough space to cache rdd_86_0 in memory! (computed 3.8 GiB so far)\n",
      "21/10/22 13:39:02 WARN MemoryStore: Not enough space to cache rdd_86_0 in memory! (computed 316.5 MiB so far)\n",
      "21/10/22 13:39:02 WARN MemoryStore: Not enough space to cache rdd_86_0 in memory! (computed 19.7 MiB so far)\n",
      "21/10/22 13:57:45 WARN DAGScheduler: Broadcasting large task binary with size 31.6 MiB\n",
      "21/10/22 13:57:50 WARN MemoryStore: Not enough space to cache rdd_86_0 in memory! (computed 3.8 GiB so far)\n",
      "21/10/22 14:07:18 WARN DAGScheduler: Broadcasting large task binary with size 31.6 MiB\n",
      "21/10/22 14:07:26 WARN MemoryStore: Not enough space to cache rdd_86_0 in memory! (computed 3.8 GiB so far)\n",
      "21/10/22 14:16:55 WARN DAGScheduler: Broadcasting large task binary with size 31.6 MiB\n",
      "21/10/22 14:17:02 WARN MemoryStore: Not enough space to cache rdd_86_0 in memory! (computed 3.8 GiB so far)\n",
      "21/10/22 14:26:32 WARN DAGScheduler: Broadcasting large task binary with size 31.6 MiB\n",
      "21/10/22 14:26:38 WARN MemoryStore: Not enough space to cache rdd_86_0 in memory! (computed 3.8 GiB so far)\n",
      "21/10/22 14:36:10 WARN DAGScheduler: Broadcasting large task binary with size 31.6 MiB\n",
      "21/10/22 14:36:17 WARN MemoryStore: Not enough space to cache rdd_86_0 in memory! (computed 3.8 GiB so far)\n",
      "21/10/22 14:36:17 WARN MemoryStore: Not enough space to cache rdd_86_0 in memory! (computed 316.5 MiB so far)\n",
      "21/10/22 14:36:17 WARN MemoryStore: Not enough space to cache rdd_86_0 in memory! (computed 19.7 MiB so far)\n",
      "21/10/22 14:36:18 WARN MemoryStore: Not enough space to cache rdd_106_0 in memory! (computed 13.0 MiB so far)\n",
      "21/10/22 14:38:22 WARN MemoryStore: Not enough space to cache rdd_128_0 in memory! (computed 5.5 MiB so far)\n",
      "21/10/22 14:38:22 WARN BlockManager: Persisting block rdd_128_0 to disk instead.\n",
      "21/10/22 14:55:19 WARN DAGScheduler: Broadcasting large task binary with size 31.6 MiB\n",
      "21/10/22 14:55:24 WARN MemoryStore: Not enough space to cache rdd_86_0 in memory! (computed 3.8 GiB so far)\n",
      "21/10/22 15:05:03 WARN DAGScheduler: Broadcasting large task binary with size 31.6 MiB\n",
      "21/10/22 15:05:11 WARN MemoryStore: Not enough space to cache rdd_86_0 in memory! (computed 3.8 GiB so far)\n",
      "21/10/22 15:14:47 WARN DAGScheduler: Broadcasting large task binary with size 31.6 MiB\n",
      "21/10/22 15:14:56 WARN MemoryStore: Not enough space to cache rdd_86_0 in memory! (computed 3.8 GiB so far)\n",
      "21/10/22 15:24:28 WARN DAGScheduler: Broadcasting large task binary with size 31.7 MiB\n",
      "21/10/22 15:24:33 WARN MemoryStore: Not enough space to cache rdd_86_0 in memory! (computed 3.8 GiB so far)\n",
      "21/10/22 15:34:02 WARN DAGScheduler: Broadcasting large task binary with size 31.7 MiB\n",
      "21/10/22 15:34:10 WARN MemoryStore: Not enough space to cache rdd_86_0 in memory! (computed 3.8 GiB so far)\n",
      "21/10/22 15:34:10 WARN MemoryStore: Not enough space to cache rdd_86_0 in memory! (computed 316.5 MiB so far)\n",
      "21/10/22 15:34:11 WARN MemoryStore: Not enough space to cache rdd_86_0 in memory! (computed 19.7 MiB so far)\n",
      "21/10/22 15:34:11 WARN MemoryStore: Not enough space to cache rdd_128_0 in memory! (computed 13.0 MiB so far)\n",
      "21/10/22 15:36:23 WARN MemoryStore: Not enough space to cache rdd_150_0 in memory! (computed 5.5 MiB so far)\n",
      "21/10/22 15:36:23 WARN BlockManager: Persisting block rdd_150_0 to disk instead.\n",
      "21/10/22 15:52:14 WARN DAGScheduler: Broadcasting large task binary with size 31.7 MiB\n",
      "21/10/22 15:52:19 WARN MemoryStore: Not enough space to cache rdd_86_0 in memory! (computed 3.8 GiB so far)\n",
      "21/10/22 16:01:52 WARN DAGScheduler: Broadcasting large task binary with size 31.7 MiB\n",
      "21/10/22 16:02:01 WARN MemoryStore: Not enough space to cache rdd_86_0 in memory! (computed 3.8 GiB so far)\n",
      "21/10/22 16:11:48 WARN DAGScheduler: Broadcasting large task binary with size 31.7 MiB\n",
      "21/10/22 16:11:57 WARN MemoryStore: Not enough space to cache rdd_86_0 in memory! (computed 3.8 GiB so far)\n",
      "21/10/22 16:21:52 WARN DAGScheduler: Broadcasting large task binary with size 31.7 MiB\n",
      "21/10/22 16:21:57 WARN MemoryStore: Not enough space to cache rdd_86_0 in memory! (computed 3.8 GiB so far)\n",
      "21/10/22 16:31:35 WARN DAGScheduler: Broadcasting large task binary with size 31.7 MiB\n",
      "21/10/22 16:31:42 WARN MemoryStore: Not enough space to cache rdd_86_0 in memory! (computed 3.8 GiB so far)\n",
      "21/10/22 16:31:43 WARN MemoryStore: Not enough space to cache rdd_86_0 in memory! (computed 316.5 MiB so far)\n",
      "21/10/22 16:31:43 WARN MemoryStore: Not enough space to cache rdd_86_0 in memory! (computed 19.7 MiB so far)\n",
      "21/10/22 16:31:43 WARN MemoryStore: Not enough space to cache rdd_150_0 in memory! (computed 13.0 MiB so far)\n",
      "21/10/22 16:33:46 WARN MemoryStore: Not enough space to cache rdd_172_0 in memory! (computed 5.5 MiB so far)\n",
      "21/10/22 16:33:46 WARN BlockManager: Persisting block rdd_172_0 to disk instead.\n",
      "21/10/22 16:50:38 WARN DAGScheduler: Broadcasting large task binary with size 31.7 MiB\n",
      "21/10/22 16:50:43 WARN MemoryStore: Not enough space to cache rdd_86_0 in memory! (computed 3.8 GiB so far)\n",
      "21/10/22 17:00:15 WARN DAGScheduler: Broadcasting large task binary with size 31.7 MiB\n",
      "21/10/22 17:00:23 WARN MemoryStore: Not enough space to cache rdd_86_0 in memory! (computed 3.8 GiB so far)\n",
      "21/10/22 17:10:09 WARN DAGScheduler: Broadcasting large task binary with size 31.7 MiB\n",
      "21/10/22 17:10:16 WARN MemoryStore: Not enough space to cache rdd_86_0 in memory! (computed 3.8 GiB so far)\n",
      "21/10/22 17:19:53 WARN DAGScheduler: Broadcasting large task binary with size 31.7 MiB\n",
      "21/10/22 17:19:59 WARN MemoryStore: Not enough space to cache rdd_86_0 in memory! (computed 3.8 GiB so far)\n",
      "21/10/22 17:29:21 WARN DAGScheduler: Broadcasting large task binary with size 31.7 MiB\n",
      "21/10/22 17:29:28 WARN MemoryStore: Not enough space to cache rdd_86_0 in memory! (computed 3.8 GiB so far)\n",
      "21/10/22 17:29:30 WARN MemoryStore: Not enough space to cache rdd_86_0 in memory! (computed 316.5 MiB so far)\n",
      "21/10/22 17:29:30 WARN MemoryStore: Not enough space to cache rdd_86_0 in memory! (computed 19.7 MiB so far)\n",
      "21/10/22 17:29:30 WARN MemoryStore: Not enough space to cache rdd_172_0 in memory! (computed 13.0 MiB so far)\n",
      "21/10/22 17:31:37 WARN MemoryStore: Not enough space to cache rdd_194_0 in memory! (computed 5.5 MiB so far)\n",
      "21/10/22 17:31:37 WARN BlockManager: Persisting block rdd_194_0 to disk instead.\n",
      "21/10/22 17:48:41 WARN DAGScheduler: Broadcasting large task binary with size 31.7 MiB\n",
      "21/10/22 17:48:46 WARN MemoryStore: Not enough space to cache rdd_86_0 in memory! (computed 3.8 GiB so far)\n",
      "21/10/22 17:58:17 WARN DAGScheduler: Broadcasting large task binary with size 31.7 MiB\n",
      "21/10/22 17:58:25 WARN MemoryStore: Not enough space to cache rdd_86_0 in memory! (computed 3.8 GiB so far)\n",
      "21/10/22 18:08:08 WARN DAGScheduler: Broadcasting large task binary with size 31.7 MiB\n",
      "21/10/22 18:08:16 WARN MemoryStore: Not enough space to cache rdd_86_0 in memory! (computed 3.8 GiB so far)\n",
      "21/10/22 18:17:48 WARN DAGScheduler: Broadcasting large task binary with size 31.7 MiB\n",
      "21/10/22 18:17:55 WARN MemoryStore: Not enough space to cache rdd_86_0 in memory! (computed 3.8 GiB so far)\n",
      "21/10/22 18:27:20 WARN DAGScheduler: Broadcasting large task binary with size 31.7 MiB\n",
      "21/10/22 18:27:26 WARN MemoryStore: Not enough space to cache rdd_86_0 in memory! (computed 3.8 GiB so far)\n",
      "21/10/22 18:27:26 WARN MemoryStore: Not enough space to cache rdd_86_0 in memory! (computed 316.5 MiB so far)\n",
      "21/10/22 18:27:26 WARN MemoryStore: Not enough space to cache rdd_86_0 in memory! (computed 19.7 MiB so far)\n",
      "21/10/22 18:27:26 WARN MemoryStore: Not enough space to cache rdd_194_0 in memory! (computed 13.0 MiB so far)\n",
      "21/10/22 18:29:32 WARN MemoryStore: Not enough space to cache rdd_216_0 in memory! (computed 5.5 MiB so far)\n",
      "21/10/22 18:29:32 WARN BlockManager: Persisting block rdd_216_0 to disk instead.\n",
      "21/10/22 18:46:51 WARN DAGScheduler: Broadcasting large task binary with size 31.7 MiB\n",
      "21/10/22 18:46:58 WARN MemoryStore: Not enough space to cache rdd_86_0 in memory! (computed 3.8 GiB so far)\n",
      "21/10/22 18:56:55 WARN DAGScheduler: Broadcasting large task binary with size 31.7 MiB\n",
      "21/10/22 18:57:01 WARN MemoryStore: Not enough space to cache rdd_86_0 in memory! (computed 3.8 GiB so far)\n",
      "21/10/22 19:07:01 WARN DAGScheduler: Broadcasting large task binary with size 31.7 MiB\n",
      "21/10/22 19:07:09 WARN MemoryStore: Not enough space to cache rdd_86_0 in memory! (computed 3.8 GiB so far)\n",
      "21/10/22 19:17:24 WARN DAGScheduler: Broadcasting large task binary with size 31.7 MiB\n",
      "21/10/22 19:17:31 WARN MemoryStore: Not enough space to cache rdd_86_0 in memory! (computed 3.8 GiB so far)\n",
      "21/10/22 19:27:28 WARN DAGScheduler: Broadcasting large task binary with size 31.7 MiB\n",
      "21/10/22 19:27:34 WARN MemoryStore: Not enough space to cache rdd_86_0 in memory! (computed 3.8 GiB so far)\n",
      "21/10/22 19:27:34 WARN MemoryStore: Not enough space to cache rdd_86_0 in memory! (computed 316.5 MiB so far)\n",
      "21/10/22 19:27:34 WARN MemoryStore: Not enough space to cache rdd_86_0 in memory! (computed 19.7 MiB so far)\n",
      "21/10/22 19:27:34 WARN MemoryStore: Not enough space to cache rdd_216_0 in memory! (computed 13.0 MiB so far)\n",
      "21/10/22 19:29:45 WARN MemoryStore: Not enough space to cache rdd_238_0 in memory! (computed 5.5 MiB so far)\n",
      "21/10/22 19:29:45 WARN BlockManager: Persisting block rdd_238_0 to disk instead.\n",
      "21/10/22 19:47:44 WARN DAGScheduler: Broadcasting large task binary with size 31.7 MiB\n",
      "21/10/22 19:47:52 WARN MemoryStore: Not enough space to cache rdd_86_0 in memory! (computed 3.8 GiB so far)\n",
      "21/10/22 19:58:04 WARN DAGScheduler: Broadcasting large task binary with size 31.7 MiB\n",
      "21/10/22 19:58:10 WARN MemoryStore: Not enough space to cache rdd_86_0 in memory! (computed 3.8 GiB so far)\n",
      "21/10/22 20:07:57 WARN DAGScheduler: Broadcasting large task binary with size 31.7 MiB\n",
      "21/10/22 20:08:05 WARN MemoryStore: Not enough space to cache rdd_86_0 in memory! (computed 3.8 GiB so far)\n",
      "21/10/22 20:17:51 WARN DAGScheduler: Broadcasting large task binary with size 31.7 MiB\n",
      "21/10/22 20:17:58 WARN MemoryStore: Not enough space to cache rdd_86_0 in memory! (computed 3.8 GiB so far)\n",
      "21/10/22 20:27:45 WARN DAGScheduler: Broadcasting large task binary with size 31.7 MiB\n",
      "21/10/22 20:27:50 WARN MemoryStore: Not enough space to cache rdd_86_0 in memory! (computed 3.8 GiB so far)\n",
      "21/10/22 20:27:50 WARN MemoryStore: Not enough space to cache rdd_86_0 in memory! (computed 316.5 MiB so far)\n",
      "21/10/22 20:27:50 WARN MemoryStore: Not enough space to cache rdd_86_0 in memory! (computed 19.7 MiB so far)\n",
      "21/10/22 20:27:50 WARN MemoryStore: Not enough space to cache rdd_238_0 in memory! (computed 13.0 MiB so far)\n",
      "21/10/22 20:30:19 WARN MemoryStore: Not enough space to cache rdd_260_0 in memory! (computed 5.5 MiB so far)\n",
      "21/10/22 20:30:19 WARN BlockManager: Persisting block rdd_260_0 to disk instead.\n",
      "21/10/22 20:48:10 WARN DAGScheduler: Broadcasting large task binary with size 31.7 MiB\n",
      "21/10/22 20:48:19 WARN MemoryStore: Not enough space to cache rdd_86_0 in memory! (computed 3.8 GiB so far)\n",
      "21/10/22 20:58:09 WARN DAGScheduler: Broadcasting large task binary with size 31.7 MiB\n",
      "21/10/22 20:58:16 WARN MemoryStore: Not enough space to cache rdd_86_0 in memory! (computed 3.8 GiB so far)\n",
      "21/10/22 21:08:10 WARN DAGScheduler: Broadcasting large task binary with size 31.7 MiB\n",
      "21/10/22 21:08:19 WARN MemoryStore: Not enough space to cache rdd_86_0 in memory! (computed 3.8 GiB so far)\n",
      "21/10/22 21:17:55 WARN DAGScheduler: Broadcasting large task binary with size 31.7 MiB\n",
      "21/10/22 21:18:03 WARN MemoryStore: Not enough space to cache rdd_86_0 in memory! (computed 3.8 GiB so far)\n",
      "21/10/22 21:27:39 WARN DAGScheduler: Broadcasting large task binary with size 31.7 MiB\n",
      "21/10/22 21:27:45 WARN MemoryStore: Not enough space to cache rdd_86_0 in memory! (computed 3.8 GiB so far)\n",
      "21/10/22 21:27:45 WARN MemoryStore: Not enough space to cache rdd_86_0 in memory! (computed 316.5 MiB so far)\n",
      "21/10/22 21:27:45 WARN MemoryStore: Not enough space to cache rdd_86_0 in memory! (computed 19.7 MiB so far)\n",
      "21/10/22 21:27:45 WARN MemoryStore: Not enough space to cache rdd_260_0 in memory! (computed 13.0 MiB so far)\n",
      "21/10/22 21:29:53 WARN MemoryStore: Not enough space to cache rdd_282_0 in memory! (computed 5.5 MiB so far)\n",
      "21/10/22 21:29:53 WARN BlockManager: Persisting block rdd_282_0 to disk instead.\n",
      "21/10/22 21:46:39 WARN DAGScheduler: Broadcasting large task binary with size 31.7 MiB\n",
      "21/10/22 21:46:45 WARN MemoryStore: Not enough space to cache rdd_86_0 in memory! (computed 3.8 GiB so far)\n",
      "21/10/22 21:56:19 WARN DAGScheduler: Broadcasting large task binary with size 31.7 MiB\n",
      "21/10/22 21:56:23 WARN MemoryStore: Not enough space to cache rdd_86_0 in memory! (computed 3.8 GiB so far)\n",
      "21/10/22 22:05:56 WARN DAGScheduler: Broadcasting large task binary with size 31.7 MiB\n",
      "21/10/22 22:06:02 WARN MemoryStore: Not enough space to cache rdd_86_0 in memory! (computed 3.8 GiB so far)\n",
      "21/10/22 22:15:37 WARN DAGScheduler: Broadcasting large task binary with size 31.7 MiB\n",
      "21/10/22 22:15:44 WARN MemoryStore: Not enough space to cache rdd_86_0 in memory! (computed 3.8 GiB so far)\n",
      "21/10/22 22:25:16 WARN DAGScheduler: Broadcasting large task binary with size 31.7 MiB\n",
      "21/10/22 22:25:21 WARN MemoryStore: Not enough space to cache rdd_86_0 in memory! (computed 3.8 GiB so far)\n",
      "21/10/22 22:25:24 WARN MemoryStore: Not enough space to cache rdd_86_0 in memory! (computed 316.5 MiB so far)\n",
      "21/10/22 22:25:24 WARN MemoryStore: Not enough space to cache rdd_86_0 in memory! (computed 19.7 MiB so far)\n",
      "21/10/22 22:25:24 WARN MemoryStore: Not enough space to cache rdd_282_0 in memory! (computed 13.0 MiB so far)\n",
      "21/10/22 22:27:58 WARN MemoryStore: Not enough space to cache rdd_304_0 in memory! (computed 5.5 MiB so far)\n",
      "21/10/22 22:27:58 WARN BlockManager: Persisting block rdd_304_0 to disk instead.\n",
      "21/10/22 22:45:20 WARN DAGScheduler: Broadcasting large task binary with size 31.7 MiB\n",
      "21/10/22 22:45:26 WARN MemoryStore: Not enough space to cache rdd_86_0 in memory! (computed 3.8 GiB so far)\n",
      "21/10/22 22:54:59 WARN DAGScheduler: Broadcasting large task binary with size 31.7 MiB\n",
      "21/10/22 22:55:04 WARN MemoryStore: Not enough space to cache rdd_86_0 in memory! (computed 3.8 GiB so far)\n",
      "21/10/22 23:04:34 WARN DAGScheduler: Broadcasting large task binary with size 31.7 MiB\n",
      "21/10/22 23:04:42 WARN MemoryStore: Not enough space to cache rdd_86_0 in memory! (computed 3.8 GiB so far)\n",
      "21/10/22 23:14:26 WARN DAGScheduler: Broadcasting large task binary with size 31.7 MiB\n",
      "21/10/22 23:14:34 WARN MemoryStore: Not enough space to cache rdd_86_0 in memory! (computed 3.8 GiB so far)\n",
      "21/10/22 23:24:15 WARN DAGScheduler: Broadcasting large task binary with size 31.7 MiB\n",
      "21/10/22 23:24:21 WARN MemoryStore: Not enough space to cache rdd_86_0 in memory! (computed 3.8 GiB so far)\n",
      "21/10/22 23:24:22 WARN MemoryStore: Not enough space to cache rdd_86_0 in memory! (computed 316.5 MiB so far)\n",
      "21/10/22 23:24:22 WARN MemoryStore: Not enough space to cache rdd_86_0 in memory! (computed 19.7 MiB so far)\n",
      "21/10/22 23:24:22 WARN MemoryStore: Not enough space to cache rdd_304_0 in memory! (computed 13.0 MiB so far)\n",
      "21/10/22 23:26:26 WARN MemoryStore: Not enough space to cache rdd_326_0 in memory! (computed 5.5 MiB so far)\n",
      "21/10/22 23:26:26 WARN BlockManager: Persisting block rdd_326_0 to disk instead.\n",
      "21/10/22 23:42:44 WARN DAGScheduler: Broadcasting large task binary with size 31.7 MiB\n",
      "21/10/22 23:42:50 WARN MemoryStore: Not enough space to cache rdd_86_0 in memory! (computed 3.8 GiB so far)\n",
      "21/10/22 23:52:07 WARN DAGScheduler: Broadcasting large task binary with size 31.7 MiB\n",
      "21/10/22 23:52:12 WARN MemoryStore: Not enough space to cache rdd_86_0 in memory! (computed 3.8 GiB so far)\n",
      "21/10/23 00:01:28 WARN DAGScheduler: Broadcasting large task binary with size 31.7 MiB\n",
      "21/10/23 00:01:36 WARN MemoryStore: Not enough space to cache rdd_86_0 in memory! (computed 3.8 GiB so far)\n",
      "21/10/23 00:11:39 WARN DAGScheduler: Broadcasting large task binary with size 31.7 MiB\n",
      "21/10/23 00:11:48 WARN MemoryStore: Not enough space to cache rdd_86_0 in memory! (computed 3.8 GiB so far)\n",
      "21/10/23 00:20:48 WARN DAGScheduler: Broadcasting large task binary with size 31.7 MiB\n",
      "21/10/23 00:20:54 WARN MemoryStore: Not enough space to cache rdd_86_0 in memory! (computed 3.8 GiB so far)\n",
      "21/10/23 00:20:55 WARN MemoryStore: Not enough space to cache rdd_86_0 in memory! (computed 316.5 MiB so far)\n",
      "21/10/23 00:20:55 WARN MemoryStore: Not enough space to cache rdd_86_0 in memory! (computed 19.7 MiB so far)\n",
      "21/10/23 00:20:55 WARN MemoryStore: Not enough space to cache rdd_326_0 in memory! (computed 13.0 MiB so far)\n",
      "21/10/23 00:22:55 WARN MemoryStore: Not enough space to cache rdd_348_0 in memory! (computed 5.5 MiB so far)\n",
      "21/10/23 00:22:55 WARN BlockManager: Persisting block rdd_348_0 to disk instead.\n",
      "21/10/23 00:39:41 WARN DAGScheduler: Broadcasting large task binary with size 31.7 MiB\n",
      "21/10/23 00:39:47 WARN MemoryStore: Not enough space to cache rdd_86_0 in memory! (computed 3.8 GiB so far)\n",
      "21/10/23 00:49:39 WARN DAGScheduler: Broadcasting large task binary with size 31.7 MiB\n",
      "21/10/23 00:49:46 WARN MemoryStore: Not enough space to cache rdd_86_0 in memory! (computed 3.8 GiB so far)\n",
      "21/10/23 00:58:25 WARN DAGScheduler: Broadcasting large task binary with size 31.7 MiB\n",
      "21/10/23 00:58:33 WARN MemoryStore: Not enough space to cache rdd_86_0 in memory! (computed 3.8 GiB so far)\n",
      "21/10/23 01:08:04 WARN DAGScheduler: Broadcasting large task binary with size 31.7 MiB\n",
      "21/10/23 01:08:10 WARN MemoryStore: Not enough space to cache rdd_86_0 in memory! (computed 3.8 GiB so far)\n",
      "21/10/23 01:17:40 WARN DAGScheduler: Broadcasting large task binary with size 31.7 MiB\n",
      "21/10/23 01:17:44 WARN MemoryStore: Not enough space to cache rdd_86_0 in memory! (computed 3.8 GiB so far)\n",
      "21/10/23 01:17:45 WARN MemoryStore: Not enough space to cache rdd_86_0 in memory! (computed 316.5 MiB so far)\n",
      "21/10/23 01:17:45 WARN MemoryStore: Not enough space to cache rdd_86_0 in memory! (computed 19.7 MiB so far)\n",
      "21/10/23 01:17:45 WARN MemoryStore: Not enough space to cache rdd_348_0 in memory! (computed 13.0 MiB so far)\n",
      "21/10/23 01:19:52 WARN MemoryStore: Not enough space to cache rdd_370_0 in memory! (computed 5.5 MiB so far)\n",
      "21/10/23 01:19:52 WARN BlockManager: Persisting block rdd_370_0 to disk instead.\n",
      "21/10/23 01:36:34 WARN DAGScheduler: Broadcasting large task binary with size 31.7 MiB\n",
      "21/10/23 01:36:40 WARN MemoryStore: Not enough space to cache rdd_86_0 in memory! (computed 3.8 GiB so far)\n",
      "21/10/23 01:46:10 WARN DAGScheduler: Broadcasting large task binary with size 31.7 MiB\n",
      "21/10/23 01:46:15 WARN MemoryStore: Not enough space to cache rdd_86_0 in memory! (computed 3.8 GiB so far)\n",
      "21/10/23 01:55:41 WARN DAGScheduler: Broadcasting large task binary with size 31.7 MiB\n",
      "21/10/23 01:55:45 WARN MemoryStore: Not enough space to cache rdd_86_0 in memory! (computed 3.8 GiB so far)\n",
      "21/10/23 02:05:13 WARN DAGScheduler: Broadcasting large task binary with size 31.7 MiB\n",
      "21/10/23 02:05:20 WARN MemoryStore: Not enough space to cache rdd_86_0 in memory! (computed 3.8 GiB so far)\n",
      "21/10/23 02:14:50 WARN DAGScheduler: Broadcasting large task binary with size 31.7 MiB\n",
      "21/10/23 02:14:56 WARN MemoryStore: Not enough space to cache rdd_86_0 in memory! (computed 3.8 GiB so far)\n",
      "21/10/23 02:14:56 WARN MemoryStore: Not enough space to cache rdd_86_0 in memory! (computed 316.5 MiB so far)\n",
      "21/10/23 02:14:56 WARN MemoryStore: Not enough space to cache rdd_86_0 in memory! (computed 19.7 MiB so far)\n",
      "21/10/23 02:14:56 WARN MemoryStore: Not enough space to cache rdd_370_0 in memory! (computed 13.0 MiB so far)\n",
      "21/10/23 02:17:00 WARN MemoryStore: Not enough space to cache rdd_392_0 in memory! (computed 5.5 MiB so far)\n",
      "21/10/23 02:17:00 WARN BlockManager: Persisting block rdd_392_0 to disk instead.\n",
      "21/10/23 02:33:47 WARN DAGScheduler: Broadcasting large task binary with size 31.7 MiB\n",
      "21/10/23 02:33:53 WARN MemoryStore: Not enough space to cache rdd_86_0 in memory! (computed 3.8 GiB so far)\n",
      "21/10/23 02:43:20 WARN DAGScheduler: Broadcasting large task binary with size 31.7 MiB\n",
      "21/10/23 02:43:26 WARN MemoryStore: Not enough space to cache rdd_86_0 in memory! (computed 3.8 GiB so far)\n",
      "21/10/23 02:52:50 WARN DAGScheduler: Broadcasting large task binary with size 31.7 MiB\n",
      "21/10/23 02:52:54 WARN MemoryStore: Not enough space to cache rdd_86_0 in memory! (computed 3.8 GiB so far)\n",
      "21/10/23 03:02:18 WARN DAGScheduler: Broadcasting large task binary with size 31.7 MiB\n",
      "21/10/23 03:02:23 WARN MemoryStore: Not enough space to cache rdd_86_0 in memory! (computed 3.8 GiB so far)\n",
      "21/10/23 03:11:51 WARN DAGScheduler: Broadcasting large task binary with size 31.7 MiB\n",
      "21/10/23 03:11:56 WARN MemoryStore: Not enough space to cache rdd_86_0 in memory! (computed 3.8 GiB so far)\n",
      "21/10/23 03:11:56 WARN MemoryStore: Not enough space to cache rdd_86_0 in memory! (computed 316.5 MiB so far)\n",
      "21/10/23 03:11:56 WARN MemoryStore: Not enough space to cache rdd_86_0 in memory! (computed 19.7 MiB so far)\n",
      "21/10/23 03:11:57 WARN MemoryStore: Not enough space to cache rdd_392_0 in memory! (computed 13.0 MiB so far)\n",
      "21/10/23 03:14:01 WARN MemoryStore: Not enough space to cache rdd_414_0 in memory! (computed 5.5 MiB so far)\n",
      "21/10/23 03:14:01 WARN BlockManager: Persisting block rdd_414_0 to disk instead.\n",
      "21/10/23 03:30:37 WARN DAGScheduler: Broadcasting large task binary with size 31.7 MiB\n",
      "21/10/23 03:30:43 WARN MemoryStore: Not enough space to cache rdd_86_0 in memory! (computed 3.8 GiB so far)\n",
      "21/10/23 03:40:07 WARN DAGScheduler: Broadcasting large task binary with size 31.7 MiB\n",
      "21/10/23 03:40:12 WARN MemoryStore: Not enough space to cache rdd_86_0 in memory! (computed 3.8 GiB so far)\n",
      "21/10/23 03:49:40 WARN DAGScheduler: Broadcasting large task binary with size 31.7 MiB\n",
      "21/10/23 03:49:44 WARN MemoryStore: Not enough space to cache rdd_86_0 in memory! (computed 3.8 GiB so far)\n",
      "21/10/23 03:59:10 WARN DAGScheduler: Broadcasting large task binary with size 31.7 MiB\n",
      "21/10/23 03:59:15 WARN MemoryStore: Not enough space to cache rdd_86_0 in memory! (computed 3.8 GiB so far)\n",
      "21/10/23 04:08:41 WARN DAGScheduler: Broadcasting large task binary with size 31.7 MiB\n",
      "21/10/23 04:08:46 WARN MemoryStore: Not enough space to cache rdd_86_0 in memory! (computed 3.8 GiB so far)\n",
      "21/10/23 04:08:47 WARN MemoryStore: Not enough space to cache rdd_86_0 in memory! (computed 316.5 MiB so far)\n",
      "21/10/23 04:08:47 WARN MemoryStore: Not enough space to cache rdd_86_0 in memory! (computed 19.7 MiB so far)\n",
      "21/10/23 04:08:47 WARN MemoryStore: Not enough space to cache rdd_414_0 in memory! (computed 13.0 MiB so far)\n",
      "21/10/23 04:10:51 WARN MemoryStore: Not enough space to cache rdd_436_0 in memory! (computed 5.5 MiB so far)\n",
      "21/10/23 04:10:51 WARN BlockManager: Persisting block rdd_436_0 to disk instead.\n",
      "21/10/23 04:27:23 WARN DAGScheduler: Broadcasting large task binary with size 31.7 MiB\n",
      "21/10/23 04:27:26 WARN MemoryStore: Not enough space to cache rdd_86_0 in memory! (computed 3.8 GiB so far)\n",
      "21/10/23 04:36:49 WARN DAGScheduler: Broadcasting large task binary with size 31.7 MiB\n",
      "21/10/23 04:36:55 WARN MemoryStore: Not enough space to cache rdd_86_0 in memory! (computed 3.8 GiB so far)\n",
      "21/10/23 04:46:24 WARN DAGScheduler: Broadcasting large task binary with size 31.7 MiB\n",
      "21/10/23 04:46:30 WARN MemoryStore: Not enough space to cache rdd_86_0 in memory! (computed 3.8 GiB so far)\n",
      "21/10/23 04:55:58 WARN DAGScheduler: Broadcasting large task binary with size 31.7 MiB\n",
      "21/10/23 04:56:02 WARN MemoryStore: Not enough space to cache rdd_86_0 in memory! (computed 3.8 GiB so far)\n",
      "21/10/23 05:05:28 WARN DAGScheduler: Broadcasting large task binary with size 31.7 MiB\n",
      "21/10/23 05:05:34 WARN MemoryStore: Not enough space to cache rdd_86_0 in memory! (computed 3.8 GiB so far)\n",
      "21/10/23 05:05:34 WARN MemoryStore: Not enough space to cache rdd_86_0 in memory! (computed 316.5 MiB so far)\n",
      "21/10/23 05:05:34 WARN MemoryStore: Not enough space to cache rdd_86_0 in memory! (computed 19.7 MiB so far)\n",
      "21/10/23 05:05:35 WARN MemoryStore: Not enough space to cache rdd_436_0 in memory! (computed 13.0 MiB so far)\n",
      "21/10/23 05:07:39 WARN MemoryStore: Not enough space to cache rdd_458_0 in memory! (computed 5.5 MiB so far)\n",
      "21/10/23 05:07:39 WARN BlockManager: Persisting block rdd_458_0 to disk instead.\n",
      "21/10/23 05:24:14 WARN DAGScheduler: Broadcasting large task binary with size 31.7 MiB\n",
      "21/10/23 05:24:18 WARN MemoryStore: Not enough space to cache rdd_86_0 in memory! (computed 3.8 GiB so far)\n",
      "21/10/23 05:33:41 WARN DAGScheduler: Broadcasting large task binary with size 31.7 MiB\n",
      "21/10/23 05:33:48 WARN MemoryStore: Not enough space to cache rdd_86_0 in memory! (computed 3.8 GiB so far)\n",
      "21/10/23 05:43:15 WARN DAGScheduler: Broadcasting large task binary with size 31.7 MiB\n",
      "21/10/23 05:43:21 WARN MemoryStore: Not enough space to cache rdd_86_0 in memory! (computed 3.8 GiB so far)\n",
      "21/10/23 05:52:47 WARN DAGScheduler: Broadcasting large task binary with size 31.7 MiB\n",
      "21/10/23 05:52:51 WARN MemoryStore: Not enough space to cache rdd_86_0 in memory! (computed 3.8 GiB so far)\n",
      "21/10/23 06:02:16 WARN DAGScheduler: Broadcasting large task binary with size 31.7 MiB\n",
      "21/10/23 06:02:21 WARN MemoryStore: Not enough space to cache rdd_86_0 in memory! (computed 3.8 GiB so far)\n",
      "21/10/23 06:02:22 WARN MemoryStore: Not enough space to cache rdd_86_0 in memory! (computed 316.5 MiB so far)\n",
      "21/10/23 06:02:22 WARN MemoryStore: Not enough space to cache rdd_86_0 in memory! (computed 19.7 MiB so far)\n",
      "21/10/23 06:02:22 WARN MemoryStore: Not enough space to cache rdd_458_0 in memory! (computed 13.0 MiB so far)\n",
      "21/10/23 06:04:25 WARN MemoryStore: Not enough space to cache rdd_480_0 in memory! (computed 5.5 MiB so far)\n",
      "21/10/23 06:04:25 WARN BlockManager: Persisting block rdd_480_0 to disk instead.\n",
      "21/10/23 06:21:03 WARN DAGScheduler: Broadcasting large task binary with size 31.7 MiB\n",
      "21/10/23 06:21:07 WARN MemoryStore: Not enough space to cache rdd_86_0 in memory! (computed 3.8 GiB so far)\n",
      "21/10/23 06:30:32 WARN DAGScheduler: Broadcasting large task binary with size 31.7 MiB\n",
      "21/10/23 06:30:38 WARN MemoryStore: Not enough space to cache rdd_86_0 in memory! (computed 3.8 GiB so far)\n",
      "21/10/23 06:40:03 WARN DAGScheduler: Broadcasting large task binary with size 31.7 MiB\n",
      "21/10/23 06:40:08 WARN MemoryStore: Not enough space to cache rdd_86_0 in memory! (computed 3.8 GiB so far)\n",
      "21/10/23 06:49:35 WARN DAGScheduler: Broadcasting large task binary with size 31.7 MiB\n",
      "21/10/23 06:49:39 WARN MemoryStore: Not enough space to cache rdd_86_0 in memory! (computed 3.8 GiB so far)\n",
      "21/10/23 06:59:05 WARN DAGScheduler: Broadcasting large task binary with size 31.7 MiB\n",
      "21/10/23 06:59:11 WARN MemoryStore: Not enough space to cache rdd_86_0 in memory! (computed 3.8 GiB so far)\n",
      "21/10/23 06:59:11 WARN MemoryStore: Not enough space to cache rdd_86_0 in memory! (computed 316.5 MiB so far)\n",
      "21/10/23 06:59:12 WARN MemoryStore: Not enough space to cache rdd_86_0 in memory! (computed 19.7 MiB so far)\n",
      "21/10/23 06:59:12 WARN MemoryStore: Not enough space to cache rdd_480_0 in memory! (computed 13.0 MiB so far)\n",
      "21/10/23 07:01:17 WARN MemoryStore: Not enough space to cache rdd_502_0 in memory! (computed 5.5 MiB so far)\n",
      "21/10/23 07:01:17 WARN BlockManager: Persisting block rdd_502_0 to disk instead.\n",
      "21/10/23 07:17:52 WARN DAGScheduler: Broadcasting large task binary with size 31.8 MiB\n",
      "21/10/23 07:17:57 WARN MemoryStore: Not enough space to cache rdd_86_0 in memory! (computed 3.8 GiB so far)\n",
      "21/10/23 07:27:21 WARN DAGScheduler: Broadcasting large task binary with size 31.8 MiB\n",
      "21/10/23 07:27:25 WARN MemoryStore: Not enough space to cache rdd_86_0 in memory! (computed 3.8 GiB so far)\n",
      "21/10/23 07:36:50 WARN DAGScheduler: Broadcasting large task binary with size 31.8 MiB\n",
      "21/10/23 07:36:56 WARN MemoryStore: Not enough space to cache rdd_86_0 in memory! (computed 3.8 GiB so far)\n",
      "21/10/23 07:46:22 WARN DAGScheduler: Broadcasting large task binary with size 31.8 MiB\n",
      "21/10/23 07:46:27 WARN MemoryStore: Not enough space to cache rdd_86_0 in memory! (computed 3.8 GiB so far)\n"
     ]
    }
   ],
   "source": [
    "gbt_model = pipeline.fit(trainDF)"
   ]
  },
  {
   "cell_type": "code",
   "execution_count": 25,
   "metadata": {
    "pycharm": {
     "is_executing": true
    }
   },
   "outputs": [],
   "source": [
    "predictions = gbt_model.transform(testDF)"
   ]
  },
  {
   "cell_type": "code",
   "execution_count": 26,
   "metadata": {
    "pycharm": {
     "is_executing": true
    }
   },
   "outputs": [],
   "source": [
    "predictions = predictions.select('fake','prediction')"
   ]
  },
  {
   "cell_type": "code",
   "execution_count": 27,
   "metadata": {
    "pycharm": {
     "is_executing": true
    }
   },
   "outputs": [],
   "source": [
    "evaluator_accuracy = MulticlassClassificationEvaluator(labelCol='fake',predictionCol='prediction',metricName='accuracy')\n",
    "evaluator_f1 = MulticlassClassificationEvaluator(labelCol='fake',predictionCol='prediction',metricName='f1')\n",
    "evaluator_precision = MulticlassClassificationEvaluator(labelCol='fake',predictionCol='prediction',metricName='weightedPrecision')\n",
    "evaluator_recall = MulticlassClassificationEvaluator(labelCol='fake',predictionCol='prediction',metricName='weightedRecall')"
   ]
  },
  {
   "cell_type": "code",
   "execution_count": 28,
   "metadata": {
    "pycharm": {
     "is_executing": true
    }
   },
   "outputs": [
    {
     "name": "stderr",
     "output_type": "stream",
     "text": [
      "21/10/23 07:55:56 WARN DAGScheduler: Broadcasting large task binary with size 26.2 MiB\n",
      "21/10/23 07:55:58 WARN BLAS: Failed to load implementation from: com.github.fommil.netlib.NativeSystemBLAS\n",
      "21/10/23 07:55:58 WARN BLAS: Failed to load implementation from: com.github.fommil.netlib.NativeRefBLAS\n"
     ]
    },
    {
     "name": "stdout",
     "output_type": "stream",
     "text": [
      "Accuracy: 0.8883961275787915\n"
     ]
    },
    {
     "name": "stderr",
     "output_type": "stream",
     "text": [
      "21/10/23 07:56:05 WARN DAGScheduler: Broadcasting large task binary with size 26.2 MiB\n"
     ]
    },
    {
     "name": "stdout",
     "output_type": "stream",
     "text": [
      "F1: 0.8810972042119023\n"
     ]
    },
    {
     "name": "stderr",
     "output_type": "stream",
     "text": [
      "21/10/23 07:56:14 WARN DAGScheduler: Broadcasting large task binary with size 26.2 MiB\n"
     ]
    },
    {
     "name": "stdout",
     "output_type": "stream",
     "text": [
      "Precision: 0.8923251137983503\n"
     ]
    },
    {
     "name": "stderr",
     "output_type": "stream",
     "text": [
      "21/10/23 07:56:22 WARN DAGScheduler: Broadcasting large task binary with size 26.2 MiB\n"
     ]
    },
    {
     "name": "stdout",
     "output_type": "stream",
     "text": [
      "Recall: 0.8883961275787915\n"
     ]
    },
    {
     "name": "stderr",
     "output_type": "stream",
     "text": []
    }
   ],
   "source": [
    "print('Accuracy:', evaluator_accuracy.evaluate(predictions))\n",
    "print('F1:',evaluator_f1.evaluate(predictions))\n",
    "print('Precision:',evaluator_precision.evaluate(predictions))\n",
    "print('Recall:',evaluator_recall.evaluate(predictions))"
   ]
  }
 ],
 "metadata": {
  "interpreter": {
   "hash": "cd4b3cbc2e4b5e62ec39e2e605a557c785bc0e20381f0efb31a5162e9c9e6c88"
  },
  "kernelspec": {
   "display_name": "Python 3.8.5 64-bit ('pa1': conda)",
   "name": "python3"
  },
  "language_info": {
   "codemirror_mode": {
    "name": "ipython",
    "version": 3
   },
   "file_extension": ".py",
   "mimetype": "text/x-python",
   "name": "python",
   "nbconvert_exporter": "python",
   "pygments_lexer": "ipython3",
   "version": "3.8.5"
  }
 },
 "nbformat": 4,
 "nbformat_minor": 5
}
