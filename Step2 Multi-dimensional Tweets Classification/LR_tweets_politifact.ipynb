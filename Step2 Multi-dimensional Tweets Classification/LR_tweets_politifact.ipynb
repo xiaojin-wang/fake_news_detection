{
 "cells": [
  {
   "cell_type": "code",
   "execution_count": 1,
   "id": "6260e90d",
   "metadata": {},
   "outputs": [],
   "source": [
    "from pyspark import SparkContext,SparkConf\n",
    "from pyspark.sql import SparkSession \n",
    "from pyspark.sql.functions import *\n",
    "import pyspark.ml.feature\n",
    "from pyspark.ml.feature import Tokenizer,StopWordsRemover,CountVectorizer,IDF\n",
    "from pyspark.ml.linalg import Vectors\n",
    "from pyspark.ml.feature import VectorAssembler\n",
    "from pyspark.ml.classification import LogisticRegression\n",
    "from pyspark.ml import Pipeline \n",
    "\n",
    "from pyspark.ml.evaluation import MulticlassClassificationEvaluator\n"
   ]
  },
  {
   "cell_type": "code",
   "execution_count": 2,
   "metadata": {},
   "outputs": [],
   "source": [
    "import warnings\n",
    "warnings.filterwarnings(\"ignore\")"
   ]
  },
  {
   "cell_type": "code",
   "execution_count": 3,
   "metadata": {},
   "outputs": [
    {
     "name": "stderr",
     "output_type": "stream",
     "text": [
      "21/10/22 12:18:52 WARN NativeCodeLoader: Unable to load native-hadoop library for your platform... using builtin-java classes where applicable\n",
      "Using Spark's default log4j profile: org/apache/spark/log4j-defaults.properties\n",
      "Setting default log level to \"WARN\".\n",
      "To adjust logging level use sc.setLogLevel(newLevel). For SparkR, use setLogLevel(newLevel).\n",
      "21/10/22 12:18:53 WARN Utils: Service 'SparkUI' could not bind on port 4040. Attempting port 4041.\n"
     ]
    }
   ],
   "source": [
    "\n",
    "sc = SparkContext(\"local\",\"classifier\")"
   ]
  },
  {
   "cell_type": "code",
   "execution_count": 4,
   "metadata": {},
   "outputs": [],
   "source": [
    "spark = SparkSession.builder.appName(\"Classifier\").config('spark.executor.memory', '1G').getOrCreate()"
   ]
  },
  {
   "cell_type": "code",
   "execution_count": 5,
   "id": "fa344739",
   "metadata": {},
   "outputs": [
    {
     "name": "stderr",
     "output_type": "stream",
     "text": []
    }
   ],
   "source": [
    "df = spark.read.csv(\"data/politifact_tweets_processed.csv\",header=True, sep = ',',multiLine=True, escape = \"\\\"\",inferSchema =True)"
   ]
  },
  {
   "cell_type": "code",
   "execution_count": 6,
   "metadata": {},
   "outputs": [
    {
     "name": "stdout",
     "output_type": "stream",
     "text": [
      "+------------------+-------------------+--------------+-------------+----------+--------------------+--------+---------------+--------------------+--------------------+----+-------+\n",
      "|          tweet_id|         created_at|favorite_count|retweet_count|   user_id|            location|verified|followers_count|              source|                text|fake|news_id|\n",
      "+------------------+-------------------+--------------+-------------+----------+--------------------+--------+---------------+--------------------+--------------------+----+-------+\n",
      "|         890268075|2008-08-17 15:47:34|             0|            0|  15189613|                null|   false|          113.0|  Twitter Web Client|'usa: The Long Ru...| 0.0|    636|\n",
      "|         890634203|2008-08-18 01:46:24|             0|            0|  15209631|                null|   false|           68.0|  Twitter Web Client|'d: The Long Run ...| 0.0|    636|\n",
      "|         889821427|2008-08-17 00:53:16|             0|            0|  14882359|          in my room|   false|           49.0|  Twitter Web Client|'From New York Ti...| 0.0|    636|\n",
      "|         890475518|2008-08-17 21:28:05|             0|            0|   7094562|                null|   false|          155.0|  Twitter Web Client|'New blog post: R...| 0.0|    636|\n",
      "|         957911564|2008-10-13 17:46:26|             0|            0|  15209631|                null|   false|           68.0|  Twitter Web Client|'d: The Long Run ...| 0.0|    636|\n",
      "|         889801941|2008-08-17 00:20:47|             0|            0|   1767741|From Sea to Shini...|    true|        84706.0|  Twitter Web Client|'The Long Run: Br...| 0.0|    636|\n",
      "|         890635043|2008-08-18 01:47:38|             0|            0|  14646765|             twitter|   false|          282.0|  Twitter Web Client|'twaboutMCCAIN&gt...| 0.0|    636|\n",
      "|         890092336|2008-08-17 09:53:16|             0|            0|  14882359|          in my room|   false|           49.0|  Twitter Web Client|'From New York Ti...| 0.0|    636|\n",
      "|         890267421|2008-08-17 15:46:37|             0|            0|  15209631|                null|   false|           68.0|  Twitter Web Client|'d: The Long Run ...| 0.0|    636|\n",
      "|         890267921|2008-08-17 15:47:19|             0|            0|  14646765|             twitter|   false|          282.0|  Twitter Web Client|'twaboutMCCAIN&gt...| 0.0|    636|\n",
      "|         889817855|2008-08-17 00:47:35|             0|            0|    807095|       New York City|    true|    5.0695003E7|  Twitter Web Client|'The Long Run: Re...| 0.0|    636|\n",
      "|258650144722001920|2012-10-17 19:26:14|             0|            0| 327579746|    Aurora, Colorado|   false|           13.0|Twitter for Websites|'PolitiFact | Bar...| 0.0|   8838|\n",
      "| 47699081912532992|2011-03-15 16:42:01|             0|            0|  22707692|Westchester Count...|   false|         2672.0|Twitter for Websites|'PolitiFact | Bar...| 0.0|   8838|\n",
      "|108273790747807744|2011-08-29 20:24:18|             0|            0| 330771231|         Phoenix, AZ|   false|         1648.0|Twitter for Websites|'PolitiFact | Bar...| 0.0|   8838|\n",
      "| 63038811898249216|2011-04-27 00:36:38|             0|            0| 115730854|         Atlanta, GA|   false|           36.0|Twitter for Websites|'PolitiFact | Big...| 0.0|   8838|\n",
      "| 47687240150822912|2011-03-15 15:54:58|             0|            0|  28748436|39.9284959,-86.14...|   false|          286.0|Twitter for Websites|'Barack Obama say...| 0.0|   8838|\n",
      "| 53186786549182464|2011-03-30 20:08:12|             0|            0|  24600048|            Colorado|   false|         4649.0|Twitter for Websites|'PolitiFact | Bar...| 0.0|   8838|\n",
      "| 47701207480938496|2011-03-15 16:50:28|             0|            0| 180854109|               Texas|   false|          373.0|Twitter for Websites|'PolitiFact | Bar...| 0.0|   8838|\n",
      "|435151103160623104|2014-02-16 20:38:02|             0|            0|2250880501|                null|   false|            9.0|   Housing Sites App|'Bakken Housing N...| 0.0|   8838|\n",
      "|101265706972221440|2011-08-10 12:16:40|             0|            0| 257571872| Uniondale, New York|   false|          321.0|  Twitter Web Client|'Results from Nat...| 0.0|    150|\n",
      "+------------------+-------------------+--------------+-------------+----------+--------------------+--------+---------------+--------------------+--------------------+----+-------+\n",
      "only showing top 20 rows\n",
      "\n"
     ]
    }
   ],
   "source": [
    "df.show()"
   ]
  },
  {
   "cell_type": "code",
   "execution_count": 7,
   "id": "a604ae2d",
   "metadata": {},
   "outputs": [],
   "source": [
    "#df = df.select('news_id')"
   ]
  },
  {
   "cell_type": "code",
   "execution_count": 8,
   "id": "fa12ca96",
   "metadata": {},
   "outputs": [
    {
     "data": {
      "text/plain": [
       "[('tweet_id', 'bigint'),\n",
       " ('created_at', 'string'),\n",
       " ('favorite_count', 'int'),\n",
       " ('retweet_count', 'int'),\n",
       " ('user_id', 'bigint'),\n",
       " ('location', 'string'),\n",
       " ('verified', 'boolean'),\n",
       " ('followers_count', 'double'),\n",
       " ('source', 'string'),\n",
       " ('text', 'string'),\n",
       " ('fake', 'double'),\n",
       " ('news_id', 'int')]"
      ]
     },
     "execution_count": 8,
     "metadata": {},
     "output_type": "execute_result"
    }
   ],
   "source": [
    "df.dtypes"
   ]
  },
  {
   "cell_type": "code",
   "execution_count": 9,
   "id": "b1eb3059",
   "metadata": {},
   "outputs": [],
   "source": [
    "df = df.select('created_at','text','location','verified','source', 'followers_count','retweet_count','favorite_count','fake')"
   ]
  },
  {
   "cell_type": "code",
   "execution_count": 10,
   "metadata": {},
   "outputs": [],
   "source": [
    "df = df.withColumn('created_at', to_timestamp(col('created_at'), 'yyyy-MM-dd HH:mm:ss'))"
   ]
  },
  {
   "cell_type": "code",
   "execution_count": 11,
   "metadata": {},
   "outputs": [],
   "source": [
    "df = df.withColumn('created_at', df.created_at.cast(\"long\"))"
   ]
  },
  {
   "cell_type": "code",
   "execution_count": 12,
   "metadata": {},
   "outputs": [
    {
     "data": {
      "text/plain": [
       "[('created_at', 'bigint'),\n",
       " ('text', 'string'),\n",
       " ('location', 'string'),\n",
       " ('verified', 'boolean'),\n",
       " ('source', 'string'),\n",
       " ('followers_count', 'double'),\n",
       " ('retweet_count', 'int'),\n",
       " ('favorite_count', 'int'),\n",
       " ('fake', 'double')]"
      ]
     },
     "execution_count": 12,
     "metadata": {},
     "output_type": "execute_result"
    }
   ],
   "source": [
    "df.dtypes"
   ]
  },
  {
   "cell_type": "code",
   "execution_count": 13,
   "id": "890ba2e6",
   "metadata": {},
   "outputs": [],
   "source": [
    "df = df.dropna(subset=('text'))"
   ]
  },
  {
   "cell_type": "code",
   "execution_count": 14,
   "metadata": {},
   "outputs": [],
   "source": [
    "df = df.fillna('null', subset = ('source', 'location'))"
   ]
  },
  {
   "cell_type": "code",
   "execution_count": 15,
   "id": "c93c0268",
   "metadata": {},
   "outputs": [],
   "source": [
    "tokenizer_text = Tokenizer(inputCol='text',outputCol='text1')\n",
    "stopwords_remover_text = StopWordsRemover(inputCol='text1',outputCol='text2')\n",
    "vectorizer_text = CountVectorizer(inputCol='text2',outputCol='text3')\n",
    "idf_text = IDF(inputCol='text3',outputCol='text_vc')"
   ]
  },
  {
   "cell_type": "code",
   "execution_count": 16,
   "id": "563d573c",
   "metadata": {},
   "outputs": [],
   "source": [
    "tokenizer_location = Tokenizer(inputCol='location',outputCol='location1')\n",
    "stopwords_remover_location = StopWordsRemover(inputCol='location1',outputCol='location2')\n",
    "vectorizer_location = CountVectorizer(inputCol='location2',outputCol='location3')\n",
    "idf_location = IDF(inputCol='location3',outputCol='location_vc')"
   ]
  },
  {
   "cell_type": "code",
   "execution_count": 17,
   "metadata": {},
   "outputs": [],
   "source": [
    "tokenizer_source = Tokenizer(inputCol='source',outputCol='source1')\n",
    "stopwords_remover_source = StopWordsRemover(inputCol='source1',outputCol='source2')\n",
    "vectorizer_source = CountVectorizer(inputCol='source2',outputCol='source3')\n",
    "idf_source = IDF(inputCol='source3',outputCol='source_vc')"
   ]
  },
  {
   "cell_type": "code",
   "execution_count": 18,
   "id": "828782bc",
   "metadata": {},
   "outputs": [],
   "source": [
    "(trainDF,testDF) = df.randomSplit((0.7,0.3),seed=42)"
   ]
  },
  {
   "cell_type": "code",
   "execution_count": 19,
   "metadata": {},
   "outputs": [],
   "source": [
    "input_cols = ['created_at','text_vc','location_vc','verified','source_vc', 'followers_count','retweet_count','favorite_count']"
   ]
  },
  {
   "cell_type": "code",
   "execution_count": 20,
   "id": "b4cc58cd",
   "metadata": {},
   "outputs": [],
   "source": [
    "assembler = VectorAssembler(inputCols=input_cols,outputCol=\"features\")"
   ]
  },
  {
   "cell_type": "code",
   "execution_count": 21,
   "id": "d772e823",
   "metadata": {},
   "outputs": [],
   "source": [
    "lr = LogisticRegression(featuresCol='features',labelCol='fake')"
   ]
  },
  {
   "cell_type": "code",
   "execution_count": 22,
   "id": "853acd6a",
   "metadata": {},
   "outputs": [],
   "source": [
    "pipeline = Pipeline(stages=[tokenizer_text,stopwords_remover_text,vectorizer_text,idf_text,\n",
    "                            tokenizer_source,stopwords_remover_source,vectorizer_source,idf_source,\n",
    "                            tokenizer_location,stopwords_remover_location,vectorizer_location,idf_location,\n",
    "                            assembler,lr])"
   ]
  },
  {
   "cell_type": "code",
   "execution_count": 23,
   "id": "4e85f2b1",
   "metadata": {},
   "outputs": [
    {
     "name": "stderr",
     "output_type": "stream",
     "text": [
      "21/10/22 12:19:16 WARN DAGScheduler: Broadcasting large task binary with size 4.1 MiB\n",
      "21/10/22 12:19:41 WARN DAGScheduler: Broadcasting large task binary with size 26.1 MiB\n",
      "21/10/22 12:19:54 WARN DAGScheduler: Broadcasting large task binary with size 26.1 MiB\n",
      "21/10/22 12:20:07 WARN BLAS: Failed to load implementation from: com.github.fommil.netlib.NativeSystemBLAS\n",
      "21/10/22 12:20:07 WARN BLAS: Failed to load implementation from: com.github.fommil.netlib.NativeRefBLAS\n",
      "21/10/22 12:20:08 WARN DAGScheduler: Broadcasting large task binary with size 26.1 MiB\n",
      "21/10/22 12:20:09 WARN DAGScheduler: Broadcasting large task binary with size 26.1 MiB\n",
      "21/10/22 12:20:11 WARN DAGScheduler: Broadcasting large task binary with size 26.1 MiB\n",
      "21/10/22 12:20:12 WARN DAGScheduler: Broadcasting large task binary with size 26.1 MiB\n",
      "21/10/22 12:20:14 WARN DAGScheduler: Broadcasting large task binary with size 26.1 MiB\n",
      "21/10/22 12:20:16 WARN DAGScheduler: Broadcasting large task binary with size 26.1 MiB\n",
      "21/10/22 12:20:17 WARN DAGScheduler: Broadcasting large task binary with size 26.1 MiB\n",
      "21/10/22 12:20:18 WARN DAGScheduler: Broadcasting large task binary with size 26.1 MiB\n",
      "21/10/22 12:20:20 WARN DAGScheduler: Broadcasting large task binary with size 26.1 MiB\n",
      "21/10/22 12:20:21 WARN DAGScheduler: Broadcasting large task binary with size 26.1 MiB\n",
      "21/10/22 12:20:22 WARN DAGScheduler: Broadcasting large task binary with size 26.1 MiB\n",
      "21/10/22 12:20:24 WARN DAGScheduler: Broadcasting large task binary with size 26.1 MiB\n",
      "21/10/22 12:20:25 WARN DAGScheduler: Broadcasting large task binary with size 26.1 MiB\n",
      "21/10/22 12:20:27 WARN DAGScheduler: Broadcasting large task binary with size 26.1 MiB\n",
      "21/10/22 12:20:28 WARN DAGScheduler: Broadcasting large task binary with size 26.1 MiB\n",
      "21/10/22 12:20:29 WARN DAGScheduler: Broadcasting large task binary with size 26.1 MiB\n",
      "21/10/22 12:20:31 WARN DAGScheduler: Broadcasting large task binary with size 26.1 MiB\n",
      "21/10/22 12:20:32 WARN DAGScheduler: Broadcasting large task binary with size 26.1 MiB\n",
      "21/10/22 12:20:34 WARN DAGScheduler: Broadcasting large task binary with size 26.1 MiB\n",
      "21/10/22 12:20:35 WARN DAGScheduler: Broadcasting large task binary with size 26.1 MiB\n",
      "21/10/22 12:20:36 WARN DAGScheduler: Broadcasting large task binary with size 26.1 MiB\n",
      "21/10/22 12:20:38 WARN DAGScheduler: Broadcasting large task binary with size 26.1 MiB\n",
      "21/10/22 12:20:39 WARN DAGScheduler: Broadcasting large task binary with size 26.1 MiB\n",
      "21/10/22 12:20:40 WARN DAGScheduler: Broadcasting large task binary with size 26.1 MiB\n",
      "21/10/22 12:20:42 WARN DAGScheduler: Broadcasting large task binary with size 26.1 MiB\n",
      "21/10/22 12:20:43 WARN DAGScheduler: Broadcasting large task binary with size 26.1 MiB\n",
      "21/10/22 12:20:44 WARN DAGScheduler: Broadcasting large task binary with size 26.1 MiB\n",
      "21/10/22 12:20:45 WARN DAGScheduler: Broadcasting large task binary with size 26.1 MiB\n",
      "21/10/22 12:20:47 WARN DAGScheduler: Broadcasting large task binary with size 26.1 MiB\n",
      "21/10/22 12:20:48 WARN DAGScheduler: Broadcasting large task binary with size 26.1 MiB\n",
      "21/10/22 12:20:49 WARN DAGScheduler: Broadcasting large task binary with size 26.1 MiB\n",
      "21/10/22 12:20:50 WARN DAGScheduler: Broadcasting large task binary with size 26.1 MiB\n",
      "21/10/22 12:20:51 WARN DAGScheduler: Broadcasting large task binary with size 26.1 MiB\n",
      "21/10/22 12:20:52 WARN DAGScheduler: Broadcasting large task binary with size 26.1 MiB\n",
      "21/10/22 12:20:53 WARN DAGScheduler: Broadcasting large task binary with size 26.1 MiB\n",
      "21/10/22 12:20:55 WARN DAGScheduler: Broadcasting large task binary with size 26.1 MiB\n",
      "21/10/22 12:20:56 WARN DAGScheduler: Broadcasting large task binary with size 26.1 MiB\n",
      "21/10/22 12:20:57 WARN DAGScheduler: Broadcasting large task binary with size 26.1 MiB\n",
      "21/10/22 12:20:58 WARN DAGScheduler: Broadcasting large task binary with size 26.1 MiB\n",
      "21/10/22 12:20:59 WARN DAGScheduler: Broadcasting large task binary with size 26.1 MiB\n",
      "21/10/22 12:21:00 WARN DAGScheduler: Broadcasting large task binary with size 26.1 MiB\n",
      "21/10/22 12:21:02 WARN DAGScheduler: Broadcasting large task binary with size 26.1 MiB\n",
      "21/10/22 12:21:03 WARN DAGScheduler: Broadcasting large task binary with size 26.1 MiB\n",
      "21/10/22 12:21:04 WARN DAGScheduler: Broadcasting large task binary with size 26.1 MiB\n",
      "21/10/22 12:21:05 WARN DAGScheduler: Broadcasting large task binary with size 26.1 MiB\n",
      "21/10/22 12:21:06 WARN DAGScheduler: Broadcasting large task binary with size 26.1 MiB\n",
      "21/10/22 12:21:08 WARN DAGScheduler: Broadcasting large task binary with size 26.1 MiB\n",
      "21/10/22 12:21:09 WARN DAGScheduler: Broadcasting large task binary with size 26.1 MiB\n",
      "21/10/22 12:21:10 WARN DAGScheduler: Broadcasting large task binary with size 26.1 MiB\n",
      "21/10/22 12:21:12 WARN DAGScheduler: Broadcasting large task binary with size 26.1 MiB\n",
      "21/10/22 12:21:13 WARN DAGScheduler: Broadcasting large task binary with size 26.1 MiB\n",
      "21/10/22 12:21:14 WARN DAGScheduler: Broadcasting large task binary with size 26.1 MiB\n",
      "21/10/22 12:21:15 WARN DAGScheduler: Broadcasting large task binary with size 26.1 MiB\n",
      "21/10/22 12:21:16 WARN DAGScheduler: Broadcasting large task binary with size 26.1 MiB\n",
      "21/10/22 12:21:17 WARN DAGScheduler: Broadcasting large task binary with size 26.1 MiB\n",
      "21/10/22 12:21:18 WARN DAGScheduler: Broadcasting large task binary with size 26.1 MiB\n",
      "21/10/22 12:21:20 WARN DAGScheduler: Broadcasting large task binary with size 26.1 MiB\n",
      "21/10/22 12:21:21 WARN DAGScheduler: Broadcasting large task binary with size 26.1 MiB\n",
      "21/10/22 12:21:22 WARN DAGScheduler: Broadcasting large task binary with size 26.1 MiB\n",
      "21/10/22 12:21:24 WARN DAGScheduler: Broadcasting large task binary with size 26.1 MiB\n",
      "21/10/22 12:21:25 WARN DAGScheduler: Broadcasting large task binary with size 26.1 MiB\n",
      "21/10/22 12:21:26 WARN DAGScheduler: Broadcasting large task binary with size 26.1 MiB\n",
      "21/10/22 12:21:28 WARN DAGScheduler: Broadcasting large task binary with size 26.1 MiB\n",
      "21/10/22 12:21:29 WARN DAGScheduler: Broadcasting large task binary with size 26.1 MiB\n",
      "21/10/22 12:21:31 WARN DAGScheduler: Broadcasting large task binary with size 26.1 MiB\n",
      "21/10/22 12:21:32 WARN DAGScheduler: Broadcasting large task binary with size 26.1 MiB\n",
      "21/10/22 12:21:33 WARN DAGScheduler: Broadcasting large task binary with size 26.1 MiB\n",
      "21/10/22 12:21:34 WARN DAGScheduler: Broadcasting large task binary with size 26.1 MiB\n",
      "21/10/22 12:21:36 WARN DAGScheduler: Broadcasting large task binary with size 26.1 MiB\n",
      "21/10/22 12:21:37 WARN DAGScheduler: Broadcasting large task binary with size 26.1 MiB\n",
      "21/10/22 12:21:38 WARN DAGScheduler: Broadcasting large task binary with size 26.1 MiB\n",
      "21/10/22 12:21:39 WARN DAGScheduler: Broadcasting large task binary with size 26.1 MiB\n",
      "21/10/22 12:21:40 WARN DAGScheduler: Broadcasting large task binary with size 26.1 MiB\n",
      "21/10/22 12:21:41 WARN DAGScheduler: Broadcasting large task binary with size 26.1 MiB\n",
      "21/10/22 12:21:42 WARN DAGScheduler: Broadcasting large task binary with size 26.1 MiB\n",
      "21/10/22 12:21:43 WARN DAGScheduler: Broadcasting large task binary with size 26.1 MiB\n",
      "21/10/22 12:21:45 WARN DAGScheduler: Broadcasting large task binary with size 26.1 MiB\n",
      "21/10/22 12:21:46 WARN DAGScheduler: Broadcasting large task binary with size 26.1 MiB\n",
      "21/10/22 12:21:48 WARN DAGScheduler: Broadcasting large task binary with size 26.1 MiB\n",
      "21/10/22 12:21:49 WARN DAGScheduler: Broadcasting large task binary with size 26.1 MiB\n",
      "21/10/22 12:21:51 WARN DAGScheduler: Broadcasting large task binary with size 26.1 MiB\n",
      "21/10/22 12:21:52 WARN DAGScheduler: Broadcasting large task binary with size 26.1 MiB\n",
      "21/10/22 12:21:53 WARN DAGScheduler: Broadcasting large task binary with size 26.1 MiB\n",
      "21/10/22 12:21:55 WARN DAGScheduler: Broadcasting large task binary with size 26.1 MiB\n",
      "21/10/22 12:21:57 WARN DAGScheduler: Broadcasting large task binary with size 26.1 MiB\n",
      "21/10/22 12:21:59 WARN DAGScheduler: Broadcasting large task binary with size 26.1 MiB\n",
      "21/10/22 12:22:01 WARN DAGScheduler: Broadcasting large task binary with size 26.1 MiB\n",
      "21/10/22 12:22:03 WARN DAGScheduler: Broadcasting large task binary with size 26.1 MiB\n",
      "21/10/22 12:22:05 WARN DAGScheduler: Broadcasting large task binary with size 26.1 MiB\n",
      "21/10/22 12:22:07 WARN DAGScheduler: Broadcasting large task binary with size 26.1 MiB\n",
      "21/10/22 12:22:09 WARN DAGScheduler: Broadcasting large task binary with size 26.1 MiB\n",
      "21/10/22 12:22:12 WARN DAGScheduler: Broadcasting large task binary with size 26.1 MiB\n",
      "21/10/22 12:22:14 WARN DAGScheduler: Broadcasting large task binary with size 26.1 MiB\n",
      "21/10/22 12:22:15 WARN DAGScheduler: Broadcasting large task binary with size 26.1 MiB\n",
      "21/10/22 12:22:17 WARN DAGScheduler: Broadcasting large task binary with size 26.1 MiB\n",
      "21/10/22 12:22:20 WARN DAGScheduler: Broadcasting large task binary with size 26.1 MiB\n",
      "21/10/22 12:22:22 WARN DAGScheduler: Broadcasting large task binary with size 26.1 MiB\n",
      "21/10/22 12:22:24 WARN DAGScheduler: Broadcasting large task binary with size 26.1 MiB\n",
      "21/10/22 12:22:26 WARN DAGScheduler: Broadcasting large task binary with size 26.1 MiB\n",
      "21/10/22 12:22:29 WARN DAGScheduler: Broadcasting large task binary with size 26.1 MiB\n",
      "21/10/22 12:22:31 WARN DAGScheduler: Broadcasting large task binary with size 26.1 MiB\n"
     ]
    }
   ],
   "source": [
    "lr_model = pipeline.fit(trainDF)"
   ]
  },
  {
   "cell_type": "code",
   "execution_count": 24,
   "id": "a3132b55",
   "metadata": {},
   "outputs": [],
   "source": [
    "predictions = lr_model.transform(testDF)"
   ]
  },
  {
   "cell_type": "code",
   "execution_count": 25,
   "id": "8f670363",
   "metadata": {},
   "outputs": [],
   "source": [
    "predictions = predictions.select('fake','prediction')"
   ]
  },
  {
   "cell_type": "code",
   "execution_count": 26,
   "id": "952c29ff",
   "metadata": {},
   "outputs": [],
   "source": [
    "evaluator_accuracy = MulticlassClassificationEvaluator(labelCol='fake',predictionCol='prediction',metricName='accuracy')\n",
    "evaluator_f1 = MulticlassClassificationEvaluator(labelCol='fake',predictionCol='prediction',metricName='f1')\n",
    "evaluator_precision = MulticlassClassificationEvaluator(labelCol='fake',predictionCol='prediction',metricName='weightedPrecision')\n",
    "evaluator_recall = MulticlassClassificationEvaluator(labelCol='fake',predictionCol='prediction',metricName='weightedRecall')"
   ]
  },
  {
   "cell_type": "code",
   "execution_count": 27,
   "id": "d38f82f9",
   "metadata": {},
   "outputs": [
    {
     "name": "stderr",
     "output_type": "stream",
     "text": [
      "21/10/22 12:22:36 WARN DAGScheduler: Broadcasting large task binary with size 28.4 MiB\n"
     ]
    },
    {
     "name": "stdout",
     "output_type": "stream",
     "text": [
      "Accuracy: 0.9609528235748214\n"
     ]
    },
    {
     "name": "stderr",
     "output_type": "stream",
     "text": [
      "21/10/22 12:22:46 WARN DAGScheduler: Broadcasting large task binary with size 28.4 MiB\n"
     ]
    },
    {
     "name": "stdout",
     "output_type": "stream",
     "text": [
      "F1 score: 0.9608444327485309\n"
     ]
    },
    {
     "name": "stderr",
     "output_type": "stream",
     "text": [
      "21/10/22 12:22:54 WARN DAGScheduler: Broadcasting large task binary with size 28.4 MiB\n"
     ]
    },
    {
     "name": "stdout",
     "output_type": "stream",
     "text": [
      "Precision: 0.9607886620012115\n"
     ]
    },
    {
     "name": "stderr",
     "output_type": "stream",
     "text": [
      "21/10/22 12:23:02 WARN DAGScheduler: Broadcasting large task binary with size 28.4 MiB\n"
     ]
    },
    {
     "name": "stdout",
     "output_type": "stream",
     "text": [
      "Recall: 0.9609528235748214\n"
     ]
    },
    {
     "name": "stderr",
     "output_type": "stream",
     "text": []
    }
   ],
   "source": [
    "print('Accuracy:', evaluator_accuracy.evaluate(predictions))\n",
    "print('F1 score:',evaluator_f1.evaluate(predictions))\n",
    "print('Precision:',evaluator_precision.evaluate(predictions))\n",
    "print('Recall:',evaluator_recall.evaluate(predictions))"
   ]
  },
  {
   "cell_type": "code",
   "execution_count": null,
   "id": "e60f0506",
   "metadata": {},
   "outputs": [],
   "source": []
  }
 ],
 "metadata": {
  "interpreter": {
   "hash": "857970f990130bbcaee778cf1846f7875676d945310dca1379fe4b5ef3d258a5"
  },
  "kernelspec": {
   "display_name": "Python 3.9.6 64-bit ('myenv': conda)",
   "name": "python3"
  },
  "language_info": {
   "codemirror_mode": {
    "name": "ipython",
    "version": 3
   },
   "file_extension": ".py",
   "mimetype": "text/x-python",
   "name": "python",
   "nbconvert_exporter": "python",
   "pygments_lexer": "ipython3",
   "version": "3.9.6"
  }
 },
 "nbformat": 4,
 "nbformat_minor": 5
}
